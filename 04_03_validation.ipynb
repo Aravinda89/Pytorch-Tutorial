{
  "nbformat": 4,
  "nbformat_minor": 0,
  "metadata": {
    "colab": {
      "name": "04_03_validation.ipynb",
      "provenance": [],
      "collapsed_sections": [],
      "include_colab_link": true
    },
    "language_info": {
      "codemirror_mode": {
        "name": "ipython",
        "version": 3
      },
      "file_extension": ".py",
      "mimetype": "text/x-python",
      "name": "python",
      "nbconvert_exporter": "python",
      "pygments_lexer": "ipython3",
      "version": "3.6.8"
    },
    "kernelspec": {
      "name": "python3",
      "display_name": "Python 3"
    },
    "accelerator": "GPU",
    "widgets": {
      "application/vnd.jupyter.widget-state+json": {
        "970d4f8dde3a4f349b1d14cc898c7cab": {
          "model_module": "@jupyter-widgets/controls",
          "model_name": "HBoxModel",
          "state": {
            "_view_name": "HBoxView",
            "_dom_classes": [],
            "_model_name": "HBoxModel",
            "_view_module": "@jupyter-widgets/controls",
            "_model_module_version": "1.5.0",
            "_view_count": null,
            "_view_module_version": "1.5.0",
            "box_style": "",
            "layout": "IPY_MODEL_6313ed2fd1ac49b4a18a2094c34d23e6",
            "_model_module": "@jupyter-widgets/controls",
            "children": [
              "IPY_MODEL_718c0a92fc1f419b91e7eea4c3f9df17",
              "IPY_MODEL_638965c0a56f4e078139ecf799f30082"
            ]
          }
        },
        "6313ed2fd1ac49b4a18a2094c34d23e6": {
          "model_module": "@jupyter-widgets/base",
          "model_name": "LayoutModel",
          "state": {
            "_view_name": "LayoutView",
            "grid_template_rows": null,
            "right": null,
            "justify_content": null,
            "_view_module": "@jupyter-widgets/base",
            "overflow": null,
            "_model_module_version": "1.2.0",
            "_view_count": null,
            "flex_flow": null,
            "width": null,
            "min_width": null,
            "border": null,
            "align_items": null,
            "bottom": null,
            "_model_module": "@jupyter-widgets/base",
            "top": null,
            "grid_column": null,
            "overflow_y": null,
            "overflow_x": null,
            "grid_auto_flow": null,
            "grid_area": null,
            "grid_template_columns": null,
            "flex": null,
            "_model_name": "LayoutModel",
            "justify_items": null,
            "grid_row": null,
            "max_height": null,
            "align_content": null,
            "visibility": null,
            "align_self": null,
            "height": null,
            "min_height": null,
            "padding": null,
            "grid_auto_rows": null,
            "grid_gap": null,
            "max_width": null,
            "order": null,
            "_view_module_version": "1.2.0",
            "grid_template_areas": null,
            "object_position": null,
            "object_fit": null,
            "grid_auto_columns": null,
            "margin": null,
            "display": null,
            "left": null
          }
        },
        "718c0a92fc1f419b91e7eea4c3f9df17": {
          "model_module": "@jupyter-widgets/controls",
          "model_name": "FloatProgressModel",
          "state": {
            "_view_name": "ProgressView",
            "style": "IPY_MODEL_263a0b02379d40b7a8a954e960be58b6",
            "_dom_classes": [],
            "description": "",
            "_model_name": "FloatProgressModel",
            "bar_style": "success",
            "max": 26421880,
            "_view_module": "@jupyter-widgets/controls",
            "_model_module_version": "1.5.0",
            "value": 26421880,
            "_view_count": null,
            "_view_module_version": "1.5.0",
            "orientation": "horizontal",
            "min": 0,
            "description_tooltip": null,
            "_model_module": "@jupyter-widgets/controls",
            "layout": "IPY_MODEL_3aae168ffbe84db9a81a4043d7c0fe34"
          }
        },
        "638965c0a56f4e078139ecf799f30082": {
          "model_module": "@jupyter-widgets/controls",
          "model_name": "HTMLModel",
          "state": {
            "_view_name": "HTMLView",
            "style": "IPY_MODEL_b4c07dbf162d4ac38c07e68df2b4e941",
            "_dom_classes": [],
            "description": "",
            "_model_name": "HTMLModel",
            "placeholder": "​",
            "_view_module": "@jupyter-widgets/controls",
            "_model_module_version": "1.5.0",
            "value": " 26422272/? [00:34&lt;00:00, 775855.88it/s]",
            "_view_count": null,
            "_view_module_version": "1.5.0",
            "description_tooltip": null,
            "_model_module": "@jupyter-widgets/controls",
            "layout": "IPY_MODEL_f1487787e29e47afbe859e984872cb23"
          }
        },
        "263a0b02379d40b7a8a954e960be58b6": {
          "model_module": "@jupyter-widgets/controls",
          "model_name": "ProgressStyleModel",
          "state": {
            "_view_name": "StyleView",
            "_model_name": "ProgressStyleModel",
            "description_width": "initial",
            "_view_module": "@jupyter-widgets/base",
            "_model_module_version": "1.5.0",
            "_view_count": null,
            "_view_module_version": "1.2.0",
            "bar_color": null,
            "_model_module": "@jupyter-widgets/controls"
          }
        },
        "3aae168ffbe84db9a81a4043d7c0fe34": {
          "model_module": "@jupyter-widgets/base",
          "model_name": "LayoutModel",
          "state": {
            "_view_name": "LayoutView",
            "grid_template_rows": null,
            "right": null,
            "justify_content": null,
            "_view_module": "@jupyter-widgets/base",
            "overflow": null,
            "_model_module_version": "1.2.0",
            "_view_count": null,
            "flex_flow": null,
            "width": null,
            "min_width": null,
            "border": null,
            "align_items": null,
            "bottom": null,
            "_model_module": "@jupyter-widgets/base",
            "top": null,
            "grid_column": null,
            "overflow_y": null,
            "overflow_x": null,
            "grid_auto_flow": null,
            "grid_area": null,
            "grid_template_columns": null,
            "flex": null,
            "_model_name": "LayoutModel",
            "justify_items": null,
            "grid_row": null,
            "max_height": null,
            "align_content": null,
            "visibility": null,
            "align_self": null,
            "height": null,
            "min_height": null,
            "padding": null,
            "grid_auto_rows": null,
            "grid_gap": null,
            "max_width": null,
            "order": null,
            "_view_module_version": "1.2.0",
            "grid_template_areas": null,
            "object_position": null,
            "object_fit": null,
            "grid_auto_columns": null,
            "margin": null,
            "display": null,
            "left": null
          }
        },
        "b4c07dbf162d4ac38c07e68df2b4e941": {
          "model_module": "@jupyter-widgets/controls",
          "model_name": "DescriptionStyleModel",
          "state": {
            "_view_name": "StyleView",
            "_model_name": "DescriptionStyleModel",
            "description_width": "",
            "_view_module": "@jupyter-widgets/base",
            "_model_module_version": "1.5.0",
            "_view_count": null,
            "_view_module_version": "1.2.0",
            "_model_module": "@jupyter-widgets/controls"
          }
        },
        "f1487787e29e47afbe859e984872cb23": {
          "model_module": "@jupyter-widgets/base",
          "model_name": "LayoutModel",
          "state": {
            "_view_name": "LayoutView",
            "grid_template_rows": null,
            "right": null,
            "justify_content": null,
            "_view_module": "@jupyter-widgets/base",
            "overflow": null,
            "_model_module_version": "1.2.0",
            "_view_count": null,
            "flex_flow": null,
            "width": null,
            "min_width": null,
            "border": null,
            "align_items": null,
            "bottom": null,
            "_model_module": "@jupyter-widgets/base",
            "top": null,
            "grid_column": null,
            "overflow_y": null,
            "overflow_x": null,
            "grid_auto_flow": null,
            "grid_area": null,
            "grid_template_columns": null,
            "flex": null,
            "_model_name": "LayoutModel",
            "justify_items": null,
            "grid_row": null,
            "max_height": null,
            "align_content": null,
            "visibility": null,
            "align_self": null,
            "height": null,
            "min_height": null,
            "padding": null,
            "grid_auto_rows": null,
            "grid_gap": null,
            "max_width": null,
            "order": null,
            "_view_module_version": "1.2.0",
            "grid_template_areas": null,
            "object_position": null,
            "object_fit": null,
            "grid_auto_columns": null,
            "margin": null,
            "display": null,
            "left": null
          }
        },
        "1217c90a84a44a2f89676162ff78e0ad": {
          "model_module": "@jupyter-widgets/controls",
          "model_name": "HBoxModel",
          "state": {
            "_view_name": "HBoxView",
            "_dom_classes": [],
            "_model_name": "HBoxModel",
            "_view_module": "@jupyter-widgets/controls",
            "_model_module_version": "1.5.0",
            "_view_count": null,
            "_view_module_version": "1.5.0",
            "box_style": "",
            "layout": "IPY_MODEL_2671009c10774525b769db37e600bee8",
            "_model_module": "@jupyter-widgets/controls",
            "children": [
              "IPY_MODEL_373ecae1b132455da8a03369554400f1",
              "IPY_MODEL_668a255ed4e24b9ca515d54f7465bcfd"
            ]
          }
        },
        "2671009c10774525b769db37e600bee8": {
          "model_module": "@jupyter-widgets/base",
          "model_name": "LayoutModel",
          "state": {
            "_view_name": "LayoutView",
            "grid_template_rows": null,
            "right": null,
            "justify_content": null,
            "_view_module": "@jupyter-widgets/base",
            "overflow": null,
            "_model_module_version": "1.2.0",
            "_view_count": null,
            "flex_flow": null,
            "width": null,
            "min_width": null,
            "border": null,
            "align_items": null,
            "bottom": null,
            "_model_module": "@jupyter-widgets/base",
            "top": null,
            "grid_column": null,
            "overflow_y": null,
            "overflow_x": null,
            "grid_auto_flow": null,
            "grid_area": null,
            "grid_template_columns": null,
            "flex": null,
            "_model_name": "LayoutModel",
            "justify_items": null,
            "grid_row": null,
            "max_height": null,
            "align_content": null,
            "visibility": null,
            "align_self": null,
            "height": null,
            "min_height": null,
            "padding": null,
            "grid_auto_rows": null,
            "grid_gap": null,
            "max_width": null,
            "order": null,
            "_view_module_version": "1.2.0",
            "grid_template_areas": null,
            "object_position": null,
            "object_fit": null,
            "grid_auto_columns": null,
            "margin": null,
            "display": null,
            "left": null
          }
        },
        "373ecae1b132455da8a03369554400f1": {
          "model_module": "@jupyter-widgets/controls",
          "model_name": "FloatProgressModel",
          "state": {
            "_view_name": "ProgressView",
            "style": "IPY_MODEL_0f32b614334948ac8db55d7e9d4437ec",
            "_dom_classes": [],
            "description": "",
            "_model_name": "FloatProgressModel",
            "bar_style": "success",
            "max": 29515,
            "_view_module": "@jupyter-widgets/controls",
            "_model_module_version": "1.5.0",
            "value": 29515,
            "_view_count": null,
            "_view_module_version": "1.5.0",
            "orientation": "horizontal",
            "min": 0,
            "description_tooltip": null,
            "_model_module": "@jupyter-widgets/controls",
            "layout": "IPY_MODEL_1d38cf341cb2489abe62b77a1ee4ce60"
          }
        },
        "668a255ed4e24b9ca515d54f7465bcfd": {
          "model_module": "@jupyter-widgets/controls",
          "model_name": "HTMLModel",
          "state": {
            "_view_name": "HTMLView",
            "style": "IPY_MODEL_5c716bdd9e634a97b521bb80e0773dbe",
            "_dom_classes": [],
            "description": "",
            "_model_name": "HTMLModel",
            "placeholder": "​",
            "_view_module": "@jupyter-widgets/controls",
            "_model_module_version": "1.5.0",
            "value": " 29696/? [00:02&lt;00:00, 10224.72it/s]",
            "_view_count": null,
            "_view_module_version": "1.5.0",
            "description_tooltip": null,
            "_model_module": "@jupyter-widgets/controls",
            "layout": "IPY_MODEL_9543408c582b42b2ad0dad9516810d37"
          }
        },
        "0f32b614334948ac8db55d7e9d4437ec": {
          "model_module": "@jupyter-widgets/controls",
          "model_name": "ProgressStyleModel",
          "state": {
            "_view_name": "StyleView",
            "_model_name": "ProgressStyleModel",
            "description_width": "initial",
            "_view_module": "@jupyter-widgets/base",
            "_model_module_version": "1.5.0",
            "_view_count": null,
            "_view_module_version": "1.2.0",
            "bar_color": null,
            "_model_module": "@jupyter-widgets/controls"
          }
        },
        "1d38cf341cb2489abe62b77a1ee4ce60": {
          "model_module": "@jupyter-widgets/base",
          "model_name": "LayoutModel",
          "state": {
            "_view_name": "LayoutView",
            "grid_template_rows": null,
            "right": null,
            "justify_content": null,
            "_view_module": "@jupyter-widgets/base",
            "overflow": null,
            "_model_module_version": "1.2.0",
            "_view_count": null,
            "flex_flow": null,
            "width": null,
            "min_width": null,
            "border": null,
            "align_items": null,
            "bottom": null,
            "_model_module": "@jupyter-widgets/base",
            "top": null,
            "grid_column": null,
            "overflow_y": null,
            "overflow_x": null,
            "grid_auto_flow": null,
            "grid_area": null,
            "grid_template_columns": null,
            "flex": null,
            "_model_name": "LayoutModel",
            "justify_items": null,
            "grid_row": null,
            "max_height": null,
            "align_content": null,
            "visibility": null,
            "align_self": null,
            "height": null,
            "min_height": null,
            "padding": null,
            "grid_auto_rows": null,
            "grid_gap": null,
            "max_width": null,
            "order": null,
            "_view_module_version": "1.2.0",
            "grid_template_areas": null,
            "object_position": null,
            "object_fit": null,
            "grid_auto_columns": null,
            "margin": null,
            "display": null,
            "left": null
          }
        },
        "5c716bdd9e634a97b521bb80e0773dbe": {
          "model_module": "@jupyter-widgets/controls",
          "model_name": "DescriptionStyleModel",
          "state": {
            "_view_name": "StyleView",
            "_model_name": "DescriptionStyleModel",
            "description_width": "",
            "_view_module": "@jupyter-widgets/base",
            "_model_module_version": "1.5.0",
            "_view_count": null,
            "_view_module_version": "1.2.0",
            "_model_module": "@jupyter-widgets/controls"
          }
        },
        "9543408c582b42b2ad0dad9516810d37": {
          "model_module": "@jupyter-widgets/base",
          "model_name": "LayoutModel",
          "state": {
            "_view_name": "LayoutView",
            "grid_template_rows": null,
            "right": null,
            "justify_content": null,
            "_view_module": "@jupyter-widgets/base",
            "overflow": null,
            "_model_module_version": "1.2.0",
            "_view_count": null,
            "flex_flow": null,
            "width": null,
            "min_width": null,
            "border": null,
            "align_items": null,
            "bottom": null,
            "_model_module": "@jupyter-widgets/base",
            "top": null,
            "grid_column": null,
            "overflow_y": null,
            "overflow_x": null,
            "grid_auto_flow": null,
            "grid_area": null,
            "grid_template_columns": null,
            "flex": null,
            "_model_name": "LayoutModel",
            "justify_items": null,
            "grid_row": null,
            "max_height": null,
            "align_content": null,
            "visibility": null,
            "align_self": null,
            "height": null,
            "min_height": null,
            "padding": null,
            "grid_auto_rows": null,
            "grid_gap": null,
            "max_width": null,
            "order": null,
            "_view_module_version": "1.2.0",
            "grid_template_areas": null,
            "object_position": null,
            "object_fit": null,
            "grid_auto_columns": null,
            "margin": null,
            "display": null,
            "left": null
          }
        },
        "67144a717cd14094b8d83291c260265e": {
          "model_module": "@jupyter-widgets/controls",
          "model_name": "HBoxModel",
          "state": {
            "_view_name": "HBoxView",
            "_dom_classes": [],
            "_model_name": "HBoxModel",
            "_view_module": "@jupyter-widgets/controls",
            "_model_module_version": "1.5.0",
            "_view_count": null,
            "_view_module_version": "1.5.0",
            "box_style": "",
            "layout": "IPY_MODEL_c78690e7dfbb4c308a0c70ff615b8d73",
            "_model_module": "@jupyter-widgets/controls",
            "children": [
              "IPY_MODEL_66ef08a60cf74fea98532c99d888e95a",
              "IPY_MODEL_5f0d4823044442dc90f4939d1784b12c"
            ]
          }
        },
        "c78690e7dfbb4c308a0c70ff615b8d73": {
          "model_module": "@jupyter-widgets/base",
          "model_name": "LayoutModel",
          "state": {
            "_view_name": "LayoutView",
            "grid_template_rows": null,
            "right": null,
            "justify_content": null,
            "_view_module": "@jupyter-widgets/base",
            "overflow": null,
            "_model_module_version": "1.2.0",
            "_view_count": null,
            "flex_flow": null,
            "width": null,
            "min_width": null,
            "border": null,
            "align_items": null,
            "bottom": null,
            "_model_module": "@jupyter-widgets/base",
            "top": null,
            "grid_column": null,
            "overflow_y": null,
            "overflow_x": null,
            "grid_auto_flow": null,
            "grid_area": null,
            "grid_template_columns": null,
            "flex": null,
            "_model_name": "LayoutModel",
            "justify_items": null,
            "grid_row": null,
            "max_height": null,
            "align_content": null,
            "visibility": null,
            "align_self": null,
            "height": null,
            "min_height": null,
            "padding": null,
            "grid_auto_rows": null,
            "grid_gap": null,
            "max_width": null,
            "order": null,
            "_view_module_version": "1.2.0",
            "grid_template_areas": null,
            "object_position": null,
            "object_fit": null,
            "grid_auto_columns": null,
            "margin": null,
            "display": null,
            "left": null
          }
        },
        "66ef08a60cf74fea98532c99d888e95a": {
          "model_module": "@jupyter-widgets/controls",
          "model_name": "FloatProgressModel",
          "state": {
            "_view_name": "ProgressView",
            "style": "IPY_MODEL_eb13f7294c464987a77ab8bf7a26d864",
            "_dom_classes": [],
            "description": "",
            "_model_name": "FloatProgressModel",
            "bar_style": "success",
            "max": 4422102,
            "_view_module": "@jupyter-widgets/controls",
            "_model_module_version": "1.5.0",
            "value": 4422102,
            "_view_count": null,
            "_view_module_version": "1.5.0",
            "orientation": "horizontal",
            "min": 0,
            "description_tooltip": null,
            "_model_module": "@jupyter-widgets/controls",
            "layout": "IPY_MODEL_39814e4d03a9423c96bbaae81d837cb3"
          }
        },
        "5f0d4823044442dc90f4939d1784b12c": {
          "model_module": "@jupyter-widgets/controls",
          "model_name": "HTMLModel",
          "state": {
            "_view_name": "HTMLView",
            "style": "IPY_MODEL_08d4d0c39403404981808c128e57535f",
            "_dom_classes": [],
            "description": "",
            "_model_name": "HTMLModel",
            "placeholder": "​",
            "_view_module": "@jupyter-widgets/controls",
            "_model_module_version": "1.5.0",
            "value": " 4422656/? [00:02&lt;00:00, 2054723.97it/s]",
            "_view_count": null,
            "_view_module_version": "1.5.0",
            "description_tooltip": null,
            "_model_module": "@jupyter-widgets/controls",
            "layout": "IPY_MODEL_fc1d6c49cae74b0abb3d92868c95364b"
          }
        },
        "eb13f7294c464987a77ab8bf7a26d864": {
          "model_module": "@jupyter-widgets/controls",
          "model_name": "ProgressStyleModel",
          "state": {
            "_view_name": "StyleView",
            "_model_name": "ProgressStyleModel",
            "description_width": "initial",
            "_view_module": "@jupyter-widgets/base",
            "_model_module_version": "1.5.0",
            "_view_count": null,
            "_view_module_version": "1.2.0",
            "bar_color": null,
            "_model_module": "@jupyter-widgets/controls"
          }
        },
        "39814e4d03a9423c96bbaae81d837cb3": {
          "model_module": "@jupyter-widgets/base",
          "model_name": "LayoutModel",
          "state": {
            "_view_name": "LayoutView",
            "grid_template_rows": null,
            "right": null,
            "justify_content": null,
            "_view_module": "@jupyter-widgets/base",
            "overflow": null,
            "_model_module_version": "1.2.0",
            "_view_count": null,
            "flex_flow": null,
            "width": null,
            "min_width": null,
            "border": null,
            "align_items": null,
            "bottom": null,
            "_model_module": "@jupyter-widgets/base",
            "top": null,
            "grid_column": null,
            "overflow_y": null,
            "overflow_x": null,
            "grid_auto_flow": null,
            "grid_area": null,
            "grid_template_columns": null,
            "flex": null,
            "_model_name": "LayoutModel",
            "justify_items": null,
            "grid_row": null,
            "max_height": null,
            "align_content": null,
            "visibility": null,
            "align_self": null,
            "height": null,
            "min_height": null,
            "padding": null,
            "grid_auto_rows": null,
            "grid_gap": null,
            "max_width": null,
            "order": null,
            "_view_module_version": "1.2.0",
            "grid_template_areas": null,
            "object_position": null,
            "object_fit": null,
            "grid_auto_columns": null,
            "margin": null,
            "display": null,
            "left": null
          }
        },
        "08d4d0c39403404981808c128e57535f": {
          "model_module": "@jupyter-widgets/controls",
          "model_name": "DescriptionStyleModel",
          "state": {
            "_view_name": "StyleView",
            "_model_name": "DescriptionStyleModel",
            "description_width": "",
            "_view_module": "@jupyter-widgets/base",
            "_model_module_version": "1.5.0",
            "_view_count": null,
            "_view_module_version": "1.2.0",
            "_model_module": "@jupyter-widgets/controls"
          }
        },
        "fc1d6c49cae74b0abb3d92868c95364b": {
          "model_module": "@jupyter-widgets/base",
          "model_name": "LayoutModel",
          "state": {
            "_view_name": "LayoutView",
            "grid_template_rows": null,
            "right": null,
            "justify_content": null,
            "_view_module": "@jupyter-widgets/base",
            "overflow": null,
            "_model_module_version": "1.2.0",
            "_view_count": null,
            "flex_flow": null,
            "width": null,
            "min_width": null,
            "border": null,
            "align_items": null,
            "bottom": null,
            "_model_module": "@jupyter-widgets/base",
            "top": null,
            "grid_column": null,
            "overflow_y": null,
            "overflow_x": null,
            "grid_auto_flow": null,
            "grid_area": null,
            "grid_template_columns": null,
            "flex": null,
            "_model_name": "LayoutModel",
            "justify_items": null,
            "grid_row": null,
            "max_height": null,
            "align_content": null,
            "visibility": null,
            "align_self": null,
            "height": null,
            "min_height": null,
            "padding": null,
            "grid_auto_rows": null,
            "grid_gap": null,
            "max_width": null,
            "order": null,
            "_view_module_version": "1.2.0",
            "grid_template_areas": null,
            "object_position": null,
            "object_fit": null,
            "grid_auto_columns": null,
            "margin": null,
            "display": null,
            "left": null
          }
        },
        "8d3c4e3bab8d4732bb497f15f75de115": {
          "model_module": "@jupyter-widgets/controls",
          "model_name": "HBoxModel",
          "state": {
            "_view_name": "HBoxView",
            "_dom_classes": [],
            "_model_name": "HBoxModel",
            "_view_module": "@jupyter-widgets/controls",
            "_model_module_version": "1.5.0",
            "_view_count": null,
            "_view_module_version": "1.5.0",
            "box_style": "",
            "layout": "IPY_MODEL_28ce2bdea89443999c2fc3622b909adc",
            "_model_module": "@jupyter-widgets/controls",
            "children": [
              "IPY_MODEL_dbe585f5faf2420791bfb7f3e5864d9e",
              "IPY_MODEL_8142fa626cad43548ac8ee72db1a9530"
            ]
          }
        },
        "28ce2bdea89443999c2fc3622b909adc": {
          "model_module": "@jupyter-widgets/base",
          "model_name": "LayoutModel",
          "state": {
            "_view_name": "LayoutView",
            "grid_template_rows": null,
            "right": null,
            "justify_content": null,
            "_view_module": "@jupyter-widgets/base",
            "overflow": null,
            "_model_module_version": "1.2.0",
            "_view_count": null,
            "flex_flow": null,
            "width": null,
            "min_width": null,
            "border": null,
            "align_items": null,
            "bottom": null,
            "_model_module": "@jupyter-widgets/base",
            "top": null,
            "grid_column": null,
            "overflow_y": null,
            "overflow_x": null,
            "grid_auto_flow": null,
            "grid_area": null,
            "grid_template_columns": null,
            "flex": null,
            "_model_name": "LayoutModel",
            "justify_items": null,
            "grid_row": null,
            "max_height": null,
            "align_content": null,
            "visibility": null,
            "align_self": null,
            "height": null,
            "min_height": null,
            "padding": null,
            "grid_auto_rows": null,
            "grid_gap": null,
            "max_width": null,
            "order": null,
            "_view_module_version": "1.2.0",
            "grid_template_areas": null,
            "object_position": null,
            "object_fit": null,
            "grid_auto_columns": null,
            "margin": null,
            "display": null,
            "left": null
          }
        },
        "dbe585f5faf2420791bfb7f3e5864d9e": {
          "model_module": "@jupyter-widgets/controls",
          "model_name": "FloatProgressModel",
          "state": {
            "_view_name": "ProgressView",
            "style": "IPY_MODEL_44b8b5606e2747d29c150e33343823ab",
            "_dom_classes": [],
            "description": "",
            "_model_name": "FloatProgressModel",
            "bar_style": "success",
            "max": 5148,
            "_view_module": "@jupyter-widgets/controls",
            "_model_module_version": "1.5.0",
            "value": 5148,
            "_view_count": null,
            "_view_module_version": "1.5.0",
            "orientation": "horizontal",
            "min": 0,
            "description_tooltip": null,
            "_model_module": "@jupyter-widgets/controls",
            "layout": "IPY_MODEL_6a9b6f0166154c96b15d74da026f3475"
          }
        },
        "8142fa626cad43548ac8ee72db1a9530": {
          "model_module": "@jupyter-widgets/controls",
          "model_name": "HTMLModel",
          "state": {
            "_view_name": "HTMLView",
            "style": "IPY_MODEL_883a2e3d20134c838b05ad2822439fc3",
            "_dom_classes": [],
            "description": "",
            "_model_name": "HTMLModel",
            "placeholder": "​",
            "_view_module": "@jupyter-widgets/controls",
            "_model_module_version": "1.5.0",
            "value": " 6144/? [00:00&lt;00:00, 28778.51it/s]",
            "_view_count": null,
            "_view_module_version": "1.5.0",
            "description_tooltip": null,
            "_model_module": "@jupyter-widgets/controls",
            "layout": "IPY_MODEL_19edf103b2024b19bf30dc8e56adb5f0"
          }
        },
        "44b8b5606e2747d29c150e33343823ab": {
          "model_module": "@jupyter-widgets/controls",
          "model_name": "ProgressStyleModel",
          "state": {
            "_view_name": "StyleView",
            "_model_name": "ProgressStyleModel",
            "description_width": "initial",
            "_view_module": "@jupyter-widgets/base",
            "_model_module_version": "1.5.0",
            "_view_count": null,
            "_view_module_version": "1.2.0",
            "bar_color": null,
            "_model_module": "@jupyter-widgets/controls"
          }
        },
        "6a9b6f0166154c96b15d74da026f3475": {
          "model_module": "@jupyter-widgets/base",
          "model_name": "LayoutModel",
          "state": {
            "_view_name": "LayoutView",
            "grid_template_rows": null,
            "right": null,
            "justify_content": null,
            "_view_module": "@jupyter-widgets/base",
            "overflow": null,
            "_model_module_version": "1.2.0",
            "_view_count": null,
            "flex_flow": null,
            "width": null,
            "min_width": null,
            "border": null,
            "align_items": null,
            "bottom": null,
            "_model_module": "@jupyter-widgets/base",
            "top": null,
            "grid_column": null,
            "overflow_y": null,
            "overflow_x": null,
            "grid_auto_flow": null,
            "grid_area": null,
            "grid_template_columns": null,
            "flex": null,
            "_model_name": "LayoutModel",
            "justify_items": null,
            "grid_row": null,
            "max_height": null,
            "align_content": null,
            "visibility": null,
            "align_self": null,
            "height": null,
            "min_height": null,
            "padding": null,
            "grid_auto_rows": null,
            "grid_gap": null,
            "max_width": null,
            "order": null,
            "_view_module_version": "1.2.0",
            "grid_template_areas": null,
            "object_position": null,
            "object_fit": null,
            "grid_auto_columns": null,
            "margin": null,
            "display": null,
            "left": null
          }
        },
        "883a2e3d20134c838b05ad2822439fc3": {
          "model_module": "@jupyter-widgets/controls",
          "model_name": "DescriptionStyleModel",
          "state": {
            "_view_name": "StyleView",
            "_model_name": "DescriptionStyleModel",
            "description_width": "",
            "_view_module": "@jupyter-widgets/base",
            "_model_module_version": "1.5.0",
            "_view_count": null,
            "_view_module_version": "1.2.0",
            "_model_module": "@jupyter-widgets/controls"
          }
        },
        "19edf103b2024b19bf30dc8e56adb5f0": {
          "model_module": "@jupyter-widgets/base",
          "model_name": "LayoutModel",
          "state": {
            "_view_name": "LayoutView",
            "grid_template_rows": null,
            "right": null,
            "justify_content": null,
            "_view_module": "@jupyter-widgets/base",
            "overflow": null,
            "_model_module_version": "1.2.0",
            "_view_count": null,
            "flex_flow": null,
            "width": null,
            "min_width": null,
            "border": null,
            "align_items": null,
            "bottom": null,
            "_model_module": "@jupyter-widgets/base",
            "top": null,
            "grid_column": null,
            "overflow_y": null,
            "overflow_x": null,
            "grid_auto_flow": null,
            "grid_area": null,
            "grid_template_columns": null,
            "flex": null,
            "_model_name": "LayoutModel",
            "justify_items": null,
            "grid_row": null,
            "max_height": null,
            "align_content": null,
            "visibility": null,
            "align_self": null,
            "height": null,
            "min_height": null,
            "padding": null,
            "grid_auto_rows": null,
            "grid_gap": null,
            "max_width": null,
            "order": null,
            "_view_module_version": "1.2.0",
            "grid_template_areas": null,
            "object_position": null,
            "object_fit": null,
            "grid_auto_columns": null,
            "margin": null,
            "display": null,
            "left": null
          }
        }
      }
    }
  },
  "cells": [
    {
      "cell_type": "markdown",
      "metadata": {
        "id": "view-in-github",
        "colab_type": "text"
      },
      "source": [
        "<a href=\"https://colab.research.google.com/github/Aravinda89/Pytorch-Tutorial/blob/main/04_03_validation.ipynb\" target=\"_parent\"><img src=\"https://colab.research.google.com/assets/colab-badge.svg\" alt=\"Open In Colab\"/></a>"
      ]
    },
    {
      "cell_type": "markdown",
      "metadata": {
        "id": "gXmCHcwKs6rd"
      },
      "source": [
        "# Validation"
      ]
    },
    {
      "cell_type": "code",
      "metadata": {
        "id": "PzCCniVwNTdp"
      },
      "source": [
        "# Setting seeds to try and ensure we have the same results - this is not guaranteed across PyTorch releases.\n",
        "import torch\n",
        "torch.manual_seed(0)\n",
        "torch.backends.cudnn.deterministic = True\n",
        "torch.backends.cudnn.benchmark = False\n",
        "\n",
        "import numpy as np\n",
        "np.random.seed(0)"
      ],
      "execution_count": 2,
      "outputs": []
    },
    {
      "cell_type": "code",
      "metadata": {
        "id": "PCJzXv0OK1Bs",
        "colab": {
          "base_uri": "https://localhost:8080/",
          "height": 568,
          "referenced_widgets": [
            "970d4f8dde3a4f349b1d14cc898c7cab",
            "6313ed2fd1ac49b4a18a2094c34d23e6",
            "718c0a92fc1f419b91e7eea4c3f9df17",
            "638965c0a56f4e078139ecf799f30082",
            "263a0b02379d40b7a8a954e960be58b6",
            "3aae168ffbe84db9a81a4043d7c0fe34",
            "b4c07dbf162d4ac38c07e68df2b4e941",
            "f1487787e29e47afbe859e984872cb23",
            "1217c90a84a44a2f89676162ff78e0ad",
            "2671009c10774525b769db37e600bee8",
            "373ecae1b132455da8a03369554400f1",
            "668a255ed4e24b9ca515d54f7465bcfd",
            "0f32b614334948ac8db55d7e9d4437ec",
            "1d38cf341cb2489abe62b77a1ee4ce60",
            "5c716bdd9e634a97b521bb80e0773dbe",
            "9543408c582b42b2ad0dad9516810d37",
            "67144a717cd14094b8d83291c260265e",
            "c78690e7dfbb4c308a0c70ff615b8d73",
            "66ef08a60cf74fea98532c99d888e95a",
            "5f0d4823044442dc90f4939d1784b12c",
            "eb13f7294c464987a77ab8bf7a26d864",
            "39814e4d03a9423c96bbaae81d837cb3",
            "08d4d0c39403404981808c128e57535f",
            "fc1d6c49cae74b0abb3d92868c95364b",
            "8d3c4e3bab8d4732bb497f15f75de115",
            "28ce2bdea89443999c2fc3622b909adc",
            "dbe585f5faf2420791bfb7f3e5864d9e",
            "8142fa626cad43548ac8ee72db1a9530",
            "44b8b5606e2747d29c150e33343823ab",
            "6a9b6f0166154c96b15d74da026f3475",
            "883a2e3d20134c838b05ad2822439fc3",
            "19edf103b2024b19bf30dc8e56adb5f0"
          ]
        },
        "outputId": "60192eb5-c26d-4ce7-d946-0c1916d77961"
      },
      "source": [
        "from torchvision import datasets, transforms\n",
        "import torch.nn.functional as F\n",
        "from torch import nn\n",
        "\n",
        "mean, std = (0.5,), (0.5,)\n",
        "\n",
        "# Create a transform and normalise data\n",
        "transform = transforms.Compose([transforms.ToTensor(),\n",
        "                                transforms.Normalize(mean, std)\n",
        "                              ])\n",
        "\n",
        "# Download FMNIST training dataset and load training data\n",
        "trainset = datasets.FashionMNIST('~/.pytorch/FMNIST/', download=True, train=True, transform=transform)\n",
        "trainloader = torch.utils.data.DataLoader(trainset, batch_size=64, shuffle=True)\n",
        "\n",
        "# Download FMNIST test dataset and load test data\n",
        "testset = datasets.FashionMNIST('~/.pytorch/FMNIST/', download=True, train=False, transform=transform)\n",
        "testloader = torch.utils.data.DataLoader(testset, batch_size=64, shuffle=False)"
      ],
      "execution_count": 3,
      "outputs": [
        {
          "output_type": "stream",
          "text": [
            "Downloading http://fashion-mnist.s3-website.eu-central-1.amazonaws.com/train-images-idx3-ubyte.gz\n",
            "Downloading http://fashion-mnist.s3-website.eu-central-1.amazonaws.com/train-images-idx3-ubyte.gz to /root/.pytorch/FMNIST/FashionMNIST/raw/train-images-idx3-ubyte.gz\n"
          ],
          "name": "stdout"
        },
        {
          "output_type": "display_data",
          "data": {
            "application/vnd.jupyter.widget-view+json": {
              "model_id": "970d4f8dde3a4f349b1d14cc898c7cab",
              "version_minor": 0,
              "version_major": 2
            },
            "text/plain": [
              "HBox(children=(FloatProgress(value=0.0, max=26421880.0), HTML(value='')))"
            ]
          },
          "metadata": {
            "tags": []
          }
        },
        {
          "output_type": "stream",
          "text": [
            "\n",
            "Extracting /root/.pytorch/FMNIST/FashionMNIST/raw/train-images-idx3-ubyte.gz to /root/.pytorch/FMNIST/FashionMNIST/raw\n",
            "\n",
            "Downloading http://fashion-mnist.s3-website.eu-central-1.amazonaws.com/train-labels-idx1-ubyte.gz\n",
            "Downloading http://fashion-mnist.s3-website.eu-central-1.amazonaws.com/train-labels-idx1-ubyte.gz to /root/.pytorch/FMNIST/FashionMNIST/raw/train-labels-idx1-ubyte.gz\n"
          ],
          "name": "stdout"
        },
        {
          "output_type": "display_data",
          "data": {
            "application/vnd.jupyter.widget-view+json": {
              "model_id": "1217c90a84a44a2f89676162ff78e0ad",
              "version_minor": 0,
              "version_major": 2
            },
            "text/plain": [
              "HBox(children=(FloatProgress(value=0.0, max=29515.0), HTML(value='')))"
            ]
          },
          "metadata": {
            "tags": []
          }
        },
        {
          "output_type": "stream",
          "text": [
            "\n",
            "Extracting /root/.pytorch/FMNIST/FashionMNIST/raw/train-labels-idx1-ubyte.gz to /root/.pytorch/FMNIST/FashionMNIST/raw\n",
            "\n",
            "Downloading http://fashion-mnist.s3-website.eu-central-1.amazonaws.com/t10k-images-idx3-ubyte.gz\n",
            "Downloading http://fashion-mnist.s3-website.eu-central-1.amazonaws.com/t10k-images-idx3-ubyte.gz to /root/.pytorch/FMNIST/FashionMNIST/raw/t10k-images-idx3-ubyte.gz\n"
          ],
          "name": "stdout"
        },
        {
          "output_type": "display_data",
          "data": {
            "application/vnd.jupyter.widget-view+json": {
              "model_id": "67144a717cd14094b8d83291c260265e",
              "version_minor": 0,
              "version_major": 2
            },
            "text/plain": [
              "HBox(children=(FloatProgress(value=0.0, max=4422102.0), HTML(value='')))"
            ]
          },
          "metadata": {
            "tags": []
          }
        },
        {
          "output_type": "stream",
          "text": [
            "\n",
            "Extracting /root/.pytorch/FMNIST/FashionMNIST/raw/t10k-images-idx3-ubyte.gz to /root/.pytorch/FMNIST/FashionMNIST/raw\n",
            "\n",
            "Downloading http://fashion-mnist.s3-website.eu-central-1.amazonaws.com/t10k-labels-idx1-ubyte.gz\n",
            "Downloading http://fashion-mnist.s3-website.eu-central-1.amazonaws.com/t10k-labels-idx1-ubyte.gz to /root/.pytorch/FMNIST/FashionMNIST/raw/t10k-labels-idx1-ubyte.gz\n"
          ],
          "name": "stdout"
        },
        {
          "output_type": "display_data",
          "data": {
            "application/vnd.jupyter.widget-view+json": {
              "model_id": "8d3c4e3bab8d4732bb497f15f75de115",
              "version_minor": 0,
              "version_major": 2
            },
            "text/plain": [
              "HBox(children=(FloatProgress(value=0.0, max=5148.0), HTML(value='')))"
            ]
          },
          "metadata": {
            "tags": []
          }
        },
        {
          "output_type": "stream",
          "text": [
            "\n",
            "Extracting /root/.pytorch/FMNIST/FashionMNIST/raw/t10k-labels-idx1-ubyte.gz to /root/.pytorch/FMNIST/FashionMNIST/raw\n",
            "\n",
            "Processing...\n",
            "Done!\n"
          ],
          "name": "stdout"
        },
        {
          "output_type": "stream",
          "text": [
            "/usr/local/lib/python3.7/dist-packages/torchvision/datasets/mnist.py:502: UserWarning: The given NumPy array is not writeable, and PyTorch does not support non-writeable tensors. This means you can write to the underlying (supposedly non-writeable) NumPy array using the tensor. You may want to copy the array to protect its data or make it writeable before converting it to a tensor. This type of warning will be suppressed for the rest of this program. (Triggered internally at  /pytorch/torch/csrc/utils/tensor_numpy.cpp:143.)\n",
            "  return torch.from_numpy(parsed.astype(m[2], copy=False)).view(*s)\n"
          ],
          "name": "stderr"
        }
      ]
    },
    {
      "cell_type": "code",
      "metadata": {
        "id": "rqMqFbIVrbFH"
      },
      "source": [
        "class FMNIST(nn.Module):\n",
        "  def __init__(self):\n",
        "    super().__init__()\n",
        "    self.fc1 = nn.Linear(784, 128)\n",
        "    self.fc2 = nn.Linear(128,64)\n",
        "    self.fc3 = nn.Linear(64,10)\n",
        "    \n",
        "  def forward(self, x):\n",
        "    x = x.view(x.shape[0], -1)\n",
        "    \n",
        "    x = F.relu(self.fc1(x))\n",
        "    x = F.relu(self.fc2(x))\n",
        "    x = self.fc3(x)\n",
        "    x = F.log_softmax(x, dim=1)\n",
        "    \n",
        "    return x\n",
        "\n",
        "model = FMNIST()"
      ],
      "execution_count": 4,
      "outputs": []
    },
    {
      "cell_type": "code",
      "metadata": {
        "id": "oNNyI5YRZ7H1",
        "colab": {
          "base_uri": "https://localhost:8080/"
        },
        "outputId": "5321361e-3af4-4d8f-d4f2-1b5b6f1689ae"
      },
      "source": [
        "from torch import optim\n",
        "\n",
        "criterion = nn.NLLLoss()\n",
        "optimizer = optim.SGD(model.parameters(), lr=0.01)\n",
        "\n",
        "num_epochs = 1\n",
        "\n",
        "for i in range(num_epochs):\n",
        "    cum_loss = 0\n",
        "\n",
        "    for images, labels in trainloader:\n",
        "        optimizer.zero_grad()\n",
        "        output = model(images)\n",
        "        loss = criterion(output, labels)\n",
        "        loss.backward()\n",
        "        optimizer.step()\n",
        "        \n",
        "        cum_loss += loss.item()\n",
        "     \n",
        "    print(f\"Training loss: {cum_loss/len(trainloader)}\")"
      ],
      "execution_count": 5,
      "outputs": [
        {
          "output_type": "stream",
          "text": [
            "Training loss: 1.033817462257739\n"
          ],
          "name": "stdout"
        }
      ]
    },
    {
      "cell_type": "code",
      "metadata": {
        "id": "UWYw7ZOzsS8U"
      },
      "source": [
        "import matplotlib.pyplot as plt\n",
        "%matplotlib inline\n",
        "\n",
        "images, labels = next(iter(testloader))\n",
        "\n",
        "test_image_id = 0 \n",
        "img = images[test_image_id].view(1, 784) \n",
        "\n",
        "with torch.no_grad():\n",
        "    logps = model(img)"
      ],
      "execution_count": 6,
      "outputs": []
    },
    {
      "cell_type": "code",
      "metadata": {
        "id": "2tRjoEDSqY8X",
        "colab": {
          "base_uri": "https://localhost:8080/"
        },
        "outputId": "d30f0df4-6d31-44e2-8e46-7ff0eda773fd"
      },
      "source": [
        "ps = torch.exp(logps)\n",
        "ps"
      ],
      "execution_count": 7,
      "outputs": [
        {
          "output_type": "execute_result",
          "data": {
            "text/plain": [
              "tensor([[5.5443e-06, 4.7890e-06, 6.5491e-05, 2.0465e-05, 1.1008e-04, 4.3842e-01,\n",
              "         9.2623e-05, 2.1943e-01, 1.3976e-02, 3.2788e-01]])"
            ]
          },
          "metadata": {
            "tags": []
          },
          "execution_count": 7
        }
      ]
    },
    {
      "cell_type": "code",
      "metadata": {
        "id": "dpP_RLV-qkc6",
        "colab": {
          "base_uri": "https://localhost:8080/"
        },
        "outputId": "75201be0-1562-4bfa-d40f-07bd63d21f81"
      },
      "source": [
        "nps = ps.numpy()[0]\n",
        "nps"
      ],
      "execution_count": 8,
      "outputs": [
        {
          "output_type": "execute_result",
          "data": {
            "text/plain": [
              "array([5.5443261e-06, 4.7890344e-06, 6.5491033e-05, 2.0464893e-05,\n",
              "       1.1007607e-04, 4.3841717e-01, 9.2622744e-05, 2.1942756e-01,\n",
              "       1.3975811e-02, 3.2788047e-01], dtype=float32)"
            ]
          },
          "metadata": {
            "tags": []
          },
          "execution_count": 8
        }
      ]
    },
    {
      "cell_type": "code",
      "metadata": {
        "id": "kBf23XrtqrB6",
        "colab": {
          "base_uri": "https://localhost:8080/",
          "height": 332
        },
        "outputId": "72461f9c-0b51-4e67-96a9-996e9e0f2fa9"
      },
      "source": [
        "FMNIST_labels = ['T-shirt/top','Trouser','Pullover','Dress','Coat','Sandal','Shirt','Sport Shoes','Bag','Ankle Boots']\n",
        "plt.xticks(np.arange(10),labels=FMNIST_labels,rotation='vertical')\n",
        "plt.bar(np.arange(10), nps)"
      ],
      "execution_count": 9,
      "outputs": [
        {
          "output_type": "execute_result",
          "data": {
            "text/plain": [
              "<BarContainer object of 10 artists>"
            ]
          },
          "metadata": {
            "tags": []
          },
          "execution_count": 9
        },
        {
          "output_type": "display_data",
          "data": {
            "image/png": "[encoded data removed]",
            "text/plain": [
              "<Figure size 432x288 with 1 Axes>"
            ]
          },
          "metadata": {
            "tags": [],
            "needs_background": "light"
          }
        }
      ]
    },
    {
      "cell_type": "code",
      "metadata": {
        "id": "Y7gY5hARpOp4",
        "colab": {
          "base_uri": "https://localhost:8080/",
          "height": 282
        },
        "outputId": "2514f19c-a199-4abf-8b52-7f860e734065"
      },
      "source": [
        "def denormalize(tensor):\n",
        "  tensor = tensor*0.5 + 0.5\n",
        "  return tensor\n",
        "  \n",
        "img = img.view(28,-1)\n",
        "img = denormalize(img)\n",
        "plt.imshow(img,cmap='gray')"
      ],
      "execution_count": 10,
      "outputs": [
        {
          "output_type": "execute_result",
          "data": {
            "text/plain": [
              "<matplotlib.image.AxesImage at 0x7f335a0a7cd0>"
            ]
          },
          "metadata": {
            "tags": []
          },
          "execution_count": 10
        },
        {
          "output_type": "display_data",
          "data": {
            "image/png": "[encoded data removed]",
            "text/plain": [
              "<Figure size 432x288 with 1 Axes>"
            ]
          },
          "metadata": {
            "tags": [],
            "needs_background": "light"
          }
        }
      ]
    },
    {
      "cell_type": "code",
      "metadata": {
        "id": "AxTiil7cXOAz",
        "colab": {
          "base_uri": "https://localhost:8080/"
        },
        "outputId": "6df6f82c-30cb-4aaf-d198-dff357d0aeea"
      },
      "source": [
        "with torch.no_grad():\n",
        "    num_correct = 0\n",
        "    total = 0\n",
        "\n",
        "    cnt = 0\n",
        "    for images, labels in testloader:\n",
        "        \n",
        "        logps = model(images)\n",
        "        output = torch.exp(logps)\n",
        "        print(output)\n",
        "        cnt+=1\n",
        "        \n",
        "        if cnt > 0:\n",
        "          break"
      ],
      "execution_count": 11,
      "outputs": [
        {
          "output_type": "stream",
          "text": [
            "tensor([[5.5443e-06, 4.7890e-06, 6.5491e-05, 2.0465e-05, 1.1008e-04, 4.3842e-01,\n",
            "         9.2623e-05, 2.1943e-01, 1.3976e-02, 3.2788e-01],\n",
            "        [1.8087e-03, 8.2802e-05, 6.9258e-01, 2.5334e-04, 1.0028e-01, 2.9872e-05,\n",
            "         2.0321e-01, 3.7616e-07, 1.7442e-03, 1.3326e-05],\n",
            "        [2.6016e-05, 9.9686e-01, 5.7174e-05, 2.5875e-03, 4.5957e-04, 3.9138e-07,\n",
            "         1.3089e-05, 3.8666e-07, 7.4022e-08, 1.2175e-08],\n",
            "        [6.8773e-05, 9.9153e-01, 1.2605e-04, 7.7586e-03, 4.7240e-04, 4.2160e-06,\n",
            "         3.2146e-05, 2.6326e-06, 2.7668e-07, 7.5516e-08],\n",
            "        [1.0252e-01, 2.6468e-03, 2.1942e-01, 2.7684e-02, 3.9128e-02, 1.7020e-03,\n",
            "         5.9591e-01, 3.5339e-05, 1.0842e-02, 1.1047e-04],\n",
            "        [1.3902e-03, 9.7016e-01, 1.5362e-03, 1.7908e-02, 8.0867e-03, 5.3380e-06,\n",
            "         9.0464e-04, 2.1206e-06, 3.2678e-06, 2.1021e-07],\n",
            "        [6.5127e-02, 8.3283e-03, 2.5318e-01, 1.7197e-02, 1.9699e-01, 2.4610e-03,\n",
            "         4.5293e-01, 4.0487e-05, 3.7282e-03, 2.2237e-05],\n",
            "        [1.3935e-02, 2.5314e-03, 2.4938e-01, 1.1007e-02, 1.9783e-01, 2.2205e-03,\n",
            "         5.0689e-01, 3.7930e-05, 1.6075e-02, 9.2906e-05],\n",
            "        [1.6683e-02, 1.2150e-02, 2.1097e-02, 5.9176e-02, 2.0822e-02, 6.8623e-01,\n",
            "         4.4776e-02, 1.1186e-01, 2.5434e-02, 1.7741e-03],\n",
            "        [7.3893e-05, 1.3066e-04, 1.2739e-04, 9.2179e-04, 8.3007e-04, 1.4111e-01,\n",
            "         3.0233e-04, 8.4159e-01, 9.7451e-03, 5.1667e-03],\n",
            "        [7.9721e-04, 1.6223e-02, 5.2241e-01, 1.4487e-03, 3.8477e-01, 1.6164e-04,\n",
            "         7.3626e-02, 5.0721e-06, 5.3212e-04, 2.8956e-05],\n",
            "        [1.4373e-04, 8.5402e-05, 1.6189e-03, 3.6788e-04, 1.7236e-03, 7.8323e-01,\n",
            "         1.9321e-03, 1.3868e-01, 2.6677e-02, 4.5542e-02],\n",
            "        [6.0700e-04, 4.9862e-04, 2.3507e-03, 5.3511e-03, 7.4159e-03, 6.1287e-01,\n",
            "         5.0232e-03, 2.4393e-01, 1.1626e-01, 5.6907e-03],\n",
            "        [5.3451e-03, 6.3399e-03, 1.7979e-04, 9.8210e-01, 1.9350e-03, 4.1310e-05,\n",
            "         2.7927e-03, 3.0911e-04, 9.4949e-04, 6.1862e-06],\n",
            "        [1.1158e-03, 1.2501e-04, 7.5911e-02, 2.6288e-03, 6.6930e-01, 2.6943e-05,\n",
            "         2.3582e-01, 3.3239e-06, 1.5011e-02, 5.7962e-05],\n",
            "        [8.8877e-04, 9.3092e-01, 7.6753e-04, 6.4605e-02, 2.3202e-03, 1.0723e-05,\n",
            "         4.7633e-04, 5.9966e-06, 3.1249e-06, 2.6283e-07],\n",
            "        [1.0405e-01, 2.2260e-02, 5.0389e-01, 1.7845e-02, 4.4549e-02, 2.2951e-03,\n",
            "         3.0354e-01, 2.4861e-05, 1.4929e-03, 4.5364e-05],\n",
            "        [3.0202e-02, 4.8583e-04, 3.1946e-01, 7.1495e-03, 1.0180e-01, 1.9222e-04,\n",
            "         5.3143e-01, 4.3810e-06, 9.2454e-03, 3.4201e-05],\n",
            "        [1.9109e-04, 1.2650e-05, 3.9314e-03, 2.5558e-04, 9.8213e-03, 3.6109e-02,\n",
            "         7.0891e-03, 2.3574e-02, 8.6234e-01, 5.6677e-02],\n",
            "        [8.3758e-01, 4.2052e-04, 8.9083e-03, 3.7403e-02, 1.5335e-03, 1.1359e-06,\n",
            "         1.1406e-01, 5.6796e-08, 9.0996e-05, 9.3049e-08],\n",
            "        [3.2021e-01, 1.1695e-02, 2.2038e-01, 3.9542e-02, 5.9877e-02, 2.0331e-03,\n",
            "         3.3166e-01, 2.1678e-04, 1.3279e-02, 1.1066e-03],\n",
            "        [5.3059e-05, 1.2114e-04, 3.0423e-04, 7.8768e-04, 1.7083e-03, 2.5478e-01,\n",
            "         4.7634e-04, 7.0057e-01, 3.1983e-02, 9.2095e-03],\n",
            "        [4.2907e-07, 1.9118e-06, 4.2105e-06, 1.3753e-05, 3.6933e-05, 3.3797e-02,\n",
            "         5.0575e-06, 9.3823e-01, 5.7737e-03, 2.2135e-02],\n",
            "        [1.2308e-05, 1.4500e-05, 7.2411e-05, 6.8300e-05, 1.8797e-04, 3.3209e-01,\n",
            "         8.3311e-05, 5.8736e-01, 1.0624e-02, 6.9482e-02],\n",
            "        [6.2018e-05, 9.8934e-01, 8.7161e-05, 9.8092e-03, 6.5889e-04, 4.4796e-06,\n",
            "         2.9218e-05, 5.7799e-06, 4.7254e-07, 9.9889e-08],\n",
            "        [1.5933e-02, 6.6111e-03, 4.2407e-01, 2.3868e-02, 1.2867e-01, 1.3820e-02,\n",
            "         3.6928e-01, 1.6966e-04, 1.7413e-02, 1.6910e-04],\n",
            "        [1.4250e-03, 3.0084e-04, 2.3167e-01, 1.2131e-03, 4.5862e-01, 4.8388e-05,\n",
            "         3.0243e-01, 1.2651e-06, 4.2589e-03, 3.9698e-05],\n",
            "        [8.4903e-02, 2.3316e-02, 3.4969e-03, 8.4008e-01, 1.8062e-02, 1.4947e-06,\n",
            "         3.0019e-02, 1.5254e-06, 1.2037e-04, 2.2977e-07],\n",
            "        [1.2997e-06, 8.4101e-07, 1.7224e-05, 5.2468e-06, 4.6131e-05, 9.0825e-02,\n",
            "         2.5612e-05, 1.6484e-01, 2.2467e-02, 7.2178e-01],\n",
            "        [5.7545e-02, 5.5850e-03, 1.1667e-02, 5.6027e-01, 1.8746e-01, 1.5368e-05,\n",
            "         1.7363e-01, 1.2514e-05, 3.8135e-03, 3.6045e-06],\n",
            "        [2.0319e-05, 7.8877e-07, 3.1521e-04, 1.1793e-04, 1.9366e-03, 1.6899e-03,\n",
            "         1.0458e-03, 2.5617e-03, 9.8581e-01, 6.5041e-03],\n",
            "        [6.6987e-02, 1.2538e-04, 1.8555e-02, 5.7508e-02, 1.8329e-02, 9.2334e-03,\n",
            "         4.0716e-01, 2.1331e-04, 4.2146e-01, 4.3579e-04],\n",
            "        [2.9599e-02, 1.6367e-02, 4.8271e-03, 8.8011e-01, 1.8478e-02, 2.8714e-03,\n",
            "         3.9048e-02, 1.8079e-03, 6.8255e-03, 6.1983e-05],\n",
            "        [7.2683e-02, 1.8659e-03, 9.1791e-03, 7.4489e-01, 3.6490e-02, 8.9321e-06,\n",
            "         1.3231e-01, 6.0599e-06, 2.5643e-03, 1.2974e-06],\n",
            "        [1.2762e-03, 5.6932e-06, 4.9846e-03, 2.9085e-03, 1.0827e-02, 5.2039e-03,\n",
            "         4.7789e-02, 5.3518e-04, 9.2568e-01, 7.8936e-04],\n",
            "        [5.5115e-01, 5.4948e-03, 4.2842e-02, 1.0639e-01, 7.5475e-03, 6.9927e-04,\n",
            "         2.8461e-01, 1.5622e-05, 1.2410e-03, 5.7374e-06],\n",
            "        [1.3039e-05, 7.2746e-05, 3.4575e-05, 2.8105e-04, 3.8326e-04, 6.1667e-02,\n",
            "         6.6373e-05, 9.2852e-01, 3.7280e-03, 5.2326e-03],\n",
            "        [5.1742e-03, 3.0433e-03, 6.7555e-03, 1.6201e-02, 5.8566e-03, 8.3236e-01,\n",
            "         1.6630e-02, 9.9024e-02, 1.2907e-02, 2.0496e-03],\n",
            "        [5.9275e-06, 2.6287e-05, 3.7437e-05, 1.1575e-04, 3.8183e-04, 3.4334e-02,\n",
            "         5.2140e-05, 9.5056e-01, 8.1113e-03, 6.3779e-03],\n",
            "        [8.7005e-08, 6.4742e-08, 2.3046e-06, 1.8461e-07, 3.3803e-06, 1.6427e-02,\n",
            "         2.5556e-06, 1.1894e-02, 1.9527e-03, 9.6972e-01],\n",
            "        [5.9608e-01, 2.1795e-04, 1.5972e-02, 5.1515e-02, 5.8224e-03, 1.5295e-06,\n",
            "         3.3008e-01, 8.7761e-08, 3.1239e-04, 3.1221e-07],\n",
            "        [1.4289e-05, 9.9622e-01, 4.2515e-05, 3.2093e-03, 5.0033e-04, 6.6657e-07,\n",
            "         8.6005e-06, 1.8533e-06, 9.5318e-08, 4.4196e-08],\n",
            "        [9.4225e-02, 9.0711e-03, 3.0683e-02, 4.7125e-01, 1.6038e-01, 1.4829e-05,\n",
            "         2.3183e-01, 5.2958e-06, 2.5391e-03, 1.6205e-06],\n",
            "        [2.0337e-07, 3.8181e-07, 2.9849e-06, 7.9296e-07, 7.8991e-06, 7.4812e-02,\n",
            "         3.1237e-06, 2.3193e-01, 2.1626e-03, 6.9108e-01],\n",
            "        [5.8520e-03, 9.7792e-05, 1.7617e-01, 3.1173e-03, 2.6391e-01, 1.0706e-05,\n",
            "         5.4757e-01, 2.8438e-07, 3.2680e-03, 3.8538e-06],\n",
            "        [2.3508e-04, 1.2016e-04, 9.8845e-04, 4.0584e-04, 9.2405e-04, 8.5908e-01,\n",
            "         2.0303e-03, 7.6240e-02, 1.4723e-02, 4.5257e-02],\n",
            "        [3.4045e-02, 5.6688e-04, 3.9692e-01, 6.0605e-03, 7.3872e-02, 7.6343e-05,\n",
            "         4.8526e-01, 1.4438e-06, 3.1793e-03, 2.3885e-05],\n",
            "        [7.6279e-04, 8.4432e-01, 5.4097e-04, 1.4959e-01, 4.3106e-03, 4.7226e-06,\n",
            "         4.4548e-04, 1.2419e-05, 5.4848e-06, 3.7797e-07],\n",
            "        [4.2174e-03, 3.1761e-02, 3.1455e-01, 2.3293e-02, 4.5265e-01, 1.9411e-03,\n",
            "         1.6669e-01, 7.9427e-05, 4.7443e-03, 7.5929e-05],\n",
            "        [8.8223e-03, 2.2247e-04, 2.6216e-01, 3.2174e-03, 1.7358e-01, 1.0283e-04,\n",
            "         5.4313e-01, 1.9563e-06, 8.7422e-03, 2.8453e-05],\n",
            "        [2.0711e-02, 5.8059e-04, 3.1283e-01, 3.7996e-03, 1.7606e-01, 2.3054e-04,\n",
            "         4.7590e-01, 7.1103e-06, 9.7635e-03, 1.1652e-04],\n",
            "        [1.0478e-02, 4.5595e-03, 5.4863e-01, 6.5812e-03, 1.0049e-01, 8.4583e-03,\n",
            "         3.1413e-01, 7.0275e-05, 6.5151e-03, 8.8601e-05],\n",
            "        [5.0541e-03, 4.9863e-03, 8.3460e-03, 2.0442e-02, 7.6000e-03, 7.9166e-01,\n",
            "         1.5366e-02, 1.2929e-01, 1.3290e-02, 3.9619e-03],\n",
            "        [2.2548e-02, 3.3272e-04, 2.0949e-01, 4.1140e-03, 1.5479e-01, 1.8735e-03,\n",
            "         5.0264e-01, 9.0932e-05, 1.0005e-01, 4.0673e-03],\n",
            "        [1.7826e-02, 2.0847e-02, 1.7545e-01, 5.7801e-02, 4.6043e-01, 3.0564e-04,\n",
            "         2.6223e-01, 1.9654e-05, 5.0713e-03, 1.6610e-05],\n",
            "        [9.7478e-02, 1.5635e-03, 4.5798e-01, 8.2712e-03, 4.2026e-02, 3.4638e-04,\n",
            "         3.8746e-01, 6.1320e-06, 4.7688e-03, 9.4121e-05],\n",
            "        [8.9121e-05, 1.4509e-06, 1.5938e-03, 9.9641e-05, 6.9910e-03, 1.4599e-03,\n",
            "         4.0288e-03, 1.4578e-03, 9.8121e-01, 3.0716e-03],\n",
            "        [1.3831e-03, 3.4378e-04, 2.2911e-01, 2.5930e-03, 4.8745e-01, 9.2235e-05,\n",
            "         2.7032e-01, 3.8752e-06, 8.6839e-03, 2.7354e-05],\n",
            "        [8.9867e-05, 1.4634e-06, 1.2516e-03, 1.1186e-04, 4.2012e-03, 3.7883e-03,\n",
            "         3.2859e-03, 6.1394e-03, 9.7478e-01, 6.3494e-03],\n",
            "        [5.2997e-01, 5.2898e-02, 7.8772e-02, 1.2579e-01, 1.3614e-02, 2.6141e-03,\n",
            "         1.9562e-01, 7.3017e-05, 6.3666e-04, 1.9566e-05],\n",
            "        [6.2287e-06, 1.8724e-05, 1.9721e-05, 9.0199e-05, 1.2653e-04, 8.4644e-02,\n",
            "         3.3391e-05, 9.0611e-01, 2.6602e-03, 6.2954e-03],\n",
            "        [2.4494e-06, 4.2078e-06, 1.4090e-05, 4.2945e-05, 8.4223e-05, 9.5875e-02,\n",
            "         2.4513e-05, 8.5107e-01, 1.3268e-02, 3.9612e-02],\n",
            "        [2.6171e-06, 1.2585e-06, 1.5082e-04, 4.2672e-05, 1.3695e-03, 8.0381e-03,\n",
            "         2.5253e-04, 2.1496e-02, 9.2619e-01, 4.2457e-02],\n",
            "        [1.2937e-03, 6.8462e-04, 3.5649e-03, 3.0832e-03, 3.2249e-03, 8.9438e-01,\n",
            "         7.1266e-03, 6.7594e-02, 1.3577e-02, 5.4723e-03]])\n"
          ],
          "name": "stdout"
        }
      ]
    },
    {
      "cell_type": "code",
      "metadata": {
        "id": "6Ij_wa7paveM"
      },
      "source": [
        "with torch.no_grad():\n",
        "    num_correct = 0\n",
        "    total = 0\n",
        "\n",
        "    #set_trace()\n",
        "    for images, labels in testloader:\n",
        "        \n",
        "        logps = model(images)\n",
        "        output = torch.exp(logps)\n",
        "        \n",
        "        pred = torch.argmax(output, 1)\n",
        "        total += labels.size(0)\n"
      ],
      "execution_count": 12,
      "outputs": []
    },
    {
      "cell_type": "code",
      "metadata": {
        "colab": {
          "base_uri": "https://localhost:8080/"
        },
        "id": "1YYB-DUGQgnq",
        "outputId": "c36416a9-2993-45d1-b866-4e63b4c2c0ac"
      },
      "source": [
        "len(images)"
      ],
      "execution_count": 16,
      "outputs": [
        {
          "output_type": "execute_result",
          "data": {
            "text/plain": [
              "16"
            ]
          },
          "metadata": {
            "tags": []
          },
          "execution_count": 16
        }
      ]
    },
    {
      "cell_type": "code",
      "metadata": {
        "colab": {
          "base_uri": "https://localhost:8080/"
        },
        "id": "g5NyXesMQLo4",
        "outputId": "b0283912-2c4b-4bd6-ec82-5832f424bb89"
      },
      "source": [
        "output.shape"
      ],
      "execution_count": 15,
      "outputs": [
        {
          "output_type": "execute_result",
          "data": {
            "text/plain": [
              "torch.Size([16, 10])"
            ]
          },
          "metadata": {
            "tags": []
          },
          "execution_count": 15
        }
      ]
    },
    {
      "cell_type": "code",
      "metadata": {
        "id": "nyxadgAyiRqg",
        "colab": {
          "base_uri": "https://localhost:8080/"
        },
        "outputId": "23d91aee-eba9-4594-e9bd-2ce3b9e6633d"
      },
      "source": [
        "pred, labels"
      ],
      "execution_count": 13,
      "outputs": [
        {
          "output_type": "execute_result",
          "data": {
            "text/plain": [
              "(tensor([3, 3, 7, 5, 8, 2, 5, 6, 8, 9, 1, 9, 1, 8, 1, 5]),\n",
              " tensor([3, 2, 7, 5, 8, 4, 5, 6, 8, 9, 1, 9, 1, 8, 1, 5]))"
            ]
          },
          "metadata": {
            "tags": []
          },
          "execution_count": 13
        }
      ]
    },
    {
      "cell_type": "code",
      "metadata": {
        "id": "ojLPwZLdi3OX",
        "colab": {
          "base_uri": "https://localhost:8080/"
        },
        "outputId": "b6156265-1a3b-40fb-c5ff-c54d5d0a0be7"
      },
      "source": [
        "pred == labels"
      ],
      "execution_count": 17,
      "outputs": [
        {
          "output_type": "execute_result",
          "data": {
            "text/plain": [
              "tensor([ True, False,  True,  True,  True, False,  True,  True,  True,  True,\n",
              "         True,  True,  True,  True,  True,  True])"
            ]
          },
          "metadata": {
            "tags": []
          },
          "execution_count": 17
        }
      ]
    },
    {
      "cell_type": "code",
      "metadata": {
        "id": "6V-3r9n-iCMb",
        "colab": {
          "base_uri": "https://localhost:8080/"
        },
        "outputId": "3819fd09-779d-4729-df7e-190cd99517b0"
      },
      "source": [
        "with torch.no_grad():\n",
        "    num_correct = 0\n",
        "    total = 0\n",
        "\n",
        "    #set_trace()\n",
        "    for images, labels in testloader:\n",
        "        \n",
        "        logps = model(images)\n",
        "        output = torch.exp(logps)\n",
        "        \n",
        "        pred = torch.argmax(output, 1)\n",
        "        total += labels.size(0)\n",
        "        num_correct += (pred == labels).sum().item()\n",
        "\n",
        "    print(f'Accuracy of the model on the 10000 test images: {num_correct * 100 / total}% ')"
      ],
      "execution_count": 18,
      "outputs": [
        {
          "output_type": "stream",
          "text": [
            "Accuracy of the model on the 10000 test images: 76.46% \n"
          ],
          "name": "stdout"
        }
      ]
    },
    {
      "cell_type": "code",
      "metadata": {
        "id": "2VNQH0g6F8xH"
      },
      "source": [
        ""
      ],
      "execution_count": null,
      "outputs": []
    }
  ]
}
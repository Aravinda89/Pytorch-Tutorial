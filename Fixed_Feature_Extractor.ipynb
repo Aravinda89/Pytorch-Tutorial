{
  "nbformat": 4,
  "nbformat_minor": 0,
  "metadata": {
    "colab": {
      "name": "Fixed Feature Extractor.ipynb",
      "provenance": [],
      "collapsed_sections": [],
      "machine_shape": "hm",
      "include_colab_link": true
    },
    "kernelspec": {
      "name": "python3",
      "display_name": "Python 3"
    },
    "accelerator": "GPU",
    "widgets": {
      "application/vnd.jupyter.widget-state+json": {
        "bd19e52fcb344c3494a9511a58c44736": {
          "model_module": "@jupyter-widgets/controls",
          "model_name": "HBoxModel",
          "state": {
            "_view_name": "HBoxView",
            "_dom_classes": [],
            "_model_name": "HBoxModel",
            "_view_module": "@jupyter-widgets/controls",
            "_model_module_version": "1.5.0",
            "_view_count": null,
            "_view_module_version": "1.5.0",
            "box_style": "",
            "layout": "IPY_MODEL_86b44ea73d024f6d89807e18eee8d8b2",
            "_model_module": "@jupyter-widgets/controls",
            "children": [
              "IPY_MODEL_67632657e21c432eb00069c9937bf80b",
              "IPY_MODEL_60a104279acd4499b9dbef286266f758"
            ]
          }
        },
        "86b44ea73d024f6d89807e18eee8d8b2": {
          "model_module": "@jupyter-widgets/base",
          "model_name": "LayoutModel",
          "state": {
            "_view_name": "LayoutView",
            "grid_template_rows": null,
            "right": null,
            "justify_content": null,
            "_view_module": "@jupyter-widgets/base",
            "overflow": null,
            "_model_module_version": "1.2.0",
            "_view_count": null,
            "flex_flow": null,
            "width": null,
            "min_width": null,
            "border": null,
            "align_items": null,
            "bottom": null,
            "_model_module": "@jupyter-widgets/base",
            "top": null,
            "grid_column": null,
            "overflow_y": null,
            "overflow_x": null,
            "grid_auto_flow": null,
            "grid_area": null,
            "grid_template_columns": null,
            "flex": null,
            "_model_name": "LayoutModel",
            "justify_items": null,
            "grid_row": null,
            "max_height": null,
            "align_content": null,
            "visibility": null,
            "align_self": null,
            "height": null,
            "min_height": null,
            "padding": null,
            "grid_auto_rows": null,
            "grid_gap": null,
            "max_width": null,
            "order": null,
            "_view_module_version": "1.2.0",
            "grid_template_areas": null,
            "object_position": null,
            "object_fit": null,
            "grid_auto_columns": null,
            "margin": null,
            "display": null,
            "left": null
          }
        },
        "67632657e21c432eb00069c9937bf80b": {
          "model_module": "@jupyter-widgets/controls",
          "model_name": "FloatProgressModel",
          "state": {
            "_view_name": "ProgressView",
            "style": "IPY_MODEL_b90a143d20b4426a831d459e0b6de4d3",
            "_dom_classes": [],
            "description": "",
            "_model_name": "FloatProgressModel",
            "bar_style": "success",
            "max": 170498071,
            "_view_module": "@jupyter-widgets/controls",
            "_model_module_version": "1.5.0",
            "value": 170498071,
            "_view_count": null,
            "_view_module_version": "1.5.0",
            "orientation": "horizontal",
            "min": 0,
            "description_tooltip": null,
            "_model_module": "@jupyter-widgets/controls",
            "layout": "IPY_MODEL_3813de4565b74432b5556643d1ceab56"
          }
        },
        "60a104279acd4499b9dbef286266f758": {
          "model_module": "@jupyter-widgets/controls",
          "model_name": "HTMLModel",
          "state": {
            "_view_name": "HTMLView",
            "style": "IPY_MODEL_1595df418acd445ab0f906cb9e2a18d5",
            "_dom_classes": [],
            "description": "",
            "_model_name": "HTMLModel",
            "placeholder": "​",
            "_view_module": "@jupyter-widgets/controls",
            "_model_module_version": "1.5.0",
            "value": " 170499072/? [22:23&lt;00:00, 126902.13it/s]",
            "_view_count": null,
            "_view_module_version": "1.5.0",
            "description_tooltip": null,
            "_model_module": "@jupyter-widgets/controls",
            "layout": "IPY_MODEL_27fb393451ce4b3bb8c3215f122cbc2e"
          }
        },
        "b90a143d20b4426a831d459e0b6de4d3": {
          "model_module": "@jupyter-widgets/controls",
          "model_name": "ProgressStyleModel",
          "state": {
            "_view_name": "StyleView",
            "_model_name": "ProgressStyleModel",
            "description_width": "initial",
            "_view_module": "@jupyter-widgets/base",
            "_model_module_version": "1.5.0",
            "_view_count": null,
            "_view_module_version": "1.2.0",
            "bar_color": null,
            "_model_module": "@jupyter-widgets/controls"
          }
        },
        "3813de4565b74432b5556643d1ceab56": {
          "model_module": "@jupyter-widgets/base",
          "model_name": "LayoutModel",
          "state": {
            "_view_name": "LayoutView",
            "grid_template_rows": null,
            "right": null,
            "justify_content": null,
            "_view_module": "@jupyter-widgets/base",
            "overflow": null,
            "_model_module_version": "1.2.0",
            "_view_count": null,
            "flex_flow": null,
            "width": null,
            "min_width": null,
            "border": null,
            "align_items": null,
            "bottom": null,
            "_model_module": "@jupyter-widgets/base",
            "top": null,
            "grid_column": null,
            "overflow_y": null,
            "overflow_x": null,
            "grid_auto_flow": null,
            "grid_area": null,
            "grid_template_columns": null,
            "flex": null,
            "_model_name": "LayoutModel",
            "justify_items": null,
            "grid_row": null,
            "max_height": null,
            "align_content": null,
            "visibility": null,
            "align_self": null,
            "height": null,
            "min_height": null,
            "padding": null,
            "grid_auto_rows": null,
            "grid_gap": null,
            "max_width": null,
            "order": null,
            "_view_module_version": "1.2.0",
            "grid_template_areas": null,
            "object_position": null,
            "object_fit": null,
            "grid_auto_columns": null,
            "margin": null,
            "display": null,
            "left": null
          }
        },
        "1595df418acd445ab0f906cb9e2a18d5": {
          "model_module": "@jupyter-widgets/controls",
          "model_name": "DescriptionStyleModel",
          "state": {
            "_view_name": "StyleView",
            "_model_name": "DescriptionStyleModel",
            "description_width": "",
            "_view_module": "@jupyter-widgets/base",
            "_model_module_version": "1.5.0",
            "_view_count": null,
            "_view_module_version": "1.2.0",
            "_model_module": "@jupyter-widgets/controls"
          }
        },
        "27fb393451ce4b3bb8c3215f122cbc2e": {
          "model_module": "@jupyter-widgets/base",
          "model_name": "LayoutModel",
          "state": {
            "_view_name": "LayoutView",
            "grid_template_rows": null,
            "right": null,
            "justify_content": null,
            "_view_module": "@jupyter-widgets/base",
            "overflow": null,
            "_model_module_version": "1.2.0",
            "_view_count": null,
            "flex_flow": null,
            "width": null,
            "min_width": null,
            "border": null,
            "align_items": null,
            "bottom": null,
            "_model_module": "@jupyter-widgets/base",
            "top": null,
            "grid_column": null,
            "overflow_y": null,
            "overflow_x": null,
            "grid_auto_flow": null,
            "grid_area": null,
            "grid_template_columns": null,
            "flex": null,
            "_model_name": "LayoutModel",
            "justify_items": null,
            "grid_row": null,
            "max_height": null,
            "align_content": null,
            "visibility": null,
            "align_self": null,
            "height": null,
            "min_height": null,
            "padding": null,
            "grid_auto_rows": null,
            "grid_gap": null,
            "max_width": null,
            "order": null,
            "_view_module_version": "1.2.0",
            "grid_template_areas": null,
            "object_position": null,
            "object_fit": null,
            "grid_auto_columns": null,
            "margin": null,
            "display": null,
            "left": null
          }
        },
        "e2f81d1964e14deb87836892f153929d": {
          "model_module": "@jupyter-widgets/controls",
          "model_name": "HBoxModel",
          "state": {
            "_view_name": "HBoxView",
            "_dom_classes": [],
            "_model_name": "HBoxModel",
            "_view_module": "@jupyter-widgets/controls",
            "_model_module_version": "1.5.0",
            "_view_count": null,
            "_view_module_version": "1.5.0",
            "box_style": "",
            "layout": "IPY_MODEL_f6862f34e1bf499ea226507506d0c891",
            "_model_module": "@jupyter-widgets/controls",
            "children": [
              "IPY_MODEL_3eb27b21e4954c6eba6f1113b005aa20",
              "IPY_MODEL_1e97d83e59bd49bcabb872a18ad53f37"
            ]
          }
        },
        "f6862f34e1bf499ea226507506d0c891": {
          "model_module": "@jupyter-widgets/base",
          "model_name": "LayoutModel",
          "state": {
            "_view_name": "LayoutView",
            "grid_template_rows": null,
            "right": null,
            "justify_content": null,
            "_view_module": "@jupyter-widgets/base",
            "overflow": null,
            "_model_module_version": "1.2.0",
            "_view_count": null,
            "flex_flow": null,
            "width": null,
            "min_width": null,
            "border": null,
            "align_items": null,
            "bottom": null,
            "_model_module": "@jupyter-widgets/base",
            "top": null,
            "grid_column": null,
            "overflow_y": null,
            "overflow_x": null,
            "grid_auto_flow": null,
            "grid_area": null,
            "grid_template_columns": null,
            "flex": null,
            "_model_name": "LayoutModel",
            "justify_items": null,
            "grid_row": null,
            "max_height": null,
            "align_content": null,
            "visibility": null,
            "align_self": null,
            "height": null,
            "min_height": null,
            "padding": null,
            "grid_auto_rows": null,
            "grid_gap": null,
            "max_width": null,
            "order": null,
            "_view_module_version": "1.2.0",
            "grid_template_areas": null,
            "object_position": null,
            "object_fit": null,
            "grid_auto_columns": null,
            "margin": null,
            "display": null,
            "left": null
          }
        },
        "3eb27b21e4954c6eba6f1113b005aa20": {
          "model_module": "@jupyter-widgets/controls",
          "model_name": "FloatProgressModel",
          "state": {
            "_view_name": "ProgressView",
            "style": "IPY_MODEL_ed7a31f319d74557ad5244f4fb1ee371",
            "_dom_classes": [],
            "description": "100%",
            "_model_name": "FloatProgressModel",
            "bar_style": "success",
            "max": 553433881,
            "_view_module": "@jupyter-widgets/controls",
            "_model_module_version": "1.5.0",
            "value": 553433881,
            "_view_count": null,
            "_view_module_version": "1.5.0",
            "orientation": "horizontal",
            "min": 0,
            "description_tooltip": null,
            "_model_module": "@jupyter-widgets/controls",
            "layout": "IPY_MODEL_5239da4b13c246619ab7e7823a670857"
          }
        },
        "1e97d83e59bd49bcabb872a18ad53f37": {
          "model_module": "@jupyter-widgets/controls",
          "model_name": "HTMLModel",
          "state": {
            "_view_name": "HTMLView",
            "style": "IPY_MODEL_4eea1b6ea878410bad4d7249641dd78e",
            "_dom_classes": [],
            "description": "",
            "_model_name": "HTMLModel",
            "placeholder": "​",
            "_view_module": "@jupyter-widgets/controls",
            "_model_module_version": "1.5.0",
            "value": " 528M/528M [22:11&lt;00:00, 416kB/s]",
            "_view_count": null,
            "_view_module_version": "1.5.0",
            "description_tooltip": null,
            "_model_module": "@jupyter-widgets/controls",
            "layout": "IPY_MODEL_3559c8a65af741b8bd2e9f2d2178bcec"
          }
        },
        "ed7a31f319d74557ad5244f4fb1ee371": {
          "model_module": "@jupyter-widgets/controls",
          "model_name": "ProgressStyleModel",
          "state": {
            "_view_name": "StyleView",
            "_model_name": "ProgressStyleModel",
            "description_width": "initial",
            "_view_module": "@jupyter-widgets/base",
            "_model_module_version": "1.5.0",
            "_view_count": null,
            "_view_module_version": "1.2.0",
            "bar_color": null,
            "_model_module": "@jupyter-widgets/controls"
          }
        },
        "5239da4b13c246619ab7e7823a670857": {
          "model_module": "@jupyter-widgets/base",
          "model_name": "LayoutModel",
          "state": {
            "_view_name": "LayoutView",
            "grid_template_rows": null,
            "right": null,
            "justify_content": null,
            "_view_module": "@jupyter-widgets/base",
            "overflow": null,
            "_model_module_version": "1.2.0",
            "_view_count": null,
            "flex_flow": null,
            "width": null,
            "min_width": null,
            "border": null,
            "align_items": null,
            "bottom": null,
            "_model_module": "@jupyter-widgets/base",
            "top": null,
            "grid_column": null,
            "overflow_y": null,
            "overflow_x": null,
            "grid_auto_flow": null,
            "grid_area": null,
            "grid_template_columns": null,
            "flex": null,
            "_model_name": "LayoutModel",
            "justify_items": null,
            "grid_row": null,
            "max_height": null,
            "align_content": null,
            "visibility": null,
            "align_self": null,
            "height": null,
            "min_height": null,
            "padding": null,
            "grid_auto_rows": null,
            "grid_gap": null,
            "max_width": null,
            "order": null,
            "_view_module_version": "1.2.0",
            "grid_template_areas": null,
            "object_position": null,
            "object_fit": null,
            "grid_auto_columns": null,
            "margin": null,
            "display": null,
            "left": null
          }
        },
        "4eea1b6ea878410bad4d7249641dd78e": {
          "model_module": "@jupyter-widgets/controls",
          "model_name": "DescriptionStyleModel",
          "state": {
            "_view_name": "StyleView",
            "_model_name": "DescriptionStyleModel",
            "description_width": "",
            "_view_module": "@jupyter-widgets/base",
            "_model_module_version": "1.5.0",
            "_view_count": null,
            "_view_module_version": "1.2.0",
            "_model_module": "@jupyter-widgets/controls"
          }
        },
        "3559c8a65af741b8bd2e9f2d2178bcec": {
          "model_module": "@jupyter-widgets/base",
          "model_name": "LayoutModel",
          "state": {
            "_view_name": "LayoutView",
            "grid_template_rows": null,
            "right": null,
            "justify_content": null,
            "_view_module": "@jupyter-widgets/base",
            "overflow": null,
            "_model_module_version": "1.2.0",
            "_view_count": null,
            "flex_flow": null,
            "width": null,
            "min_width": null,
            "border": null,
            "align_items": null,
            "bottom": null,
            "_model_module": "@jupyter-widgets/base",
            "top": null,
            "grid_column": null,
            "overflow_y": null,
            "overflow_x": null,
            "grid_auto_flow": null,
            "grid_area": null,
            "grid_template_columns": null,
            "flex": null,
            "_model_name": "LayoutModel",
            "justify_items": null,
            "grid_row": null,
            "max_height": null,
            "align_content": null,
            "visibility": null,
            "align_self": null,
            "height": null,
            "min_height": null,
            "padding": null,
            "grid_auto_rows": null,
            "grid_gap": null,
            "max_width": null,
            "order": null,
            "_view_module_version": "1.2.0",
            "grid_template_areas": null,
            "object_position": null,
            "object_fit": null,
            "grid_auto_columns": null,
            "margin": null,
            "display": null,
            "left": null
          }
        }
      }
    }
  },
  "cells": [
    {
      "cell_type": "markdown",
      "metadata": {
        "id": "view-in-github",
        "colab_type": "text"
      },
      "source": [
        "<a href=\"https://colab.research.google.com/github/Aravinda89/Pytorch-Tutorial/blob/main/Fixed_Feature_Extractor.ipynb\" target=\"_parent\"><img src=\"https://colab.research.google.com/assets/colab-badge.svg\" alt=\"Open In Colab\"/></a>"
      ]
    },
    {
      "cell_type": "markdown",
      "metadata": {
        "id": "7z2kILHRWcKg"
      },
      "source": [
        "# Transfer learning - Fixed Feature Extractor\n"
      ]
    },
    {
      "cell_type": "markdown",
      "metadata": {
        "id": "eMvdfArHRj7I"
      },
      "source": [
        "## Creating and using a Fixed Feature Extractor\n"
      ]
    },
    {
      "cell_type": "code",
      "metadata": {
        "id": "z3w2sce8WXYa"
      },
      "source": [
        "# Setting seeds to try and ensure we have the same results - this is not guaranteed across PyTorch releases.\n",
        "import torch\n",
        "torch.manual_seed(0)\n",
        "torch.backends.cudnn.deterministic = True\n",
        "torch.backends.cudnn.benchmark = False"
      ],
      "execution_count": 5,
      "outputs": []
    },
    {
      "cell_type": "code",
      "metadata": {
        "id": "GxDchYyEo5Fe"
      },
      "source": [
        "import torch.nn as nn\n",
        "import torch.nn.functional as F\n",
        "from torchvision import datasets, transforms, models\n",
        "from torch.utils.data import DataLoader"
      ],
      "execution_count": 6,
      "outputs": []
    },
    {
      "cell_type": "code",
      "metadata": {
        "id": "CYMYVmxMpX2z",
        "colab": {
          "base_uri": "https://localhost:8080/"
        },
        "outputId": "b1414d15-2712-49f8-d99f-f00c07c68704"
      },
      "source": [
        "device = torch.device('cuda' if torch.cuda.is_available() else 'cpu')\n",
        "device"
      ],
      "execution_count": 7,
      "outputs": [
        {
          "output_type": "execute_result",
          "data": {
            "text/plain": [
              "device(type='cuda')"
            ]
          },
          "metadata": {
            "tags": []
          },
          "execution_count": 7
        }
      ]
    },
    {
      "cell_type": "code",
      "metadata": {
        "id": "fJEw9S-Up23y",
        "colab": {
          "base_uri": "https://localhost:8080/",
          "height": 121,
          "referenced_widgets": [
            "bd19e52fcb344c3494a9511a58c44736",
            "86b44ea73d024f6d89807e18eee8d8b2",
            "67632657e21c432eb00069c9937bf80b",
            "60a104279acd4499b9dbef286266f758",
            "b90a143d20b4426a831d459e0b6de4d3",
            "3813de4565b74432b5556643d1ceab56",
            "1595df418acd445ab0f906cb9e2a18d5",
            "27fb393451ce4b3bb8c3215f122cbc2e"
          ]
        },
        "outputId": "83a98b6a-74a2-4f69-8038-b922b651fa61"
      },
      "source": [
        "mean = [0.485, 0.456, 0.406]\n",
        "std = [0.229, 0.224, 0.225]\n",
        "\n",
        "transform = transforms.Compose([\n",
        "    transforms.Resize((224, 224)),\n",
        "    transforms.ToTensor(),\n",
        "    transforms.Normalize(mean=mean, std=std)\n",
        "    ])\n",
        "\n",
        "trainset = datasets.CIFAR10(root='~/.pytorch/CIFAR10',train=True, download=True,transform=transform)\n",
        "testset = datasets.CIFAR10(root='~/.pytorch/CIFAR10',train=False, transform=transform)\n",
        "\n",
        "trainloader = DataLoader(trainset, batch_size=64, shuffle=True)\n",
        "testloader = DataLoader(testset, batch_size=64, shuffle=False)"
      ],
      "execution_count": 8,
      "outputs": [
        {
          "output_type": "stream",
          "text": [
            "Downloading https://www.cs.toronto.edu/~kriz/cifar-10-python.tar.gz to /root/.pytorch/CIFAR10/cifar-10-python.tar.gz\n"
          ],
          "name": "stdout"
        },
        {
          "output_type": "display_data",
          "data": {
            "application/vnd.jupyter.widget-view+json": {
              "model_id": "bd19e52fcb344c3494a9511a58c44736",
              "version_minor": 0,
              "version_major": 2
            },
            "text/plain": [
              "HBox(children=(FloatProgress(value=0.0, max=170498071.0), HTML(value='')))"
            ]
          },
          "metadata": {
            "tags": []
          }
        },
        {
          "output_type": "stream",
          "text": [
            "\n",
            "Extracting /root/.pytorch/CIFAR10/cifar-10-python.tar.gz to /root/.pytorch/CIFAR10\n"
          ],
          "name": "stdout"
        }
      ]
    },
    {
      "cell_type": "code",
      "metadata": {
        "id": "GjwrsEMR3-6D",
        "colab": {
          "base_uri": "https://localhost:8080/",
          "height": 881,
          "referenced_widgets": [
            "e2f81d1964e14deb87836892f153929d",
            "f6862f34e1bf499ea226507506d0c891",
            "3eb27b21e4954c6eba6f1113b005aa20",
            "1e97d83e59bd49bcabb872a18ad53f37",
            "ed7a31f319d74557ad5244f4fb1ee371",
            "5239da4b13c246619ab7e7823a670857",
            "4eea1b6ea878410bad4d7249641dd78e",
            "3559c8a65af741b8bd2e9f2d2178bcec"
          ]
        },
        "outputId": "87413d27-6a35-4fdd-9191-4c5c30b22a37"
      },
      "source": [
        "model = models.vgg16(pretrained=True)\n",
        "model"
      ],
      "execution_count": 9,
      "outputs": [
        {
          "output_type": "stream",
          "text": [
            "Downloading: \"https://download.pytorch.org/models/vgg16-397923af.pth\" to /root/.cache/torch/hub/checkpoints/vgg16-397923af.pth\n"
          ],
          "name": "stderr"
        },
        {
          "output_type": "display_data",
          "data": {
            "application/vnd.jupyter.widget-view+json": {
              "model_id": "e2f81d1964e14deb87836892f153929d",
              "version_minor": 0,
              "version_major": 2
            },
            "text/plain": [
              "HBox(children=(FloatProgress(value=0.0, max=553433881.0), HTML(value='')))"
            ]
          },
          "metadata": {
            "tags": []
          }
        },
        {
          "output_type": "stream",
          "text": [
            "\n"
          ],
          "name": "stdout"
        },
        {
          "output_type": "execute_result",
          "data": {
            "text/plain": [
              "VGG(\n",
              "  (features): Sequential(\n",
              "    (0): Conv2d(3, 64, kernel_size=(3, 3), stride=(1, 1), padding=(1, 1))\n",
              "    (1): ReLU(inplace=True)\n",
              "    (2): Conv2d(64, 64, kernel_size=(3, 3), stride=(1, 1), padding=(1, 1))\n",
              "    (3): ReLU(inplace=True)\n",
              "    (4): MaxPool2d(kernel_size=2, stride=2, padding=0, dilation=1, ceil_mode=False)\n",
              "    (5): Conv2d(64, 128, kernel_size=(3, 3), stride=(1, 1), padding=(1, 1))\n",
              "    (6): ReLU(inplace=True)\n",
              "    (7): Conv2d(128, 128, kernel_size=(3, 3), stride=(1, 1), padding=(1, 1))\n",
              "    (8): ReLU(inplace=True)\n",
              "    (9): MaxPool2d(kernel_size=2, stride=2, padding=0, dilation=1, ceil_mode=False)\n",
              "    (10): Conv2d(128, 256, kernel_size=(3, 3), stride=(1, 1), padding=(1, 1))\n",
              "    (11): ReLU(inplace=True)\n",
              "    (12): Conv2d(256, 256, kernel_size=(3, 3), stride=(1, 1), padding=(1, 1))\n",
              "    (13): ReLU(inplace=True)\n",
              "    (14): Conv2d(256, 256, kernel_size=(3, 3), stride=(1, 1), padding=(1, 1))\n",
              "    (15): ReLU(inplace=True)\n",
              "    (16): MaxPool2d(kernel_size=2, stride=2, padding=0, dilation=1, ceil_mode=False)\n",
              "    (17): Conv2d(256, 512, kernel_size=(3, 3), stride=(1, 1), padding=(1, 1))\n",
              "    (18): ReLU(inplace=True)\n",
              "    (19): Conv2d(512, 512, kernel_size=(3, 3), stride=(1, 1), padding=(1, 1))\n",
              "    (20): ReLU(inplace=True)\n",
              "    (21): Conv2d(512, 512, kernel_size=(3, 3), stride=(1, 1), padding=(1, 1))\n",
              "    (22): ReLU(inplace=True)\n",
              "    (23): MaxPool2d(kernel_size=2, stride=2, padding=0, dilation=1, ceil_mode=False)\n",
              "    (24): Conv2d(512, 512, kernel_size=(3, 3), stride=(1, 1), padding=(1, 1))\n",
              "    (25): ReLU(inplace=True)\n",
              "    (26): Conv2d(512, 512, kernel_size=(3, 3), stride=(1, 1), padding=(1, 1))\n",
              "    (27): ReLU(inplace=True)\n",
              "    (28): Conv2d(512, 512, kernel_size=(3, 3), stride=(1, 1), padding=(1, 1))\n",
              "    (29): ReLU(inplace=True)\n",
              "    (30): MaxPool2d(kernel_size=2, stride=2, padding=0, dilation=1, ceil_mode=False)\n",
              "  )\n",
              "  (avgpool): AdaptiveAvgPool2d(output_size=(7, 7))\n",
              "  (classifier): Sequential(\n",
              "    (0): Linear(in_features=25088, out_features=4096, bias=True)\n",
              "    (1): ReLU(inplace=True)\n",
              "    (2): Dropout(p=0.5, inplace=False)\n",
              "    (3): Linear(in_features=4096, out_features=4096, bias=True)\n",
              "    (4): ReLU(inplace=True)\n",
              "    (5): Dropout(p=0.5, inplace=False)\n",
              "    (6): Linear(in_features=4096, out_features=1000, bias=True)\n",
              "  )\n",
              ")"
            ]
          },
          "metadata": {
            "tags": []
          },
          "execution_count": 9
        }
      ]
    },
    {
      "cell_type": "code",
      "metadata": {
        "id": "Bq9GNfsC3-zD",
        "colab": {
          "base_uri": "https://localhost:8080/"
        },
        "outputId": "4ab47c42-f30a-47f2-9e23-46e2b918cf58"
      },
      "source": [
        "model.features"
      ],
      "execution_count": 6,
      "outputs": [
        {
          "output_type": "execute_result",
          "data": {
            "text/plain": [
              "Sequential(\n",
              "  (0): Conv2d(3, 64, kernel_size=(3, 3), stride=(1, 1), padding=(1, 1))\n",
              "  (1): ReLU(inplace=True)\n",
              "  (2): Conv2d(64, 64, kernel_size=(3, 3), stride=(1, 1), padding=(1, 1))\n",
              "  (3): ReLU(inplace=True)\n",
              "  (4): MaxPool2d(kernel_size=2, stride=2, padding=0, dilation=1, ceil_mode=False)\n",
              "  (5): Conv2d(64, 128, kernel_size=(3, 3), stride=(1, 1), padding=(1, 1))\n",
              "  (6): ReLU(inplace=True)\n",
              "  (7): Conv2d(128, 128, kernel_size=(3, 3), stride=(1, 1), padding=(1, 1))\n",
              "  (8): ReLU(inplace=True)\n",
              "  (9): MaxPool2d(kernel_size=2, stride=2, padding=0, dilation=1, ceil_mode=False)\n",
              "  (10): Conv2d(128, 256, kernel_size=(3, 3), stride=(1, 1), padding=(1, 1))\n",
              "  (11): ReLU(inplace=True)\n",
              "  (12): Conv2d(256, 256, kernel_size=(3, 3), stride=(1, 1), padding=(1, 1))\n",
              "  (13): ReLU(inplace=True)\n",
              "  (14): Conv2d(256, 256, kernel_size=(3, 3), stride=(1, 1), padding=(1, 1))\n",
              "  (15): ReLU(inplace=True)\n",
              "  (16): MaxPool2d(kernel_size=2, stride=2, padding=0, dilation=1, ceil_mode=False)\n",
              "  (17): Conv2d(256, 512, kernel_size=(3, 3), stride=(1, 1), padding=(1, 1))\n",
              "  (18): ReLU(inplace=True)\n",
              "  (19): Conv2d(512, 512, kernel_size=(3, 3), stride=(1, 1), padding=(1, 1))\n",
              "  (20): ReLU(inplace=True)\n",
              "  (21): Conv2d(512, 512, kernel_size=(3, 3), stride=(1, 1), padding=(1, 1))\n",
              "  (22): ReLU(inplace=True)\n",
              "  (23): MaxPool2d(kernel_size=2, stride=2, padding=0, dilation=1, ceil_mode=False)\n",
              "  (24): Conv2d(512, 512, kernel_size=(3, 3), stride=(1, 1), padding=(1, 1))\n",
              "  (25): ReLU(inplace=True)\n",
              "  (26): Conv2d(512, 512, kernel_size=(3, 3), stride=(1, 1), padding=(1, 1))\n",
              "  (27): ReLU(inplace=True)\n",
              "  (28): Conv2d(512, 512, kernel_size=(3, 3), stride=(1, 1), padding=(1, 1))\n",
              "  (29): ReLU(inplace=True)\n",
              "  (30): MaxPool2d(kernel_size=2, stride=2, padding=0, dilation=1, ceil_mode=False)\n",
              ")"
            ]
          },
          "metadata": {
            "tags": []
          },
          "execution_count": 6
        }
      ]
    },
    {
      "cell_type": "code",
      "metadata": {
        "id": "GQmpRWNF3-jc",
        "colab": {
          "base_uri": "https://localhost:8080/"
        },
        "outputId": "f1c8cbec-ea26-4e27-f01a-43513b912ea5"
      },
      "source": [
        "model.classifier"
      ],
      "execution_count": 10,
      "outputs": [
        {
          "output_type": "execute_result",
          "data": {
            "text/plain": [
              "Sequential(\n",
              "  (0): Linear(in_features=25088, out_features=4096, bias=True)\n",
              "  (1): ReLU(inplace=True)\n",
              "  (2): Dropout(p=0.5, inplace=False)\n",
              "  (3): Linear(in_features=4096, out_features=4096, bias=True)\n",
              "  (4): ReLU(inplace=True)\n",
              "  (5): Dropout(p=0.5, inplace=False)\n",
              "  (6): Linear(in_features=4096, out_features=1000, bias=True)\n",
              ")"
            ]
          },
          "metadata": {
            "tags": []
          },
          "execution_count": 10
        }
      ]
    },
    {
      "cell_type": "code",
      "metadata": {
        "id": "zntNd1RP3-g8"
      },
      "source": [
        "for param in model.parameters():\n",
        "  param.requires_grad = False"
      ],
      "execution_count": 11,
      "outputs": []
    },
    {
      "cell_type": "code",
      "metadata": {
        "id": "FREl9ASC3-er"
      },
      "source": [
        "model.classifier[-1] = nn.Sequential(\n",
        "                      nn.Linear(in_features=4096, out_features=10),\n",
        "                      nn.LogSoftmax(dim=1)\n",
        "                      )"
      ],
      "execution_count": 12,
      "outputs": []
    },
    {
      "cell_type": "code",
      "metadata": {
        "id": "7PoaL3Ad3-cL",
        "colab": {
          "base_uri": "https://localhost:8080/"
        },
        "outputId": "af8e6b1a-cd16-4435-abab-4cfac527d5cb"
      },
      "source": [
        "model.classifier"
      ],
      "execution_count": 10,
      "outputs": [
        {
          "output_type": "execute_result",
          "data": {
            "text/plain": [
              "Sequential(\n",
              "  (0): Linear(in_features=25088, out_features=4096, bias=True)\n",
              "  (1): ReLU(inplace=True)\n",
              "  (2): Dropout(p=0.5, inplace=False)\n",
              "  (3): Linear(in_features=4096, out_features=4096, bias=True)\n",
              "  (4): ReLU(inplace=True)\n",
              "  (5): Dropout(p=0.5, inplace=False)\n",
              "  (6): Sequential(\n",
              "    (0): Linear(in_features=4096, out_features=10, bias=True)\n",
              "    (1): LogSoftmax(dim=1)\n",
              "  )\n",
              ")"
            ]
          },
          "metadata": {
            "tags": []
          },
          "execution_count": 10
        }
      ]
    },
    {
      "cell_type": "code",
      "metadata": {
        "id": "qe-pEtmc3-Zj"
      },
      "source": [
        "criterion = nn.NLLLoss()"
      ],
      "execution_count": 13,
      "outputs": []
    },
    {
      "cell_type": "code",
      "metadata": {
        "id": "SVJwYRtt3-W0"
      },
      "source": [
        ""
      ],
      "execution_count": null,
      "outputs": []
    },
    {
      "cell_type": "code",
      "metadata": {
        "id": "9f_1LPEC4uXu"
      },
      "source": [
        ""
      ],
      "execution_count": null,
      "outputs": []
    },
    {
      "cell_type": "code",
      "metadata": {
        "id": "jFMdAmPE4uVO"
      },
      "source": [
        ""
      ],
      "execution_count": null,
      "outputs": []
    },
    {
      "cell_type": "code",
      "metadata": {
        "id": "Vvl5u4ma3-Tu"
      },
      "source": [
        ""
      ],
      "execution_count": null,
      "outputs": []
    },
    {
      "cell_type": "markdown",
      "metadata": {
        "id": "3KnVo-JymOUh"
      },
      "source": [
        "## Training the Fixed Feature Extractor"
      ]
    },
    {
      "cell_type": "code",
      "metadata": {
        "colab": {
          "base_uri": "https://localhost:8080/"
        },
        "id": "6JfNO0INnd88",
        "outputId": "47ea7f93-7540-4923-a499-3ab7a76d7a1c"
      },
      "source": [
        "device"
      ],
      "execution_count": 14,
      "outputs": [
        {
          "output_type": "execute_result",
          "data": {
            "text/plain": [
              "device(type='cuda')"
            ]
          },
          "metadata": {
            "tags": []
          },
          "execution_count": 14
        }
      ]
    },
    {
      "cell_type": "code",
      "metadata": {
        "id": "dk9-eEGnxW77"
      },
      "source": [
        "from torch.optim import Adam\n",
        "\n",
        "model = model.to(device)\n",
        "optimizer = Adam(model.parameters())"
      ],
      "execution_count": 15,
      "outputs": []
    },
    {
      "cell_type": "code",
      "metadata": {
        "id": "s5I7_5I7xawY",
        "colab": {
          "base_uri": "https://localhost:8080/"
        },
        "outputId": "821311a8-d8c1-4c30-b97d-bfd210a166ba"
      },
      "source": [
        "num_epochs = 1\n",
        "batch_loss = 0\n",
        "cum_epoch_loss = 0\n",
        "\n",
        "for e in range(num_epochs):\n",
        "  cum_epoch_loss = 0\n",
        "  \n",
        "  for batch, (images, labels) in enumerate(trainloader,1):\n",
        "    images = images.to(device)\n",
        "    labels = labels.to(device)\n",
        "\n",
        "    optimizer.zero_grad()\n",
        "    logps = model(images)\n",
        "    loss = criterion(logps, labels)\n",
        "    loss.backward()\n",
        "    optimizer.step()\n",
        "    \n",
        "    batch_loss += loss.item()\n",
        "    print(f'Epoch({e}/{num_epochs} : Batch number({batch}/{len(trainloader)})  Batch loss : {loss.item()}')\n",
        "    \n",
        "  print(f'Training loss : {batch_loss/len(trainloader)}')  \n",
        "    "
      ],
      "execution_count": 16,
      "outputs": [
        {
          "output_type": "stream",
          "text": [
            "Epoch(0/1 : Batch number(1/782)  Batch loss : 2.3982882499694824\n",
            "Epoch(0/1 : Batch number(2/782)  Batch loss : 2.156689405441284\n",
            "Epoch(0/1 : Batch number(3/782)  Batch loss : 2.0974912643432617\n",
            "Epoch(0/1 : Batch number(4/782)  Batch loss : 1.8526372909545898\n",
            "Epoch(0/1 : Batch number(5/782)  Batch loss : 1.8185367584228516\n",
            "Epoch(0/1 : Batch number(6/782)  Batch loss : 1.7368552684783936\n",
            "Epoch(0/1 : Batch number(7/782)  Batch loss : 1.5838180780410767\n",
            "Epoch(0/1 : Batch number(8/782)  Batch loss : 1.4960788488388062\n",
            "Epoch(0/1 : Batch number(9/782)  Batch loss : 1.3242506980895996\n",
            "Epoch(0/1 : Batch number(10/782)  Batch loss : 1.249369502067566\n",
            "Epoch(0/1 : Batch number(11/782)  Batch loss : 1.30985426902771\n",
            "Epoch(0/1 : Batch number(12/782)  Batch loss : 1.1479734182357788\n",
            "Epoch(0/1 : Batch number(13/782)  Batch loss : 1.0021299123764038\n",
            "Epoch(0/1 : Batch number(14/782)  Batch loss : 0.9140740633010864\n",
            "Epoch(0/1 : Batch number(15/782)  Batch loss : 0.9682736992835999\n",
            "Epoch(0/1 : Batch number(16/782)  Batch loss : 1.0731850862503052\n",
            "Epoch(0/1 : Batch number(17/782)  Batch loss : 1.0956807136535645\n",
            "Epoch(0/1 : Batch number(18/782)  Batch loss : 1.0914548635482788\n",
            "Epoch(0/1 : Batch number(19/782)  Batch loss : 0.961499810218811\n",
            "Epoch(0/1 : Batch number(20/782)  Batch loss : 0.8704652786254883\n",
            "Epoch(0/1 : Batch number(21/782)  Batch loss : 0.8371590971946716\n",
            "Epoch(0/1 : Batch number(22/782)  Batch loss : 0.8232366442680359\n",
            "Epoch(0/1 : Batch number(23/782)  Batch loss : 0.8359172940254211\n",
            "Epoch(0/1 : Batch number(24/782)  Batch loss : 1.0350391864776611\n",
            "Epoch(0/1 : Batch number(25/782)  Batch loss : 0.9532619118690491\n",
            "Epoch(0/1 : Batch number(26/782)  Batch loss : 0.6766173839569092\n",
            "Epoch(0/1 : Batch number(27/782)  Batch loss : 0.7117934226989746\n",
            "Epoch(0/1 : Batch number(28/782)  Batch loss : 0.8506531119346619\n",
            "Epoch(0/1 : Batch number(29/782)  Batch loss : 1.0231974124908447\n",
            "Epoch(0/1 : Batch number(30/782)  Batch loss : 0.7710945010185242\n",
            "Epoch(0/1 : Batch number(31/782)  Batch loss : 0.8090452551841736\n",
            "Epoch(0/1 : Batch number(32/782)  Batch loss : 0.869799792766571\n",
            "Epoch(0/1 : Batch number(33/782)  Batch loss : 0.8215035796165466\n",
            "Epoch(0/1 : Batch number(34/782)  Batch loss : 0.9274893999099731\n",
            "Epoch(0/1 : Batch number(35/782)  Batch loss : 0.8481565117835999\n",
            "Epoch(0/1 : Batch number(36/782)  Batch loss : 0.8781961798667908\n",
            "Epoch(0/1 : Batch number(37/782)  Batch loss : 0.5415005683898926\n",
            "Epoch(0/1 : Batch number(38/782)  Batch loss : 0.9519763588905334\n",
            "Epoch(0/1 : Batch number(39/782)  Batch loss : 0.7425471544265747\n",
            "Epoch(0/1 : Batch number(40/782)  Batch loss : 0.7695549130439758\n",
            "Epoch(0/1 : Batch number(41/782)  Batch loss : 0.5584397912025452\n",
            "Epoch(0/1 : Batch number(42/782)  Batch loss : 0.804016649723053\n",
            "Epoch(0/1 : Batch number(43/782)  Batch loss : 0.7489312887191772\n",
            "Epoch(0/1 : Batch number(44/782)  Batch loss : 0.5992471575737\n",
            "Epoch(0/1 : Batch number(45/782)  Batch loss : 0.9815888404846191\n",
            "Epoch(0/1 : Batch number(46/782)  Batch loss : 0.7302002310752869\n",
            "Epoch(0/1 : Batch number(47/782)  Batch loss : 0.6871901750564575\n",
            "Epoch(0/1 : Batch number(48/782)  Batch loss : 0.676863968372345\n",
            "Epoch(0/1 : Batch number(49/782)  Batch loss : 0.7044704556465149\n",
            "Epoch(0/1 : Batch number(50/782)  Batch loss : 0.6785189509391785\n",
            "Epoch(0/1 : Batch number(51/782)  Batch loss : 0.5042316913604736\n",
            "Epoch(0/1 : Batch number(52/782)  Batch loss : 0.6167357563972473\n",
            "Epoch(0/1 : Batch number(53/782)  Batch loss : 0.5226255059242249\n",
            "Epoch(0/1 : Batch number(54/782)  Batch loss : 0.5928130149841309\n",
            "Epoch(0/1 : Batch number(55/782)  Batch loss : 0.7210489511489868\n",
            "Epoch(0/1 : Batch number(56/782)  Batch loss : 0.6580981016159058\n",
            "Epoch(0/1 : Batch number(57/782)  Batch loss : 0.6799997091293335\n",
            "Epoch(0/1 : Batch number(58/782)  Batch loss : 0.7769018411636353\n",
            "Epoch(0/1 : Batch number(59/782)  Batch loss : 0.6714374423027039\n",
            "Epoch(0/1 : Batch number(60/782)  Batch loss : 0.7244043946266174\n",
            "Epoch(0/1 : Batch number(61/782)  Batch loss : 0.6259474754333496\n",
            "Epoch(0/1 : Batch number(62/782)  Batch loss : 0.8562852740287781\n",
            "Epoch(0/1 : Batch number(63/782)  Batch loss : 0.8218474388122559\n",
            "Epoch(0/1 : Batch number(64/782)  Batch loss : 0.7540078163146973\n",
            "Epoch(0/1 : Batch number(65/782)  Batch loss : 0.6310274004936218\n",
            "Epoch(0/1 : Batch number(66/782)  Batch loss : 0.7083077430725098\n",
            "Epoch(0/1 : Batch number(67/782)  Batch loss : 0.6449522972106934\n",
            "Epoch(0/1 : Batch number(68/782)  Batch loss : 0.8658434748649597\n",
            "Epoch(0/1 : Batch number(69/782)  Batch loss : 0.7126859426498413\n",
            "Epoch(0/1 : Batch number(70/782)  Batch loss : 0.6569045782089233\n",
            "Epoch(0/1 : Batch number(71/782)  Batch loss : 0.5906025767326355\n",
            "Epoch(0/1 : Batch number(72/782)  Batch loss : 0.7146779894828796\n",
            "Epoch(0/1 : Batch number(73/782)  Batch loss : 0.5739625096321106\n",
            "Epoch(0/1 : Batch number(74/782)  Batch loss : 0.7937120795249939\n",
            "Epoch(0/1 : Batch number(75/782)  Batch loss : 0.6599718332290649\n",
            "Epoch(0/1 : Batch number(76/782)  Batch loss : 0.6321310997009277\n",
            "Epoch(0/1 : Batch number(77/782)  Batch loss : 0.7773788571357727\n",
            "Epoch(0/1 : Batch number(78/782)  Batch loss : 0.6496070623397827\n",
            "Epoch(0/1 : Batch number(79/782)  Batch loss : 0.4698531925678253\n",
            "Epoch(0/1 : Batch number(80/782)  Batch loss : 0.7379664778709412\n",
            "Epoch(0/1 : Batch number(81/782)  Batch loss : 0.753027617931366\n",
            "Epoch(0/1 : Batch number(82/782)  Batch loss : 0.8001611232757568\n",
            "Epoch(0/1 : Batch number(83/782)  Batch loss : 0.5647593140602112\n",
            "Epoch(0/1 : Batch number(84/782)  Batch loss : 0.5980580449104309\n",
            "Epoch(0/1 : Batch number(85/782)  Batch loss : 0.5847380757331848\n",
            "Epoch(0/1 : Batch number(86/782)  Batch loss : 0.7267858982086182\n",
            "Epoch(0/1 : Batch number(87/782)  Batch loss : 0.6048910617828369\n",
            "Epoch(0/1 : Batch number(88/782)  Batch loss : 0.6224076151847839\n",
            "Epoch(0/1 : Batch number(89/782)  Batch loss : 0.689582347869873\n",
            "Epoch(0/1 : Batch number(90/782)  Batch loss : 0.6832447052001953\n",
            "Epoch(0/1 : Batch number(91/782)  Batch loss : 0.7117103338241577\n",
            "Epoch(0/1 : Batch number(92/782)  Batch loss : 0.6497161984443665\n",
            "Epoch(0/1 : Batch number(93/782)  Batch loss : 0.7108638286590576\n",
            "Epoch(0/1 : Batch number(94/782)  Batch loss : 0.6116119623184204\n",
            "Epoch(0/1 : Batch number(95/782)  Batch loss : 0.6037852168083191\n",
            "Epoch(0/1 : Batch number(96/782)  Batch loss : 0.7679333090782166\n",
            "Epoch(0/1 : Batch number(97/782)  Batch loss : 0.48252561688423157\n",
            "Epoch(0/1 : Batch number(98/782)  Batch loss : 0.7842181921005249\n",
            "Epoch(0/1 : Batch number(99/782)  Batch loss : 0.43708139657974243\n",
            "Epoch(0/1 : Batch number(100/782)  Batch loss : 0.4553813934326172\n",
            "Epoch(0/1 : Batch number(101/782)  Batch loss : 0.7201445698738098\n",
            "Epoch(0/1 : Batch number(102/782)  Batch loss : 0.5887404084205627\n",
            "Epoch(0/1 : Batch number(103/782)  Batch loss : 0.5060819983482361\n",
            "Epoch(0/1 : Batch number(104/782)  Batch loss : 0.9357410073280334\n",
            "Epoch(0/1 : Batch number(105/782)  Batch loss : 0.6160122156143188\n",
            "Epoch(0/1 : Batch number(106/782)  Batch loss : 0.8355910778045654\n",
            "Epoch(0/1 : Batch number(107/782)  Batch loss : 0.7081555724143982\n",
            "Epoch(0/1 : Batch number(108/782)  Batch loss : 0.5728213787078857\n",
            "Epoch(0/1 : Batch number(109/782)  Batch loss : 0.7523033618927002\n",
            "Epoch(0/1 : Batch number(110/782)  Batch loss : 0.5696649551391602\n",
            "Epoch(0/1 : Batch number(111/782)  Batch loss : 0.5266226530075073\n",
            "Epoch(0/1 : Batch number(112/782)  Batch loss : 0.6885868310928345\n",
            "Epoch(0/1 : Batch number(113/782)  Batch loss : 0.681229829788208\n",
            "Epoch(0/1 : Batch number(114/782)  Batch loss : 0.7069985270500183\n",
            "Epoch(0/1 : Batch number(115/782)  Batch loss : 0.5092405676841736\n",
            "Epoch(0/1 : Batch number(116/782)  Batch loss : 0.8441669344902039\n",
            "Epoch(0/1 : Batch number(117/782)  Batch loss : 0.5388312339782715\n",
            "Epoch(0/1 : Batch number(118/782)  Batch loss : 0.6173081994056702\n",
            "Epoch(0/1 : Batch number(119/782)  Batch loss : 0.6950149536132812\n",
            "Epoch(0/1 : Batch number(120/782)  Batch loss : 0.7894365191459656\n",
            "Epoch(0/1 : Batch number(121/782)  Batch loss : 0.6930011510848999\n",
            "Epoch(0/1 : Batch number(122/782)  Batch loss : 0.6527393460273743\n",
            "Epoch(0/1 : Batch number(123/782)  Batch loss : 0.673847496509552\n",
            "Epoch(0/1 : Batch number(124/782)  Batch loss : 0.8268533945083618\n",
            "Epoch(0/1 : Batch number(125/782)  Batch loss : 0.8859254121780396\n",
            "Epoch(0/1 : Batch number(126/782)  Batch loss : 0.4884656071662903\n",
            "Epoch(0/1 : Batch number(127/782)  Batch loss : 0.7481134533882141\n",
            "Epoch(0/1 : Batch number(128/782)  Batch loss : 0.48783552646636963\n",
            "Epoch(0/1 : Batch number(129/782)  Batch loss : 0.6449220776557922\n",
            "Epoch(0/1 : Batch number(130/782)  Batch loss : 0.62455153465271\n",
            "Epoch(0/1 : Batch number(131/782)  Batch loss : 0.7536624670028687\n",
            "Epoch(0/1 : Batch number(132/782)  Batch loss : 0.7890377044677734\n",
            "Epoch(0/1 : Batch number(133/782)  Batch loss : 0.5207328796386719\n",
            "Epoch(0/1 : Batch number(134/782)  Batch loss : 0.9288036823272705\n",
            "Epoch(0/1 : Batch number(135/782)  Batch loss : 0.5643457770347595\n",
            "Epoch(0/1 : Batch number(136/782)  Batch loss : 0.7108039855957031\n",
            "Epoch(0/1 : Batch number(137/782)  Batch loss : 0.5727128982543945\n",
            "Epoch(0/1 : Batch number(138/782)  Batch loss : 0.6956163048744202\n",
            "Epoch(0/1 : Batch number(139/782)  Batch loss : 0.8859226703643799\n",
            "Epoch(0/1 : Batch number(140/782)  Batch loss : 0.4978627860546112\n",
            "Epoch(0/1 : Batch number(141/782)  Batch loss : 0.6475168466567993\n",
            "Epoch(0/1 : Batch number(142/782)  Batch loss : 0.6103161573410034\n",
            "Epoch(0/1 : Batch number(143/782)  Batch loss : 0.5326772332191467\n",
            "Epoch(0/1 : Batch number(144/782)  Batch loss : 0.6869394779205322\n",
            "Epoch(0/1 : Batch number(145/782)  Batch loss : 0.961309552192688\n",
            "Epoch(0/1 : Batch number(146/782)  Batch loss : 0.570604681968689\n",
            "Epoch(0/1 : Batch number(147/782)  Batch loss : 0.7553394436836243\n",
            "Epoch(0/1 : Batch number(148/782)  Batch loss : 0.6951051354408264\n",
            "Epoch(0/1 : Batch number(149/782)  Batch loss : 0.7194349765777588\n",
            "Epoch(0/1 : Batch number(150/782)  Batch loss : 0.7942562103271484\n",
            "Epoch(0/1 : Batch number(151/782)  Batch loss : 0.48614469170570374\n",
            "Epoch(0/1 : Batch number(152/782)  Batch loss : 0.423132061958313\n",
            "Epoch(0/1 : Batch number(153/782)  Batch loss : 0.9461131691932678\n",
            "Epoch(0/1 : Batch number(154/782)  Batch loss : 0.44494742155075073\n",
            "Epoch(0/1 : Batch number(155/782)  Batch loss : 0.5548853874206543\n",
            "Epoch(0/1 : Batch number(156/782)  Batch loss : 0.4433835744857788\n",
            "Epoch(0/1 : Batch number(157/782)  Batch loss : 0.8204593062400818\n",
            "Epoch(0/1 : Batch number(158/782)  Batch loss : 0.5792855024337769\n",
            "Epoch(0/1 : Batch number(159/782)  Batch loss : 0.6275526881217957\n",
            "Epoch(0/1 : Batch number(160/782)  Batch loss : 0.6868131160736084\n",
            "Epoch(0/1 : Batch number(161/782)  Batch loss : 0.6637102961540222\n",
            "Epoch(0/1 : Batch number(162/782)  Batch loss : 0.6644469499588013\n",
            "Epoch(0/1 : Batch number(163/782)  Batch loss : 0.52387934923172\n",
            "Epoch(0/1 : Batch number(164/782)  Batch loss : 0.6009123921394348\n",
            "Epoch(0/1 : Batch number(165/782)  Batch loss : 0.500636100769043\n",
            "Epoch(0/1 : Batch number(166/782)  Batch loss : 0.5929690599441528\n",
            "Epoch(0/1 : Batch number(167/782)  Batch loss : 0.7365655303001404\n",
            "Epoch(0/1 : Batch number(168/782)  Batch loss : 0.8865759968757629\n",
            "Epoch(0/1 : Batch number(169/782)  Batch loss : 0.487082302570343\n",
            "Epoch(0/1 : Batch number(170/782)  Batch loss : 0.519476592540741\n",
            "Epoch(0/1 : Batch number(171/782)  Batch loss : 0.630638837814331\n",
            "Epoch(0/1 : Batch number(172/782)  Batch loss : 0.6010398268699646\n",
            "Epoch(0/1 : Batch number(173/782)  Batch loss : 0.8378255367279053\n",
            "Epoch(0/1 : Batch number(174/782)  Batch loss : 0.4568032920360565\n",
            "Epoch(0/1 : Batch number(175/782)  Batch loss : 0.41534414887428284\n",
            "Epoch(0/1 : Batch number(176/782)  Batch loss : 0.7731563448905945\n",
            "Epoch(0/1 : Batch number(177/782)  Batch loss : 0.5189070701599121\n",
            "Epoch(0/1 : Batch number(178/782)  Batch loss : 0.4488304853439331\n",
            "Epoch(0/1 : Batch number(179/782)  Batch loss : 0.8295232653617859\n",
            "Epoch(0/1 : Batch number(180/782)  Batch loss : 0.7381945848464966\n",
            "Epoch(0/1 : Batch number(181/782)  Batch loss : 0.6800314784049988\n",
            "Epoch(0/1 : Batch number(182/782)  Batch loss : 0.624398946762085\n",
            "Epoch(0/1 : Batch number(183/782)  Batch loss : 0.6387487053871155\n",
            "Epoch(0/1 : Batch number(184/782)  Batch loss : 0.7019010186195374\n",
            "Epoch(0/1 : Batch number(185/782)  Batch loss : 0.5011732578277588\n",
            "Epoch(0/1 : Batch number(186/782)  Batch loss : 0.5194138884544373\n",
            "Epoch(0/1 : Batch number(187/782)  Batch loss : 0.46300816535949707\n",
            "Epoch(0/1 : Batch number(188/782)  Batch loss : 0.7353271245956421\n",
            "Epoch(0/1 : Batch number(189/782)  Batch loss : 0.8038791418075562\n",
            "Epoch(0/1 : Batch number(190/782)  Batch loss : 0.9159091711044312\n",
            "Epoch(0/1 : Batch number(191/782)  Batch loss : 0.4957796037197113\n",
            "Epoch(0/1 : Batch number(192/782)  Batch loss : 0.4024537205696106\n",
            "Epoch(0/1 : Batch number(193/782)  Batch loss : 0.4692125618457794\n",
            "Epoch(0/1 : Batch number(194/782)  Batch loss : 0.7185302376747131\n",
            "Epoch(0/1 : Batch number(195/782)  Batch loss : 0.662784993648529\n",
            "Epoch(0/1 : Batch number(196/782)  Batch loss : 0.5028820633888245\n",
            "Epoch(0/1 : Batch number(197/782)  Batch loss : 0.5476457476615906\n",
            "Epoch(0/1 : Batch number(198/782)  Batch loss : 0.808645486831665\n",
            "Epoch(0/1 : Batch number(199/782)  Batch loss : 0.6274272203445435\n",
            "Epoch(0/1 : Batch number(200/782)  Batch loss : 0.515274167060852\n",
            "Epoch(0/1 : Batch number(201/782)  Batch loss : 0.7583396434783936\n",
            "Epoch(0/1 : Batch number(202/782)  Batch loss : 0.6289156675338745\n",
            "Epoch(0/1 : Batch number(203/782)  Batch loss : 0.7697340846061707\n",
            "Epoch(0/1 : Batch number(204/782)  Batch loss : 0.8381701111793518\n",
            "Epoch(0/1 : Batch number(205/782)  Batch loss : 0.8351144790649414\n",
            "Epoch(0/1 : Batch number(206/782)  Batch loss : 0.5615423917770386\n",
            "Epoch(0/1 : Batch number(207/782)  Batch loss : 0.8157963752746582\n",
            "Epoch(0/1 : Batch number(208/782)  Batch loss : 0.7685231566429138\n",
            "Epoch(0/1 : Batch number(209/782)  Batch loss : 0.46769875288009644\n",
            "Epoch(0/1 : Batch number(210/782)  Batch loss : 0.4432778060436249\n",
            "Epoch(0/1 : Batch number(211/782)  Batch loss : 0.4837661683559418\n",
            "Epoch(0/1 : Batch number(212/782)  Batch loss : 0.5799267292022705\n",
            "Epoch(0/1 : Batch number(213/782)  Batch loss : 0.6173779368400574\n",
            "Epoch(0/1 : Batch number(214/782)  Batch loss : 0.4469538629055023\n",
            "Epoch(0/1 : Batch number(215/782)  Batch loss : 0.49104946851730347\n",
            "Epoch(0/1 : Batch number(216/782)  Batch loss : 0.730758547782898\n",
            "Epoch(0/1 : Batch number(217/782)  Batch loss : 0.5826642513275146\n",
            "Epoch(0/1 : Batch number(218/782)  Batch loss : 0.7757449746131897\n",
            "Epoch(0/1 : Batch number(219/782)  Batch loss : 0.47384655475616455\n",
            "Epoch(0/1 : Batch number(220/782)  Batch loss : 0.6474916338920593\n",
            "Epoch(0/1 : Batch number(221/782)  Batch loss : 0.6146014928817749\n",
            "Epoch(0/1 : Batch number(222/782)  Batch loss : 0.5703545212745667\n",
            "Epoch(0/1 : Batch number(223/782)  Batch loss : 0.7785479426383972\n",
            "Epoch(0/1 : Batch number(224/782)  Batch loss : 0.5150519013404846\n",
            "Epoch(0/1 : Batch number(225/782)  Batch loss : 0.7131329774856567\n",
            "Epoch(0/1 : Batch number(226/782)  Batch loss : 0.637279748916626\n",
            "Epoch(0/1 : Batch number(227/782)  Batch loss : 0.5345630049705505\n",
            "Epoch(0/1 : Batch number(228/782)  Batch loss : 0.8365404605865479\n",
            "Epoch(0/1 : Batch number(229/782)  Batch loss : 0.47031450271606445\n",
            "Epoch(0/1 : Batch number(230/782)  Batch loss : 0.4556213617324829\n",
            "Epoch(0/1 : Batch number(231/782)  Batch loss : 0.7769792079925537\n",
            "Epoch(0/1 : Batch number(232/782)  Batch loss : 0.8943265080451965\n",
            "Epoch(0/1 : Batch number(233/782)  Batch loss : 0.49046093225479126\n",
            "Epoch(0/1 : Batch number(234/782)  Batch loss : 0.650521993637085\n",
            "Epoch(0/1 : Batch number(235/782)  Batch loss : 0.6510913372039795\n",
            "Epoch(0/1 : Batch number(236/782)  Batch loss : 0.5449977517127991\n",
            "Epoch(0/1 : Batch number(237/782)  Batch loss : 0.7288233041763306\n",
            "Epoch(0/1 : Batch number(238/782)  Batch loss : 0.4951678216457367\n",
            "Epoch(0/1 : Batch number(239/782)  Batch loss : 0.8313730359077454\n",
            "Epoch(0/1 : Batch number(240/782)  Batch loss : 0.8890281319618225\n",
            "Epoch(0/1 : Batch number(241/782)  Batch loss : 0.45429879426956177\n",
            "Epoch(0/1 : Batch number(242/782)  Batch loss : 0.8046324253082275\n",
            "Epoch(0/1 : Batch number(243/782)  Batch loss : 0.7316317558288574\n",
            "Epoch(0/1 : Batch number(244/782)  Batch loss : 0.4169318675994873\n",
            "Epoch(0/1 : Batch number(245/782)  Batch loss : 0.49797722697257996\n",
            "Epoch(0/1 : Batch number(246/782)  Batch loss : 0.49005648493766785\n",
            "Epoch(0/1 : Batch number(247/782)  Batch loss : 0.6053378582000732\n",
            "Epoch(0/1 : Batch number(248/782)  Batch loss : 0.796154260635376\n",
            "Epoch(0/1 : Batch number(249/782)  Batch loss : 0.7327339053153992\n",
            "Epoch(0/1 : Batch number(250/782)  Batch loss : 0.6075066328048706\n",
            "Epoch(0/1 : Batch number(251/782)  Batch loss : 0.8431396484375\n",
            "Epoch(0/1 : Batch number(252/782)  Batch loss : 0.6685793995857239\n",
            "Epoch(0/1 : Batch number(253/782)  Batch loss : 0.6534870266914368\n",
            "Epoch(0/1 : Batch number(254/782)  Batch loss : 0.6667119264602661\n",
            "Epoch(0/1 : Batch number(255/782)  Batch loss : 0.6250484585762024\n",
            "Epoch(0/1 : Batch number(256/782)  Batch loss : 0.6395279765129089\n",
            "Epoch(0/1 : Batch number(257/782)  Batch loss : 1.0068306922912598\n",
            "Epoch(0/1 : Batch number(258/782)  Batch loss : 0.483218252658844\n",
            "Epoch(0/1 : Batch number(259/782)  Batch loss : 0.9318901896476746\n",
            "Epoch(0/1 : Batch number(260/782)  Batch loss : 0.7984632849693298\n",
            "Epoch(0/1 : Batch number(261/782)  Batch loss : 0.7538465857505798\n",
            "Epoch(0/1 : Batch number(262/782)  Batch loss : 0.5588002800941467\n",
            "Epoch(0/1 : Batch number(263/782)  Batch loss : 0.7596797347068787\n",
            "Epoch(0/1 : Batch number(264/782)  Batch loss : 0.4696936309337616\n",
            "Epoch(0/1 : Batch number(265/782)  Batch loss : 0.5059025883674622\n",
            "Epoch(0/1 : Batch number(266/782)  Batch loss : 0.5981943607330322\n",
            "Epoch(0/1 : Batch number(267/782)  Batch loss : 0.7080178260803223\n",
            "Epoch(0/1 : Batch number(268/782)  Batch loss : 0.5870035886764526\n",
            "Epoch(0/1 : Batch number(269/782)  Batch loss : 0.719346284866333\n",
            "Epoch(0/1 : Batch number(270/782)  Batch loss : 0.54278963804245\n",
            "Epoch(0/1 : Batch number(271/782)  Batch loss : 0.7701196670532227\n",
            "Epoch(0/1 : Batch number(272/782)  Batch loss : 0.6803500056266785\n",
            "Epoch(0/1 : Batch number(273/782)  Batch loss : 0.646199107170105\n",
            "Epoch(0/1 : Batch number(274/782)  Batch loss : 0.5850744843482971\n",
            "Epoch(0/1 : Batch number(275/782)  Batch loss : 0.5112467408180237\n",
            "Epoch(0/1 : Batch number(276/782)  Batch loss : 0.49156996607780457\n",
            "Epoch(0/1 : Batch number(277/782)  Batch loss : 0.4921571910381317\n",
            "Epoch(0/1 : Batch number(278/782)  Batch loss : 0.5837337374687195\n",
            "Epoch(0/1 : Batch number(279/782)  Batch loss : 0.588614284992218\n",
            "Epoch(0/1 : Batch number(280/782)  Batch loss : 0.5996967554092407\n",
            "Epoch(0/1 : Batch number(281/782)  Batch loss : 0.4831545948982239\n",
            "Epoch(0/1 : Batch number(282/782)  Batch loss : 0.5994476675987244\n",
            "Epoch(0/1 : Batch number(283/782)  Batch loss : 0.6243124008178711\n",
            "Epoch(0/1 : Batch number(284/782)  Batch loss : 0.7373346090316772\n",
            "Epoch(0/1 : Batch number(285/782)  Batch loss : 0.684175431728363\n",
            "Epoch(0/1 : Batch number(286/782)  Batch loss : 0.7734479308128357\n",
            "Epoch(0/1 : Batch number(287/782)  Batch loss : 0.6029682159423828\n",
            "Epoch(0/1 : Batch number(288/782)  Batch loss : 0.7180196642875671\n",
            "Epoch(0/1 : Batch number(289/782)  Batch loss : 0.7150854468345642\n",
            "Epoch(0/1 : Batch number(290/782)  Batch loss : 0.6342447996139526\n",
            "Epoch(0/1 : Batch number(291/782)  Batch loss : 0.6978172063827515\n",
            "Epoch(0/1 : Batch number(292/782)  Batch loss : 0.42873504757881165\n",
            "Epoch(0/1 : Batch number(293/782)  Batch loss : 0.5395892858505249\n",
            "Epoch(0/1 : Batch number(294/782)  Batch loss : 0.6716447472572327\n",
            "Epoch(0/1 : Batch number(295/782)  Batch loss : 0.5362818241119385\n",
            "Epoch(0/1 : Batch number(296/782)  Batch loss : 0.5062342286109924\n",
            "Epoch(0/1 : Batch number(297/782)  Batch loss : 0.5061383247375488\n",
            "Epoch(0/1 : Batch number(298/782)  Batch loss : 0.5419620871543884\n",
            "Epoch(0/1 : Batch number(299/782)  Batch loss : 0.6063034534454346\n",
            "Epoch(0/1 : Batch number(300/782)  Batch loss : 0.5779120922088623\n",
            "Epoch(0/1 : Batch number(301/782)  Batch loss : 0.5200199484825134\n",
            "Epoch(0/1 : Batch number(302/782)  Batch loss : 0.7511094212532043\n",
            "Epoch(0/1 : Batch number(303/782)  Batch loss : 0.88624507188797\n",
            "Epoch(0/1 : Batch number(304/782)  Batch loss : 0.7349057197570801\n",
            "Epoch(0/1 : Batch number(305/782)  Batch loss : 0.45906537771224976\n",
            "Epoch(0/1 : Batch number(306/782)  Batch loss : 0.638725221157074\n",
            "Epoch(0/1 : Batch number(307/782)  Batch loss : 0.4056906998157501\n",
            "Epoch(0/1 : Batch number(308/782)  Batch loss : 0.6058428883552551\n",
            "Epoch(0/1 : Batch number(309/782)  Batch loss : 0.5535469055175781\n",
            "Epoch(0/1 : Batch number(310/782)  Batch loss : 0.6099743247032166\n",
            "Epoch(0/1 : Batch number(311/782)  Batch loss : 0.5804077982902527\n",
            "Epoch(0/1 : Batch number(312/782)  Batch loss : 0.545966386795044\n",
            "Epoch(0/1 : Batch number(313/782)  Batch loss : 0.7431467175483704\n",
            "Epoch(0/1 : Batch number(314/782)  Batch loss : 0.5488195419311523\n",
            "Epoch(0/1 : Batch number(315/782)  Batch loss : 0.7465338110923767\n",
            "Epoch(0/1 : Batch number(316/782)  Batch loss : 0.7872529029846191\n",
            "Epoch(0/1 : Batch number(317/782)  Batch loss : 0.41319870948791504\n",
            "Epoch(0/1 : Batch number(318/782)  Batch loss : 0.7080110907554626\n",
            "Epoch(0/1 : Batch number(319/782)  Batch loss : 0.5014901161193848\n",
            "Epoch(0/1 : Batch number(320/782)  Batch loss : 0.7242172956466675\n",
            "Epoch(0/1 : Batch number(321/782)  Batch loss : 0.5913615226745605\n",
            "Epoch(0/1 : Batch number(322/782)  Batch loss : 0.4521385729312897\n",
            "Epoch(0/1 : Batch number(323/782)  Batch loss : 0.4056488573551178\n",
            "Epoch(0/1 : Batch number(324/782)  Batch loss : 0.810556173324585\n",
            "Epoch(0/1 : Batch number(325/782)  Batch loss : 0.4144131541252136\n",
            "Epoch(0/1 : Batch number(326/782)  Batch loss : 0.5174081921577454\n",
            "Epoch(0/1 : Batch number(327/782)  Batch loss : 0.676917552947998\n",
            "Epoch(0/1 : Batch number(328/782)  Batch loss : 0.6509689688682556\n",
            "Epoch(0/1 : Batch number(329/782)  Batch loss : 0.4252564311027527\n",
            "Epoch(0/1 : Batch number(330/782)  Batch loss : 0.6580512523651123\n",
            "Epoch(0/1 : Batch number(331/782)  Batch loss : 0.6114657521247864\n",
            "Epoch(0/1 : Batch number(332/782)  Batch loss : 0.6107766628265381\n",
            "Epoch(0/1 : Batch number(333/782)  Batch loss : 0.6060686707496643\n",
            "Epoch(0/1 : Batch number(334/782)  Batch loss : 0.6655778288841248\n",
            "Epoch(0/1 : Batch number(335/782)  Batch loss : 0.5348585844039917\n",
            "Epoch(0/1 : Batch number(336/782)  Batch loss : 0.7056488394737244\n",
            "Epoch(0/1 : Batch number(337/782)  Batch loss : 0.4962945878505707\n",
            "Epoch(0/1 : Batch number(338/782)  Batch loss : 0.5148165822029114\n",
            "Epoch(0/1 : Batch number(339/782)  Batch loss : 0.3898526430130005\n",
            "Epoch(0/1 : Batch number(340/782)  Batch loss : 0.4066682457923889\n",
            "Epoch(0/1 : Batch number(341/782)  Batch loss : 0.4782206416130066\n",
            "Epoch(0/1 : Batch number(342/782)  Batch loss : 0.7481774687767029\n",
            "Epoch(0/1 : Batch number(343/782)  Batch loss : 0.6170464158058167\n",
            "Epoch(0/1 : Batch number(344/782)  Batch loss : 0.6755314469337463\n",
            "Epoch(0/1 : Batch number(345/782)  Batch loss : 0.6188052296638489\n",
            "Epoch(0/1 : Batch number(346/782)  Batch loss : 0.3915722072124481\n",
            "Epoch(0/1 : Batch number(347/782)  Batch loss : 0.7917430400848389\n",
            "Epoch(0/1 : Batch number(348/782)  Batch loss : 0.1914052665233612\n",
            "Epoch(0/1 : Batch number(349/782)  Batch loss : 0.6024273633956909\n",
            "Epoch(0/1 : Batch number(350/782)  Batch loss : 0.4265744686126709\n",
            "Epoch(0/1 : Batch number(351/782)  Batch loss : 0.6439763307571411\n",
            "Epoch(0/1 : Batch number(352/782)  Batch loss : 0.497053861618042\n",
            "Epoch(0/1 : Batch number(353/782)  Batch loss : 0.5931015014648438\n",
            "Epoch(0/1 : Batch number(354/782)  Batch loss : 0.5744357705116272\n",
            "Epoch(0/1 : Batch number(355/782)  Batch loss : 0.4800349175930023\n",
            "Epoch(0/1 : Batch number(356/782)  Batch loss : 0.575554370880127\n",
            "Epoch(0/1 : Batch number(357/782)  Batch loss : 0.7209019660949707\n",
            "Epoch(0/1 : Batch number(358/782)  Batch loss : 0.5796582698822021\n",
            "Epoch(0/1 : Batch number(359/782)  Batch loss : 0.7626871466636658\n",
            "Epoch(0/1 : Batch number(360/782)  Batch loss : 0.5344480872154236\n",
            "Epoch(0/1 : Batch number(361/782)  Batch loss : 0.5757265090942383\n",
            "Epoch(0/1 : Batch number(362/782)  Batch loss : 0.6557734608650208\n",
            "Epoch(0/1 : Batch number(363/782)  Batch loss : 0.5428774356842041\n",
            "Epoch(0/1 : Batch number(364/782)  Batch loss : 0.8531870245933533\n",
            "Epoch(0/1 : Batch number(365/782)  Batch loss : 0.45027050375938416\n",
            "Epoch(0/1 : Batch number(366/782)  Batch loss : 0.48141199350357056\n",
            "Epoch(0/1 : Batch number(367/782)  Batch loss : 0.7023705244064331\n",
            "Epoch(0/1 : Batch number(368/782)  Batch loss : 0.6833881735801697\n",
            "Epoch(0/1 : Batch number(369/782)  Batch loss : 0.5192976593971252\n",
            "Epoch(0/1 : Batch number(370/782)  Batch loss : 0.5080549716949463\n",
            "Epoch(0/1 : Batch number(371/782)  Batch loss : 0.534169614315033\n",
            "Epoch(0/1 : Batch number(372/782)  Batch loss : 0.6589824557304382\n",
            "Epoch(0/1 : Batch number(373/782)  Batch loss : 0.5891801714897156\n",
            "Epoch(0/1 : Batch number(374/782)  Batch loss : 0.8027088642120361\n",
            "Epoch(0/1 : Batch number(375/782)  Batch loss : 0.652108907699585\n",
            "Epoch(0/1 : Batch number(376/782)  Batch loss : 0.3679801821708679\n",
            "Epoch(0/1 : Batch number(377/782)  Batch loss : 0.9343435764312744\n",
            "Epoch(0/1 : Batch number(378/782)  Batch loss : 0.548197329044342\n",
            "Epoch(0/1 : Batch number(379/782)  Batch loss : 0.6386384963989258\n",
            "Epoch(0/1 : Batch number(380/782)  Batch loss : 0.6599359512329102\n",
            "Epoch(0/1 : Batch number(381/782)  Batch loss : 0.4229702651500702\n",
            "Epoch(0/1 : Batch number(382/782)  Batch loss : 0.6605821251869202\n",
            "Epoch(0/1 : Batch number(383/782)  Batch loss : 0.7144939303398132\n",
            "Epoch(0/1 : Batch number(384/782)  Batch loss : 0.6676468849182129\n",
            "Epoch(0/1 : Batch number(385/782)  Batch loss : 0.5587111711502075\n",
            "Epoch(0/1 : Batch number(386/782)  Batch loss : 0.44394585490226746\n",
            "Epoch(0/1 : Batch number(387/782)  Batch loss : 0.6645635366439819\n",
            "Epoch(0/1 : Batch number(388/782)  Batch loss : 0.5677287578582764\n",
            "Epoch(0/1 : Batch number(389/782)  Batch loss : 0.7721112370491028\n",
            "Epoch(0/1 : Batch number(390/782)  Batch loss : 0.6307781338691711\n",
            "Epoch(0/1 : Batch number(391/782)  Batch loss : 0.4921855926513672\n",
            "Epoch(0/1 : Batch number(392/782)  Batch loss : 0.7832664251327515\n",
            "Epoch(0/1 : Batch number(393/782)  Batch loss : 0.6875351667404175\n",
            "Epoch(0/1 : Batch number(394/782)  Batch loss : 0.5191939473152161\n",
            "Epoch(0/1 : Batch number(395/782)  Batch loss : 0.3917315602302551\n",
            "Epoch(0/1 : Batch number(396/782)  Batch loss : 0.9154777526855469\n",
            "Epoch(0/1 : Batch number(397/782)  Batch loss : 0.733306884765625\n",
            "Epoch(0/1 : Batch number(398/782)  Batch loss : 0.612678050994873\n",
            "Epoch(0/1 : Batch number(399/782)  Batch loss : 0.6586194038391113\n",
            "Epoch(0/1 : Batch number(400/782)  Batch loss : 0.46604347229003906\n",
            "Epoch(0/1 : Batch number(401/782)  Batch loss : 0.646763026714325\n",
            "Epoch(0/1 : Batch number(402/782)  Batch loss : 0.5748373866081238\n",
            "Epoch(0/1 : Batch number(403/782)  Batch loss : 0.5132104754447937\n",
            "Epoch(0/1 : Batch number(404/782)  Batch loss : 0.4255969524383545\n",
            "Epoch(0/1 : Batch number(405/782)  Batch loss : 0.6970403790473938\n",
            "Epoch(0/1 : Batch number(406/782)  Batch loss : 0.6922243237495422\n",
            "Epoch(0/1 : Batch number(407/782)  Batch loss : 0.3964923620223999\n",
            "Epoch(0/1 : Batch number(408/782)  Batch loss : 0.6181929111480713\n",
            "Epoch(0/1 : Batch number(409/782)  Batch loss : 0.5111044049263\n",
            "Epoch(0/1 : Batch number(410/782)  Batch loss : 0.5576674938201904\n",
            "Epoch(0/1 : Batch number(411/782)  Batch loss : 0.7072900533676147\n",
            "Epoch(0/1 : Batch number(412/782)  Batch loss : 0.6228061318397522\n",
            "Epoch(0/1 : Batch number(413/782)  Batch loss : 0.4349134564399719\n",
            "Epoch(0/1 : Batch number(414/782)  Batch loss : 0.5137396454811096\n",
            "Epoch(0/1 : Batch number(415/782)  Batch loss : 0.6818174719810486\n",
            "Epoch(0/1 : Batch number(416/782)  Batch loss : 0.43368256092071533\n",
            "Epoch(0/1 : Batch number(417/782)  Batch loss : 0.6564087867736816\n",
            "Epoch(0/1 : Batch number(418/782)  Batch loss : 0.42585524916648865\n",
            "Epoch(0/1 : Batch number(419/782)  Batch loss : 0.821528971195221\n",
            "Epoch(0/1 : Batch number(420/782)  Batch loss : 0.6093288064002991\n",
            "Epoch(0/1 : Batch number(421/782)  Batch loss : 0.6653594970703125\n",
            "Epoch(0/1 : Batch number(422/782)  Batch loss : 0.6885310411453247\n",
            "Epoch(0/1 : Batch number(423/782)  Batch loss : 0.6049458384513855\n",
            "Epoch(0/1 : Batch number(424/782)  Batch loss : 0.6455577611923218\n",
            "Epoch(0/1 : Batch number(425/782)  Batch loss : 0.5509223341941833\n",
            "Epoch(0/1 : Batch number(426/782)  Batch loss : 0.8947749137878418\n",
            "Epoch(0/1 : Batch number(427/782)  Batch loss : 0.689423680305481\n",
            "Epoch(0/1 : Batch number(428/782)  Batch loss : 0.41796445846557617\n",
            "Epoch(0/1 : Batch number(429/782)  Batch loss : 0.3836804926395416\n",
            "Epoch(0/1 : Batch number(430/782)  Batch loss : 0.6318382620811462\n",
            "Epoch(0/1 : Batch number(431/782)  Batch loss : 0.7010877132415771\n",
            "Epoch(0/1 : Batch number(432/782)  Batch loss : 0.5812168717384338\n",
            "Epoch(0/1 : Batch number(433/782)  Batch loss : 0.4957391023635864\n",
            "Epoch(0/1 : Batch number(434/782)  Batch loss : 0.519124448299408\n",
            "Epoch(0/1 : Batch number(435/782)  Batch loss : 0.5002880096435547\n",
            "Epoch(0/1 : Batch number(436/782)  Batch loss : 0.676540732383728\n",
            "Epoch(0/1 : Batch number(437/782)  Batch loss : 0.8892959952354431\n",
            "Epoch(0/1 : Batch number(438/782)  Batch loss : 0.5697623491287231\n",
            "Epoch(0/1 : Batch number(439/782)  Batch loss : 0.6007118821144104\n",
            "Epoch(0/1 : Batch number(440/782)  Batch loss : 0.41764965653419495\n",
            "Epoch(0/1 : Batch number(441/782)  Batch loss : 0.7582290768623352\n",
            "Epoch(0/1 : Batch number(442/782)  Batch loss : 0.4602772295475006\n",
            "Epoch(0/1 : Batch number(443/782)  Batch loss : 0.492942214012146\n",
            "Epoch(0/1 : Batch number(444/782)  Batch loss : 0.5151573419570923\n",
            "Epoch(0/1 : Batch number(445/782)  Batch loss : 0.6591264605522156\n",
            "Epoch(0/1 : Batch number(446/782)  Batch loss : 0.7331135869026184\n",
            "Epoch(0/1 : Batch number(447/782)  Batch loss : 0.8407889604568481\n",
            "Epoch(0/1 : Batch number(448/782)  Batch loss : 0.7958729267120361\n",
            "Epoch(0/1 : Batch number(449/782)  Batch loss : 0.5903353095054626\n",
            "Epoch(0/1 : Batch number(450/782)  Batch loss : 0.6916379332542419\n",
            "Epoch(0/1 : Batch number(451/782)  Batch loss : 0.4551253318786621\n",
            "Epoch(0/1 : Batch number(452/782)  Batch loss : 0.6314648985862732\n",
            "Epoch(0/1 : Batch number(453/782)  Batch loss : 0.8254621624946594\n",
            "Epoch(0/1 : Batch number(454/782)  Batch loss : 0.6579830646514893\n",
            "Epoch(0/1 : Batch number(455/782)  Batch loss : 0.7558309435844421\n",
            "Epoch(0/1 : Batch number(456/782)  Batch loss : 0.8104971647262573\n",
            "Epoch(0/1 : Batch number(457/782)  Batch loss : 0.6315013766288757\n",
            "Epoch(0/1 : Batch number(458/782)  Batch loss : 0.5176916122436523\n",
            "Epoch(0/1 : Batch number(459/782)  Batch loss : 0.5847406983375549\n",
            "Epoch(0/1 : Batch number(460/782)  Batch loss : 0.5846736431121826\n",
            "Epoch(0/1 : Batch number(461/782)  Batch loss : 0.497318297624588\n",
            "Epoch(0/1 : Batch number(462/782)  Batch loss : 0.5838897228240967\n",
            "Epoch(0/1 : Batch number(463/782)  Batch loss : 0.471200168132782\n",
            "Epoch(0/1 : Batch number(464/782)  Batch loss : 0.7567883729934692\n",
            "Epoch(0/1 : Batch number(465/782)  Batch loss : 0.7508938908576965\n",
            "Epoch(0/1 : Batch number(466/782)  Batch loss : 0.6221482157707214\n",
            "Epoch(0/1 : Batch number(467/782)  Batch loss : 0.6012421250343323\n",
            "Epoch(0/1 : Batch number(468/782)  Batch loss : 0.6260938048362732\n",
            "Epoch(0/1 : Batch number(469/782)  Batch loss : 0.40015578269958496\n",
            "Epoch(0/1 : Batch number(470/782)  Batch loss : 0.7728419303894043\n",
            "Epoch(0/1 : Batch number(471/782)  Batch loss : 0.7225121259689331\n",
            "Epoch(0/1 : Batch number(472/782)  Batch loss : 0.7936000227928162\n",
            "Epoch(0/1 : Batch number(473/782)  Batch loss : 0.8121184706687927\n",
            "Epoch(0/1 : Batch number(474/782)  Batch loss : 0.6615380048751831\n",
            "Epoch(0/1 : Batch number(475/782)  Batch loss : 0.45262473821640015\n",
            "Epoch(0/1 : Batch number(476/782)  Batch loss : 0.7226638197898865\n",
            "Epoch(0/1 : Batch number(477/782)  Batch loss : 0.5300874710083008\n",
            "Epoch(0/1 : Batch number(478/782)  Batch loss : 0.8475306034088135\n",
            "Epoch(0/1 : Batch number(479/782)  Batch loss : 0.6315912008285522\n",
            "Epoch(0/1 : Batch number(480/782)  Batch loss : 0.5114684104919434\n",
            "Epoch(0/1 : Batch number(481/782)  Batch loss : 0.5828784704208374\n",
            "Epoch(0/1 : Batch number(482/782)  Batch loss : 0.7011458277702332\n",
            "Epoch(0/1 : Batch number(483/782)  Batch loss : 0.5578472018241882\n",
            "Epoch(0/1 : Batch number(484/782)  Batch loss : 0.8145504593849182\n",
            "Epoch(0/1 : Batch number(485/782)  Batch loss : 0.730488121509552\n",
            "Epoch(0/1 : Batch number(486/782)  Batch loss : 0.5065383315086365\n",
            "Epoch(0/1 : Batch number(487/782)  Batch loss : 0.8755356073379517\n",
            "Epoch(0/1 : Batch number(488/782)  Batch loss : 0.7808611392974854\n",
            "Epoch(0/1 : Batch number(489/782)  Batch loss : 0.632348895072937\n",
            "Epoch(0/1 : Batch number(490/782)  Batch loss : 0.7485638856887817\n",
            "Epoch(0/1 : Batch number(491/782)  Batch loss : 0.38388770818710327\n",
            "Epoch(0/1 : Batch number(492/782)  Batch loss : 0.5143694877624512\n",
            "Epoch(0/1 : Batch number(493/782)  Batch loss : 0.5974576473236084\n",
            "Epoch(0/1 : Batch number(494/782)  Batch loss : 0.5248586535453796\n",
            "Epoch(0/1 : Batch number(495/782)  Batch loss : 0.6038082838058472\n",
            "Epoch(0/1 : Batch number(496/782)  Batch loss : 0.7537294626235962\n",
            "Epoch(0/1 : Batch number(497/782)  Batch loss : 0.5628451704978943\n",
            "Epoch(0/1 : Batch number(498/782)  Batch loss : 0.41877034306526184\n",
            "Epoch(0/1 : Batch number(499/782)  Batch loss : 0.5333369970321655\n",
            "Epoch(0/1 : Batch number(500/782)  Batch loss : 0.8718236684799194\n",
            "Epoch(0/1 : Batch number(501/782)  Batch loss : 0.8473947644233704\n",
            "Epoch(0/1 : Batch number(502/782)  Batch loss : 0.7099148631095886\n",
            "Epoch(0/1 : Batch number(503/782)  Batch loss : 0.47978490591049194\n",
            "Epoch(0/1 : Batch number(504/782)  Batch loss : 0.6251835227012634\n",
            "Epoch(0/1 : Batch number(505/782)  Batch loss : 0.47917139530181885\n",
            "Epoch(0/1 : Batch number(506/782)  Batch loss : 0.4147529602050781\n",
            "Epoch(0/1 : Batch number(507/782)  Batch loss : 0.6698943376541138\n",
            "Epoch(0/1 : Batch number(508/782)  Batch loss : 0.5687117576599121\n",
            "Epoch(0/1 : Batch number(509/782)  Batch loss : 0.9131237864494324\n",
            "Epoch(0/1 : Batch number(510/782)  Batch loss : 0.664919912815094\n",
            "Epoch(0/1 : Batch number(511/782)  Batch loss : 0.7883625626564026\n",
            "Epoch(0/1 : Batch number(512/782)  Batch loss : 0.44656607508659363\n",
            "Epoch(0/1 : Batch number(513/782)  Batch loss : 0.32444313168525696\n",
            "Epoch(0/1 : Batch number(514/782)  Batch loss : 0.644800066947937\n",
            "Epoch(0/1 : Batch number(515/782)  Batch loss : 0.6472433805465698\n",
            "Epoch(0/1 : Batch number(516/782)  Batch loss : 0.512326180934906\n",
            "Epoch(0/1 : Batch number(517/782)  Batch loss : 0.5706443786621094\n",
            "Epoch(0/1 : Batch number(518/782)  Batch loss : 0.7419897317886353\n",
            "Epoch(0/1 : Batch number(519/782)  Batch loss : 0.8254066109657288\n",
            "Epoch(0/1 : Batch number(520/782)  Batch loss : 0.4277704656124115\n",
            "Epoch(0/1 : Batch number(521/782)  Batch loss : 0.748022735118866\n",
            "Epoch(0/1 : Batch number(522/782)  Batch loss : 0.65465247631073\n",
            "Epoch(0/1 : Batch number(523/782)  Batch loss : 0.8645531535148621\n",
            "Epoch(0/1 : Batch number(524/782)  Batch loss : 0.47864845395088196\n",
            "Epoch(0/1 : Batch number(525/782)  Batch loss : 0.5849835872650146\n",
            "Epoch(0/1 : Batch number(526/782)  Batch loss : 0.5283169746398926\n",
            "Epoch(0/1 : Batch number(527/782)  Batch loss : 0.6546585559844971\n",
            "Epoch(0/1 : Batch number(528/782)  Batch loss : 0.6330045461654663\n",
            "Epoch(0/1 : Batch number(529/782)  Batch loss : 0.8280062675476074\n",
            "Epoch(0/1 : Batch number(530/782)  Batch loss : 0.47566795349121094\n",
            "Epoch(0/1 : Batch number(531/782)  Batch loss : 0.7104052901268005\n",
            "Epoch(0/1 : Batch number(532/782)  Batch loss : 0.686140775680542\n",
            "Epoch(0/1 : Batch number(533/782)  Batch loss : 0.6036581993103027\n",
            "Epoch(0/1 : Batch number(534/782)  Batch loss : 0.44640910625457764\n",
            "Epoch(0/1 : Batch number(535/782)  Batch loss : 0.5789906978607178\n",
            "Epoch(0/1 : Batch number(536/782)  Batch loss : 0.5484580993652344\n",
            "Epoch(0/1 : Batch number(537/782)  Batch loss : 0.7179928421974182\n",
            "Epoch(0/1 : Batch number(538/782)  Batch loss : 0.6950496435165405\n",
            "Epoch(0/1 : Batch number(539/782)  Batch loss : 0.8267967104911804\n",
            "Epoch(0/1 : Batch number(540/782)  Batch loss : 0.6320972442626953\n",
            "Epoch(0/1 : Batch number(541/782)  Batch loss : 0.6259468197822571\n",
            "Epoch(0/1 : Batch number(542/782)  Batch loss : 0.5000704526901245\n",
            "Epoch(0/1 : Batch number(543/782)  Batch loss : 0.6360248327255249\n",
            "Epoch(0/1 : Batch number(544/782)  Batch loss : 0.572620689868927\n",
            "Epoch(0/1 : Batch number(545/782)  Batch loss : 0.5155807733535767\n",
            "Epoch(0/1 : Batch number(546/782)  Batch loss : 0.6531798839569092\n",
            "Epoch(0/1 : Batch number(547/782)  Batch loss : 0.6009036898612976\n",
            "Epoch(0/1 : Batch number(548/782)  Batch loss : 0.7977248430252075\n",
            "Epoch(0/1 : Batch number(549/782)  Batch loss : 0.583458423614502\n",
            "Epoch(0/1 : Batch number(550/782)  Batch loss : 0.8355622291564941\n",
            "Epoch(0/1 : Batch number(551/782)  Batch loss : 0.7550519108772278\n",
            "Epoch(0/1 : Batch number(552/782)  Batch loss : 0.31780606508255005\n",
            "Epoch(0/1 : Batch number(553/782)  Batch loss : 0.4844946265220642\n",
            "Epoch(0/1 : Batch number(554/782)  Batch loss : 0.8399884104728699\n",
            "Epoch(0/1 : Batch number(555/782)  Batch loss : 0.7084716558456421\n",
            "Epoch(0/1 : Batch number(556/782)  Batch loss : 0.7045429944992065\n",
            "Epoch(0/1 : Batch number(557/782)  Batch loss : 0.6070893406867981\n",
            "Epoch(0/1 : Batch number(558/782)  Batch loss : 0.6318359375\n",
            "Epoch(0/1 : Batch number(559/782)  Batch loss : 0.6129155158996582\n",
            "Epoch(0/1 : Batch number(560/782)  Batch loss : 0.7455117702484131\n",
            "Epoch(0/1 : Batch number(561/782)  Batch loss : 0.6329056024551392\n",
            "Epoch(0/1 : Batch number(562/782)  Batch loss : 0.8192126154899597\n",
            "Epoch(0/1 : Batch number(563/782)  Batch loss : 0.5532170534133911\n",
            "Epoch(0/1 : Batch number(564/782)  Batch loss : 0.8584961295127869\n",
            "Epoch(0/1 : Batch number(565/782)  Batch loss : 0.6180882453918457\n",
            "Epoch(0/1 : Batch number(566/782)  Batch loss : 0.6228875517845154\n",
            "Epoch(0/1 : Batch number(567/782)  Batch loss : 0.8542523980140686\n",
            "Epoch(0/1 : Batch number(568/782)  Batch loss : 0.6513384580612183\n",
            "Epoch(0/1 : Batch number(569/782)  Batch loss : 0.5469365119934082\n",
            "Epoch(0/1 : Batch number(570/782)  Batch loss : 0.7405893802642822\n",
            "Epoch(0/1 : Batch number(571/782)  Batch loss : 0.7067553400993347\n",
            "Epoch(0/1 : Batch number(572/782)  Batch loss : 0.5142519474029541\n",
            "Epoch(0/1 : Batch number(573/782)  Batch loss : 0.3495996296405792\n",
            "Epoch(0/1 : Batch number(574/782)  Batch loss : 0.4581155478954315\n",
            "Epoch(0/1 : Batch number(575/782)  Batch loss : 0.6870912313461304\n",
            "Epoch(0/1 : Batch number(576/782)  Batch loss : 0.47263363003730774\n",
            "Epoch(0/1 : Batch number(577/782)  Batch loss : 0.5296627879142761\n",
            "Epoch(0/1 : Batch number(578/782)  Batch loss : 0.3626512289047241\n",
            "Epoch(0/1 : Batch number(579/782)  Batch loss : 0.6756829619407654\n",
            "Epoch(0/1 : Batch number(580/782)  Batch loss : 0.6198158264160156\n",
            "Epoch(0/1 : Batch number(581/782)  Batch loss : 0.3878311812877655\n",
            "Epoch(0/1 : Batch number(582/782)  Batch loss : 0.7050134539604187\n",
            "Epoch(0/1 : Batch number(583/782)  Batch loss : 0.6911373138427734\n",
            "Epoch(0/1 : Batch number(584/782)  Batch loss : 0.730534553527832\n",
            "Epoch(0/1 : Batch number(585/782)  Batch loss : 0.4527653455734253\n",
            "Epoch(0/1 : Batch number(586/782)  Batch loss : 0.5165561437606812\n",
            "Epoch(0/1 : Batch number(587/782)  Batch loss : 0.38535866141319275\n",
            "Epoch(0/1 : Batch number(588/782)  Batch loss : 0.8779426217079163\n",
            "Epoch(0/1 : Batch number(589/782)  Batch loss : 0.6531657576560974\n",
            "Epoch(0/1 : Batch number(590/782)  Batch loss : 0.776375412940979\n",
            "Epoch(0/1 : Batch number(591/782)  Batch loss : 0.8094620108604431\n",
            "Epoch(0/1 : Batch number(592/782)  Batch loss : 0.6256988644599915\n",
            "Epoch(0/1 : Batch number(593/782)  Batch loss : 0.6452111601829529\n",
            "Epoch(0/1 : Batch number(594/782)  Batch loss : 0.6372588872909546\n",
            "Epoch(0/1 : Batch number(595/782)  Batch loss : 0.7731576561927795\n",
            "Epoch(0/1 : Batch number(596/782)  Batch loss : 0.4868738055229187\n",
            "Epoch(0/1 : Batch number(597/782)  Batch loss : 0.7240867614746094\n",
            "Epoch(0/1 : Batch number(598/782)  Batch loss : 0.5480974912643433\n",
            "Epoch(0/1 : Batch number(599/782)  Batch loss : 0.607242226600647\n",
            "Epoch(0/1 : Batch number(600/782)  Batch loss : 0.39710092544555664\n",
            "Epoch(0/1 : Batch number(601/782)  Batch loss : 0.45060619711875916\n",
            "Epoch(0/1 : Batch number(602/782)  Batch loss : 0.6856046915054321\n",
            "Epoch(0/1 : Batch number(603/782)  Batch loss : 0.7365278601646423\n",
            "Epoch(0/1 : Batch number(604/782)  Batch loss : 0.49247756600379944\n",
            "Epoch(0/1 : Batch number(605/782)  Batch loss : 0.5001893043518066\n",
            "Epoch(0/1 : Batch number(606/782)  Batch loss : 0.7621627449989319\n",
            "Epoch(0/1 : Batch number(607/782)  Batch loss : 0.4718475341796875\n",
            "Epoch(0/1 : Batch number(608/782)  Batch loss : 0.5650578737258911\n",
            "Epoch(0/1 : Batch number(609/782)  Batch loss : 0.713058352470398\n",
            "Epoch(0/1 : Batch number(610/782)  Batch loss : 0.8072961568832397\n",
            "Epoch(0/1 : Batch number(611/782)  Batch loss : 0.6295689344406128\n",
            "Epoch(0/1 : Batch number(612/782)  Batch loss : 0.44535017013549805\n",
            "Epoch(0/1 : Batch number(613/782)  Batch loss : 0.5032409429550171\n",
            "Epoch(0/1 : Batch number(614/782)  Batch loss : 0.6307169198989868\n",
            "Epoch(0/1 : Batch number(615/782)  Batch loss : 0.8776466846466064\n",
            "Epoch(0/1 : Batch number(616/782)  Batch loss : 0.7656466960906982\n",
            "Epoch(0/1 : Batch number(617/782)  Batch loss : 0.6105635762214661\n",
            "Epoch(0/1 : Batch number(618/782)  Batch loss : 0.6177673935890198\n",
            "Epoch(0/1 : Batch number(619/782)  Batch loss : 0.550422191619873\n",
            "Epoch(0/1 : Batch number(620/782)  Batch loss : 0.8096609115600586\n",
            "Epoch(0/1 : Batch number(621/782)  Batch loss : 0.6585334539413452\n",
            "Epoch(0/1 : Batch number(622/782)  Batch loss : 0.5407347083091736\n",
            "Epoch(0/1 : Batch number(623/782)  Batch loss : 0.38557493686676025\n",
            "Epoch(0/1 : Batch number(624/782)  Batch loss : 0.42161956429481506\n",
            "Epoch(0/1 : Batch number(625/782)  Batch loss : 0.46244901418685913\n",
            "Epoch(0/1 : Batch number(626/782)  Batch loss : 0.5874374508857727\n",
            "Epoch(0/1 : Batch number(627/782)  Batch loss : 0.6248377561569214\n",
            "Epoch(0/1 : Batch number(628/782)  Batch loss : 0.42739251255989075\n",
            "Epoch(0/1 : Batch number(629/782)  Batch loss : 0.698859691619873\n",
            "Epoch(0/1 : Batch number(630/782)  Batch loss : 0.5745705962181091\n",
            "Epoch(0/1 : Batch number(631/782)  Batch loss : 0.8062657117843628\n",
            "Epoch(0/1 : Batch number(632/782)  Batch loss : 0.4233129322528839\n",
            "Epoch(0/1 : Batch number(633/782)  Batch loss : 0.6490411758422852\n",
            "Epoch(0/1 : Batch number(634/782)  Batch loss : 0.8039116263389587\n",
            "Epoch(0/1 : Batch number(635/782)  Batch loss : 0.7164204120635986\n",
            "Epoch(0/1 : Batch number(636/782)  Batch loss : 0.5159812569618225\n",
            "Epoch(0/1 : Batch number(637/782)  Batch loss : 0.49103933572769165\n",
            "Epoch(0/1 : Batch number(638/782)  Batch loss : 0.3525698482990265\n",
            "Epoch(0/1 : Batch number(639/782)  Batch loss : 0.5181944370269775\n",
            "Epoch(0/1 : Batch number(640/782)  Batch loss : 0.3848446309566498\n",
            "Epoch(0/1 : Batch number(641/782)  Batch loss : 0.8003246188163757\n",
            "Epoch(0/1 : Batch number(642/782)  Batch loss : 0.5749827027320862\n",
            "Epoch(0/1 : Batch number(643/782)  Batch loss : 0.5410200357437134\n",
            "Epoch(0/1 : Batch number(644/782)  Batch loss : 0.6759876608848572\n",
            "Epoch(0/1 : Batch number(645/782)  Batch loss : 0.49231380224227905\n",
            "Epoch(0/1 : Batch number(646/782)  Batch loss : 0.628734827041626\n",
            "Epoch(0/1 : Batch number(647/782)  Batch loss : 0.5208815932273865\n",
            "Epoch(0/1 : Batch number(648/782)  Batch loss : 0.8710144758224487\n",
            "Epoch(0/1 : Batch number(649/782)  Batch loss : 0.9205778241157532\n",
            "Epoch(0/1 : Batch number(650/782)  Batch loss : 0.429690420627594\n",
            "Epoch(0/1 : Batch number(651/782)  Batch loss : 0.7423109412193298\n",
            "Epoch(0/1 : Batch number(652/782)  Batch loss : 0.5292916297912598\n",
            "Epoch(0/1 : Batch number(653/782)  Batch loss : 0.49527600407600403\n",
            "Epoch(0/1 : Batch number(654/782)  Batch loss : 0.4625864028930664\n",
            "Epoch(0/1 : Batch number(655/782)  Batch loss : 0.4803488254547119\n",
            "Epoch(0/1 : Batch number(656/782)  Batch loss : 0.4623917043209076\n",
            "Epoch(0/1 : Batch number(657/782)  Batch loss : 0.5394319295883179\n",
            "Epoch(0/1 : Batch number(658/782)  Batch loss : 0.6185919046401978\n",
            "Epoch(0/1 : Batch number(659/782)  Batch loss : 0.6973089575767517\n",
            "Epoch(0/1 : Batch number(660/782)  Batch loss : 0.6768556237220764\n",
            "Epoch(0/1 : Batch number(661/782)  Batch loss : 0.6723677515983582\n",
            "Epoch(0/1 : Batch number(662/782)  Batch loss : 0.548375129699707\n",
            "Epoch(0/1 : Batch number(663/782)  Batch loss : 0.46912968158721924\n",
            "Epoch(0/1 : Batch number(664/782)  Batch loss : 0.5881209969520569\n",
            "Epoch(0/1 : Batch number(665/782)  Batch loss : 0.3439328670501709\n",
            "Epoch(0/1 : Batch number(666/782)  Batch loss : 0.5931262373924255\n",
            "Epoch(0/1 : Batch number(667/782)  Batch loss : 0.7808387279510498\n",
            "Epoch(0/1 : Batch number(668/782)  Batch loss : 0.5870633721351624\n",
            "Epoch(0/1 : Batch number(669/782)  Batch loss : 0.6190242767333984\n",
            "Epoch(0/1 : Batch number(670/782)  Batch loss : 0.3853303790092468\n",
            "Epoch(0/1 : Batch number(671/782)  Batch loss : 0.36653614044189453\n",
            "Epoch(0/1 : Batch number(672/782)  Batch loss : 0.6471145153045654\n",
            "Epoch(0/1 : Batch number(673/782)  Batch loss : 0.5757187604904175\n",
            "Epoch(0/1 : Batch number(674/782)  Batch loss : 0.5731258988380432\n",
            "Epoch(0/1 : Batch number(675/782)  Batch loss : 0.5173823833465576\n",
            "Epoch(0/1 : Batch number(676/782)  Batch loss : 0.5207507610321045\n",
            "Epoch(0/1 : Batch number(677/782)  Batch loss : 0.6934553980827332\n",
            "Epoch(0/1 : Batch number(678/782)  Batch loss : 0.5848726034164429\n",
            "Epoch(0/1 : Batch number(679/782)  Batch loss : 0.7667607665061951\n",
            "Epoch(0/1 : Batch number(680/782)  Batch loss : 0.6647937893867493\n",
            "Epoch(0/1 : Batch number(681/782)  Batch loss : 0.7448729872703552\n",
            "Epoch(0/1 : Batch number(682/782)  Batch loss : 0.7470741271972656\n",
            "Epoch(0/1 : Batch number(683/782)  Batch loss : 0.5195969939231873\n",
            "Epoch(0/1 : Batch number(684/782)  Batch loss : 0.6222234964370728\n",
            "Epoch(0/1 : Batch number(685/782)  Batch loss : 0.49384233355522156\n",
            "Epoch(0/1 : Batch number(686/782)  Batch loss : 0.5103512406349182\n",
            "Epoch(0/1 : Batch number(687/782)  Batch loss : 0.6161349415779114\n",
            "Epoch(0/1 : Batch number(688/782)  Batch loss : 0.8624070286750793\n",
            "Epoch(0/1 : Batch number(689/782)  Batch loss : 0.702719509601593\n",
            "Epoch(0/1 : Batch number(690/782)  Batch loss : 0.40931177139282227\n",
            "Epoch(0/1 : Batch number(691/782)  Batch loss : 0.8278072476387024\n",
            "Epoch(0/1 : Batch number(692/782)  Batch loss : 0.9470932483673096\n",
            "Epoch(0/1 : Batch number(693/782)  Batch loss : 0.7978582978248596\n",
            "Epoch(0/1 : Batch number(694/782)  Batch loss : 0.7530879974365234\n",
            "Epoch(0/1 : Batch number(695/782)  Batch loss : 0.794519305229187\n",
            "Epoch(0/1 : Batch number(696/782)  Batch loss : 0.6381625533103943\n",
            "Epoch(0/1 : Batch number(697/782)  Batch loss : 0.5011820793151855\n",
            "Epoch(0/1 : Batch number(698/782)  Batch loss : 0.6734527349472046\n",
            "Epoch(0/1 : Batch number(699/782)  Batch loss : 0.5928919315338135\n",
            "Epoch(0/1 : Batch number(700/782)  Batch loss : 0.6738115549087524\n",
            "Epoch(0/1 : Batch number(701/782)  Batch loss : 0.49785634875297546\n",
            "Epoch(0/1 : Batch number(702/782)  Batch loss : 0.5625978708267212\n",
            "Epoch(0/1 : Batch number(703/782)  Batch loss : 0.5226629972457886\n",
            "Epoch(0/1 : Batch number(704/782)  Batch loss : 0.8010709285736084\n",
            "Epoch(0/1 : Batch number(705/782)  Batch loss : 0.7161513566970825\n",
            "Epoch(0/1 : Batch number(706/782)  Batch loss : 0.5813590288162231\n",
            "Epoch(0/1 : Batch number(707/782)  Batch loss : 0.541273832321167\n",
            "Epoch(0/1 : Batch number(708/782)  Batch loss : 0.6403169631958008\n",
            "Epoch(0/1 : Batch number(709/782)  Batch loss : 0.7258319854736328\n",
            "Epoch(0/1 : Batch number(710/782)  Batch loss : 0.632854163646698\n",
            "Epoch(0/1 : Batch number(711/782)  Batch loss : 0.4888116419315338\n",
            "Epoch(0/1 : Batch number(712/782)  Batch loss : 0.7091104984283447\n",
            "Epoch(0/1 : Batch number(713/782)  Batch loss : 0.5128021240234375\n",
            "Epoch(0/1 : Batch number(714/782)  Batch loss : 0.5016077756881714\n",
            "Epoch(0/1 : Batch number(715/782)  Batch loss : 0.7048208713531494\n",
            "Epoch(0/1 : Batch number(716/782)  Batch loss : 0.6566488146781921\n",
            "Epoch(0/1 : Batch number(717/782)  Batch loss : 0.5691524147987366\n",
            "Epoch(0/1 : Batch number(718/782)  Batch loss : 0.7763389348983765\n",
            "Epoch(0/1 : Batch number(719/782)  Batch loss : 0.6001442074775696\n",
            "Epoch(0/1 : Batch number(720/782)  Batch loss : 0.6164458394050598\n",
            "Epoch(0/1 : Batch number(721/782)  Batch loss : 0.605582594871521\n",
            "Epoch(0/1 : Batch number(722/782)  Batch loss : 0.4517037570476532\n",
            "Epoch(0/1 : Batch number(723/782)  Batch loss : 0.6250730156898499\n",
            "Epoch(0/1 : Batch number(724/782)  Batch loss : 0.6349347829818726\n",
            "Epoch(0/1 : Batch number(725/782)  Batch loss : 0.5048608183860779\n",
            "Epoch(0/1 : Batch number(726/782)  Batch loss : 0.522666871547699\n",
            "Epoch(0/1 : Batch number(727/782)  Batch loss : 0.9338094592094421\n",
            "Epoch(0/1 : Batch number(728/782)  Batch loss : 0.5256122946739197\n",
            "Epoch(0/1 : Batch number(729/782)  Batch loss : 0.7806125283241272\n",
            "Epoch(0/1 : Batch number(730/782)  Batch loss : 0.5737524628639221\n",
            "Epoch(0/1 : Batch number(731/782)  Batch loss : 0.5515956878662109\n",
            "Epoch(0/1 : Batch number(732/782)  Batch loss : 0.6095903515815735\n",
            "Epoch(0/1 : Batch number(733/782)  Batch loss : 0.4251987040042877\n",
            "Epoch(0/1 : Batch number(734/782)  Batch loss : 0.3051421642303467\n",
            "Epoch(0/1 : Batch number(735/782)  Batch loss : 0.900905191898346\n",
            "Epoch(0/1 : Batch number(736/782)  Batch loss : 0.5678266286849976\n",
            "Epoch(0/1 : Batch number(737/782)  Batch loss : 0.5861281156539917\n",
            "Epoch(0/1 : Batch number(738/782)  Batch loss : 0.5159004926681519\n",
            "Epoch(0/1 : Batch number(739/782)  Batch loss : 0.4332672357559204\n",
            "Epoch(0/1 : Batch number(740/782)  Batch loss : 0.61566561460495\n",
            "Epoch(0/1 : Batch number(741/782)  Batch loss : 0.8092764019966125\n",
            "Epoch(0/1 : Batch number(742/782)  Batch loss : 0.6399297118186951\n",
            "Epoch(0/1 : Batch number(743/782)  Batch loss : 0.48303288221359253\n",
            "Epoch(0/1 : Batch number(744/782)  Batch loss : 0.7000141143798828\n",
            "Epoch(0/1 : Batch number(745/782)  Batch loss : 0.7086615562438965\n",
            "Epoch(0/1 : Batch number(746/782)  Batch loss : 0.5881728529930115\n",
            "Epoch(0/1 : Batch number(747/782)  Batch loss : 0.659380316734314\n",
            "Epoch(0/1 : Batch number(748/782)  Batch loss : 0.8102374076843262\n",
            "Epoch(0/1 : Batch number(749/782)  Batch loss : 0.5077360272407532\n",
            "Epoch(0/1 : Batch number(750/782)  Batch loss : 0.7911664247512817\n",
            "Epoch(0/1 : Batch number(751/782)  Batch loss : 0.419831782579422\n",
            "Epoch(0/1 : Batch number(752/782)  Batch loss : 0.5957131385803223\n",
            "Epoch(0/1 : Batch number(753/782)  Batch loss : 0.39329400658607483\n",
            "Epoch(0/1 : Batch number(754/782)  Batch loss : 0.35625362396240234\n",
            "Epoch(0/1 : Batch number(755/782)  Batch loss : 0.6069434285163879\n",
            "Epoch(0/1 : Batch number(756/782)  Batch loss : 0.8424687385559082\n",
            "Epoch(0/1 : Batch number(757/782)  Batch loss : 0.7561711072921753\n",
            "Epoch(0/1 : Batch number(758/782)  Batch loss : 0.5268235802650452\n",
            "Epoch(0/1 : Batch number(759/782)  Batch loss : 0.7197332382202148\n",
            "Epoch(0/1 : Batch number(760/782)  Batch loss : 0.6129079461097717\n",
            "Epoch(0/1 : Batch number(761/782)  Batch loss : 0.6574981808662415\n",
            "Epoch(0/1 : Batch number(762/782)  Batch loss : 0.6729450821876526\n",
            "Epoch(0/1 : Batch number(763/782)  Batch loss : 0.5482547283172607\n",
            "Epoch(0/1 : Batch number(764/782)  Batch loss : 0.856765866279602\n",
            "Epoch(0/1 : Batch number(765/782)  Batch loss : 0.6379382014274597\n",
            "Epoch(0/1 : Batch number(766/782)  Batch loss : 0.45935502648353577\n",
            "Epoch(0/1 : Batch number(767/782)  Batch loss : 0.3096965551376343\n",
            "Epoch(0/1 : Batch number(768/782)  Batch loss : 0.6209490895271301\n",
            "Epoch(0/1 : Batch number(769/782)  Batch loss : 0.6593455672264099\n",
            "Epoch(0/1 : Batch number(770/782)  Batch loss : 0.6689926981925964\n",
            "Epoch(0/1 : Batch number(771/782)  Batch loss : 0.4690975546836853\n",
            "Epoch(0/1 : Batch number(772/782)  Batch loss : 0.5538824796676636\n",
            "Epoch(0/1 : Batch number(773/782)  Batch loss : 0.7815096974372864\n",
            "Epoch(0/1 : Batch number(774/782)  Batch loss : 0.7364590167999268\n",
            "Epoch(0/1 : Batch number(775/782)  Batch loss : 0.5557026863098145\n",
            "Epoch(0/1 : Batch number(776/782)  Batch loss : 0.7036524415016174\n",
            "Epoch(0/1 : Batch number(777/782)  Batch loss : 0.5963196754455566\n",
            "Epoch(0/1 : Batch number(778/782)  Batch loss : 0.6887834072113037\n",
            "Epoch(0/1 : Batch number(779/782)  Batch loss : 0.8565798401832581\n",
            "Epoch(0/1 : Batch number(780/782)  Batch loss : 0.45473867654800415\n",
            "Epoch(0/1 : Batch number(781/782)  Batch loss : 0.5536208152770996\n",
            "Epoch(0/1 : Batch number(782/782)  Batch loss : 0.49393361806869507\n",
            "Training loss : 0.6508970297206088\n"
          ],
          "name": "stdout"
        }
      ]
    },
    {
      "cell_type": "markdown",
      "metadata": {
        "id": "QmiIFDJXDsan"
      },
      "source": [
        "## Evaluating thet network and viewing images"
      ]
    },
    {
      "cell_type": "code",
      "metadata": {
        "id": "8Tg9qA_FD-X8"
      },
      "source": [
        "import matplotlib.pyplot as plt\n",
        "%matplotlib inline\n",
        "import numpy as np"
      ],
      "execution_count": 17,
      "outputs": []
    },
    {
      "cell_type": "code",
      "metadata": {
        "id": "IPuKt5cONpz9",
        "colab": {
          "base_uri": "https://localhost:8080/"
        },
        "outputId": "243aac9f-81f3-410c-e56c-7ed81531a975"
      },
      "source": [
        "CIFAR10_classes = ['plane', 'car', 'bird', 'cat',\n",
        "           'deer', 'dog', 'frog', 'horse', 'ship', 'truck']\n",
        "\n",
        "\n",
        "model.to('cpu')\n",
        "\n",
        "model.eval()\n",
        "\n",
        "with torch.no_grad():\n",
        "  images, labels = next(iter(testloader))\n",
        "  logps = model(images)\n",
        "  \n",
        "  output = torch.exp(logps)\n",
        "  print(output)\n"
      ],
      "execution_count": 18,
      "outputs": [
        {
          "output_type": "stream",
          "text": [
            "tensor([[1.0787e-03, 1.3690e-02, 8.0182e-03, 7.9596e-01, 1.4491e-04, 3.4324e-02,\n",
            "         1.3441e-01, 9.5093e-03, 1.8785e-03, 9.9225e-04],\n",
            "        [4.8904e-02, 5.6434e-01, 2.7638e-05, 2.5152e-05, 7.2671e-06, 5.8636e-06,\n",
            "         2.1539e-05, 4.9652e-06, 3.8297e-01, 3.6944e-03],\n",
            "        [7.7484e-04, 3.3058e-03, 4.0012e-07, 4.6047e-07, 4.4840e-07, 1.6164e-08,\n",
            "         2.1417e-08, 5.2920e-07, 9.9588e-01, 4.1588e-05],\n",
            "        [5.3985e-01, 2.1046e-03, 1.9356e-01, 6.2174e-02, 8.5054e-04, 8.8313e-04,\n",
            "         2.1353e-03, 2.1995e-03, 1.9408e-01, 2.1611e-03],\n",
            "        [8.4428e-08, 1.0254e-06, 4.0029e-03, 1.9224e-04, 7.0415e-05, 1.3584e-05,\n",
            "         9.9572e-01, 1.1330e-07, 7.1407e-08, 4.4102e-07],\n",
            "        [5.2007e-06, 1.0104e-05, 7.8435e-05, 2.9784e-02, 2.5976e-03, 5.1040e-02,\n",
            "         9.1627e-01, 1.9727e-04, 3.3711e-07, 1.7974e-05],\n",
            "        [9.6630e-06, 9.9195e-01, 2.8658e-07, 2.6926e-05, 4.6521e-08, 2.4538e-05,\n",
            "         2.1485e-06, 2.4377e-05, 1.3581e-05, 7.9434e-03],\n",
            "        [3.7353e-02, 1.1219e-02, 3.8175e-02, 1.2789e-01, 2.1312e-02, 5.5568e-03,\n",
            "         6.8042e-01, 1.9656e-02, 8.2687e-03, 5.0154e-02],\n",
            "        [1.2659e-04, 7.1436e-06, 4.3953e-02, 9.3398e-01, 3.7488e-03, 1.4743e-02,\n",
            "         2.1875e-03, 1.1902e-03, 4.4709e-05, 1.6758e-05],\n",
            "        [5.5556e-06, 9.9061e-01, 6.1755e-07, 4.4932e-05, 6.3713e-06, 3.5498e-05,\n",
            "         7.4685e-05, 1.4216e-05, 2.7879e-05, 9.1845e-03],\n",
            "        [9.2515e-01, 8.9209e-05, 1.5868e-02, 1.4784e-02, 9.6081e-03, 6.3670e-03,\n",
            "         9.8944e-04, 1.8625e-02, 7.3764e-03, 1.1378e-03],\n",
            "        [1.2587e-07, 8.9280e-03, 4.6204e-10, 4.3941e-08, 7.8347e-10, 6.6036e-09,\n",
            "         5.6688e-09, 2.8039e-09, 1.7632e-06, 9.9107e-01],\n",
            "        [1.6714e-05, 4.2450e-05, 5.8830e-04, 7.2809e-02, 1.5753e-03, 8.2460e-01,\n",
            "         2.3240e-03, 9.8022e-02, 9.1628e-06, 9.1426e-06],\n",
            "        [1.2906e-04, 5.8165e-04, 9.8501e-03, 6.1673e-02, 1.8105e-03, 5.8525e-02,\n",
            "         1.4508e-03, 8.6563e-01, 7.8300e-05, 2.7004e-04],\n",
            "        [1.2151e-05, 2.0997e-03, 1.9835e-08, 7.2648e-07, 1.2280e-07, 9.1849e-08,\n",
            "         2.6490e-09, 8.2011e-07, 1.0077e-05, 9.9788e-01],\n",
            "        [2.6639e-02, 2.5784e-02, 6.7419e-02, 1.0591e-03, 2.6469e-04, 6.4439e-03,\n",
            "         2.2655e-01, 6.9109e-04, 6.4449e-01, 6.6084e-04],\n",
            "        [7.9389e-06, 1.0458e-05, 3.6743e-04, 8.6071e-02, 1.6488e-05, 9.1084e-01,\n",
            "         7.9819e-05, 2.5927e-03, 9.0418e-06, 3.9012e-06],\n",
            "        [2.1546e-04, 2.1273e-02, 3.4438e-04, 5.1076e-03, 4.5336e-04, 2.0226e-02,\n",
            "         4.8745e-03, 9.3884e-01, 2.8290e-05, 8.6354e-03],\n",
            "        [2.8265e-04, 4.0926e-04, 7.7724e-07, 1.3633e-06, 6.4230e-05, 1.4070e-07,\n",
            "         7.1354e-08, 3.6227e-06, 9.9838e-01, 8.5774e-04],\n",
            "        [3.0388e-05, 1.5574e-05, 5.4481e-03, 8.6000e-04, 7.5292e-04, 4.3164e-05,\n",
            "         9.9281e-01, 2.0279e-06, 3.2149e-05, 5.5815e-06],\n",
            "        [1.2843e-01, 6.9243e-03, 3.8785e-02, 1.1893e-01, 1.0302e-01, 4.3118e-02,\n",
            "         6.0173e-04, 5.4878e-01, 3.8342e-03, 7.5822e-03],\n",
            "        [9.8637e-01, 6.9300e-04, 4.8353e-03, 4.8168e-03, 3.9405e-04, 3.0171e-04,\n",
            "         1.3616e-03, 3.2782e-04, 8.0775e-04, 8.8409e-05],\n",
            "        [8.1628e-02, 3.0465e-04, 1.2635e-01, 1.9541e-02, 7.1164e-01, 3.2949e-03,\n",
            "         2.8692e-02, 7.4956e-03, 2.0944e-02, 1.1155e-04],\n",
            "        [2.5889e-04, 6.6252e-01, 2.4525e-07, 2.7147e-05, 3.4503e-07, 7.1052e-05,\n",
            "         1.1157e-07, 6.8417e-06, 7.0212e-05, 3.3704e-01],\n",
            "        [1.3092e-05, 5.2681e-05, 1.5087e-03, 6.6550e-02, 6.9330e-02, 8.6068e-01,\n",
            "         7.1526e-04, 1.0668e-03, 7.9620e-05, 5.9600e-06],\n",
            "        [1.4535e-03, 1.2275e-04, 7.4401e-01, 6.5734e-02, 3.7914e-02, 3.2264e-02,\n",
            "         1.7320e-04, 1.1818e-01, 4.4544e-05, 9.7118e-05],\n",
            "        [4.2897e-03, 8.2414e-04, 3.4106e-02, 4.5396e-01, 3.4240e-01, 6.6498e-02,\n",
            "         7.8019e-02, 1.3894e-02, 1.9783e-03, 4.0264e-03],\n",
            "        [3.9534e-01, 9.4938e-05, 5.1607e-01, 1.3428e-02, 2.8119e-02, 1.1721e-03,\n",
            "         1.7257e-02, 2.3916e-02, 1.2095e-03, 3.3953e-03],\n",
            "        [6.2674e-06, 5.1769e-04, 5.3596e-08, 3.6003e-06, 4.7085e-07, 1.5560e-07,\n",
            "         4.7638e-08, 4.2633e-06, 3.0484e-06, 9.9946e-01],\n",
            "        [2.1227e-06, 5.2932e-07, 1.9381e-03, 1.8348e-03, 1.1272e-03, 1.9283e-04,\n",
            "         9.9486e-01, 4.1934e-05, 9.0494e-07, 1.1910e-06],\n",
            "        [1.9102e-04, 4.4850e-04, 1.6073e-02, 9.6989e-02, 2.1752e-03, 1.2446e-03,\n",
            "         8.8097e-01, 3.8844e-04, 2.4522e-05, 1.4926e-03],\n",
            "        [4.4962e-06, 5.4436e-05, 9.4304e-03, 3.7486e-02, 4.1693e-03, 9.3716e-01,\n",
            "         4.0825e-04, 1.1264e-02, 1.4603e-05, 3.3430e-06],\n",
            "        [4.9584e-04, 2.9372e-03, 1.1544e-01, 1.1872e-02, 8.1985e-01, 1.7681e-02,\n",
            "         1.9882e-02, 1.0862e-02, 3.0085e-04, 6.7309e-04],\n",
            "        [2.4261e-05, 2.6080e-03, 8.0387e-03, 3.0194e-01, 6.1425e-02, 5.1087e-01,\n",
            "         1.1401e-01, 9.0635e-04, 2.9347e-05, 1.4401e-04],\n",
            "        [1.3130e-03, 2.5165e-04, 7.1149e-07, 9.7636e-07, 2.3380e-06, 1.9362e-07,\n",
            "         3.1132e-08, 2.1226e-06, 6.0488e-04, 9.9782e-01],\n",
            "        [1.6936e-03, 4.1613e-02, 7.3416e-02, 1.8353e-01, 4.8074e-04, 6.2005e-01,\n",
            "         9.0102e-03, 4.3492e-02, 2.1359e-02, 5.3472e-03],\n",
            "        [7.2582e-06, 2.6082e-08, 9.1664e-04, 9.1129e-04, 9.0963e-01, 2.1908e-02,\n",
            "         4.3500e-05, 6.6581e-02, 1.6450e-07, 3.6074e-08],\n",
            "        [1.0121e-04, 8.7583e-01, 2.2986e-07, 2.4573e-05, 1.2852e-06, 9.7382e-07,\n",
            "         6.3830e-07, 4.1689e-06, 2.7523e-05, 1.2401e-01],\n",
            "        [6.4430e-05, 1.4164e-03, 3.4738e-06, 5.2538e-04, 2.6710e-06, 1.3823e-03,\n",
            "         3.0080e-06, 3.0159e-04, 8.4850e-04, 9.9545e-01],\n",
            "        [2.4842e-08, 2.0327e-06, 3.3586e-06, 1.0046e-03, 5.7816e-07, 9.9897e-01,\n",
            "         9.0694e-06, 8.0948e-06, 1.4694e-06, 2.3781e-07],\n",
            "        [1.5315e-01, 3.4353e-03, 6.8421e-01, 6.5453e-03, 3.8682e-02, 1.2113e-03,\n",
            "         3.0734e-02, 7.9146e-02, 5.7723e-04, 2.3109e-03],\n",
            "        [4.0458e-05, 1.6500e-04, 6.9084e-03, 7.0289e-04, 3.3495e-03, 2.3287e-04,\n",
            "         9.8818e-01, 1.8151e-04, 6.1355e-06, 2.3799e-04],\n",
            "        [6.0047e-05, 1.9645e-04, 2.7370e-03, 1.2780e-01, 2.3038e-04, 8.0674e-01,\n",
            "         1.8773e-04, 6.1920e-02, 3.0908e-05, 9.7660e-05],\n",
            "        [4.6686e-05, 3.4815e-04, 3.1298e-03, 1.6534e-02, 4.4935e-04, 1.0302e-02,\n",
            "         9.6883e-01, 7.4201e-05, 1.4932e-04, 1.3580e-04],\n",
            "        [5.3445e-01, 2.5225e-01, 3.7863e-03, 7.6994e-05, 1.3361e-03, 2.3267e-04,\n",
            "         3.5184e-04, 7.2378e-04, 2.7250e-02, 1.7955e-01],\n",
            "        [1.3513e-04, 5.8918e-04, 2.8371e-08, 6.0238e-07, 1.3204e-07, 5.8817e-08,\n",
            "         5.2981e-09, 1.0799e-05, 1.3733e-03, 9.9789e-01],\n",
            "        [7.6090e-06, 5.7821e-04, 5.5770e-03, 8.4202e-01, 2.5674e-02, 1.1919e-01,\n",
            "         3.3362e-03, 3.4606e-03, 5.1659e-05, 9.7943e-05],\n",
            "        [1.3053e-02, 9.7494e-02, 2.4229e-05, 3.4890e-04, 1.0000e-05, 7.1113e-06,\n",
            "         1.5125e-04, 1.0660e-04, 4.2437e-02, 8.4637e-01],\n",
            "        [1.5905e-06, 2.8791e-07, 1.8303e-03, 6.5629e-05, 1.8965e-01, 1.3055e-03,\n",
            "         1.1553e-05, 8.0713e-01, 1.8926e-07, 1.6271e-07],\n",
            "        [7.3684e-05, 1.0951e-04, 3.8791e-02, 1.3538e-03, 6.8699e-03, 3.8533e-03,\n",
            "         9.4890e-01, 1.9170e-05, 2.8169e-05, 1.6869e-06],\n",
            "        [2.1241e-02, 7.5534e-05, 1.4360e-05, 1.0581e-05, 4.1714e-05, 1.5997e-07,\n",
            "         4.3800e-07, 9.8617e-06, 2.1327e-03, 9.7647e-01],\n",
            "        [5.8780e-03, 8.8451e-06, 4.5971e-04, 1.9479e-05, 1.6144e-04, 1.3116e-05,\n",
            "         2.3528e-05, 1.2910e-04, 9.9222e-01, 1.0820e-03],\n",
            "        [3.8223e-01, 1.6420e-03, 6.2055e-03, 7.3890e-03, 1.8616e-03, 1.3987e-02,\n",
            "         2.9648e-02, 6.1600e-04, 4.7896e-01, 7.7467e-02],\n",
            "        [1.6380e-05, 2.3482e-04, 3.3598e-02, 8.6139e-01, 3.8271e-03, 1.3625e-02,\n",
            "         8.4405e-02, 7.5324e-04, 2.1652e-04, 1.9316e-03],\n",
            "        [2.8323e-03, 7.9628e-07, 1.5319e-06, 1.6749e-08, 1.5531e-07, 7.2235e-09,\n",
            "         3.4296e-09, 3.4913e-08, 9.9717e-01, 8.6851e-08],\n",
            "        [1.9106e-03, 6.3527e-06, 1.4980e-03, 6.4667e-05, 6.1001e-04, 3.8733e-05,\n",
            "         5.5844e-08, 7.0438e-05, 9.9580e-01, 2.1830e-06],\n",
            "        [5.8910e-04, 6.2179e-04, 9.7715e-04, 1.9168e-01, 1.5561e-03, 1.2600e-01,\n",
            "         1.6302e-05, 6.7420e-01, 7.8906e-05, 4.2787e-03],\n",
            "        [6.7524e-02, 2.5725e-02, 7.3683e-02, 5.4024e-01, 4.5380e-02, 5.1094e-02,\n",
            "         1.0256e-01, 5.7531e-02, 2.9210e-02, 7.0621e-03],\n",
            "        [4.0187e-03, 4.1036e-04, 6.7255e-03, 6.2898e-01, 4.7565e-02, 2.5711e-01,\n",
            "         1.6424e-02, 3.3548e-02, 4.1600e-03, 1.0492e-03],\n",
            "        [1.4213e-02, 9.7291e-03, 8.3075e-03, 6.1736e-01, 1.3432e-02, 1.5289e-01,\n",
            "         1.4005e-01, 2.6137e-02, 7.6292e-03, 1.0258e-02],\n",
            "        [3.0140e-06, 5.7400e-07, 5.9421e-04, 1.6124e-05, 2.8948e-01, 2.2719e-04,\n",
            "         5.2948e-06, 7.0967e-01, 4.1661e-08, 9.8781e-08],\n",
            "        [4.8725e-05, 6.8724e-05, 1.1524e-01, 4.9274e-01, 3.3533e-03, 3.3595e-01,\n",
            "         2.2993e-02, 2.9401e-02, 4.7935e-05, 1.5983e-04],\n",
            "        [1.2888e-02, 2.8479e-02, 1.2756e-01, 1.4816e-02, 1.1719e-02, 5.3626e-03,\n",
            "         7.8461e-01, 7.0013e-03, 2.0386e-03, 5.5344e-03],\n",
            "        [1.1535e-03, 1.1432e-01, 9.5128e-03, 8.3365e-01, 1.6881e-04, 8.3606e-03,\n",
            "         8.8597e-04, 1.3781e-04, 4.0467e-03, 2.7757e-02]])\n"
          ],
          "name": "stdout"
        }
      ]
    },
    {
      "cell_type": "code",
      "metadata": {
        "colab": {
          "base_uri": "https://localhost:8080/"
        },
        "id": "_0BNt_9XAGdh",
        "outputId": "4379db8f-4fe6-490a-f72d-7e140cc6d22f"
      },
      "source": [
        "output.shape"
      ],
      "execution_count": 20,
      "outputs": [
        {
          "output_type": "execute_result",
          "data": {
            "text/plain": [
              "torch.Size([64, 10])"
            ]
          },
          "metadata": {
            "tags": []
          },
          "execution_count": 20
        }
      ]
    },
    {
      "cell_type": "code",
      "metadata": {
        "colab": {
          "base_uri": "https://localhost:8080/"
        },
        "id": "vmSKdjX9AKke",
        "outputId": "c217a9ed-2878-4e1c-d278-728c864304df"
      },
      "source": [
        "output[0]"
      ],
      "execution_count": 21,
      "outputs": [
        {
          "output_type": "execute_result",
          "data": {
            "text/plain": [
              "tensor([1.0787e-03, 1.3690e-02, 8.0182e-03, 7.9596e-01, 1.4491e-04, 3.4324e-02,\n",
              "        1.3441e-01, 9.5093e-03, 1.8785e-03, 9.9225e-04])"
            ]
          },
          "metadata": {
            "tags": []
          },
          "execution_count": 21
        }
      ]
    },
    {
      "cell_type": "code",
      "metadata": {
        "id": "dAHiRMrLDqWt",
        "colab": {
          "base_uri": "https://localhost:8080/"
        },
        "outputId": "ee229067-b648-46f2-d89c-28cbd5c5eb44"
      },
      "source": [
        "CIFAR10_classes = ['plane', 'car', 'bird', 'cat',\n",
        "           'deer', 'dog', 'frog', 'horse', 'ship', 'truck']\n",
        "\n",
        "\n",
        "model.to('cpu')\n",
        "\n",
        "model.eval()\n",
        "\n",
        "with torch.no_grad():\n",
        "  images, labels = next(iter(testloader))\n",
        "  logps = model(images)\n",
        "  \n",
        "  output = torch.exp(logps)\n",
        "  \n",
        "  pred = torch.argmax(output,1)\n",
        "    \n",
        "model.train()"
      ],
      "execution_count": 22,
      "outputs": [
        {
          "output_type": "execute_result",
          "data": {
            "text/plain": [
              "VGG(\n",
              "  (features): Sequential(\n",
              "    (0): Conv2d(3, 64, kernel_size=(3, 3), stride=(1, 1), padding=(1, 1))\n",
              "    (1): ReLU(inplace=True)\n",
              "    (2): Conv2d(64, 64, kernel_size=(3, 3), stride=(1, 1), padding=(1, 1))\n",
              "    (3): ReLU(inplace=True)\n",
              "    (4): MaxPool2d(kernel_size=2, stride=2, padding=0, dilation=1, ceil_mode=False)\n",
              "    (5): Conv2d(64, 128, kernel_size=(3, 3), stride=(1, 1), padding=(1, 1))\n",
              "    (6): ReLU(inplace=True)\n",
              "    (7): Conv2d(128, 128, kernel_size=(3, 3), stride=(1, 1), padding=(1, 1))\n",
              "    (8): ReLU(inplace=True)\n",
              "    (9): MaxPool2d(kernel_size=2, stride=2, padding=0, dilation=1, ceil_mode=False)\n",
              "    (10): Conv2d(128, 256, kernel_size=(3, 3), stride=(1, 1), padding=(1, 1))\n",
              "    (11): ReLU(inplace=True)\n",
              "    (12): Conv2d(256, 256, kernel_size=(3, 3), stride=(1, 1), padding=(1, 1))\n",
              "    (13): ReLU(inplace=True)\n",
              "    (14): Conv2d(256, 256, kernel_size=(3, 3), stride=(1, 1), padding=(1, 1))\n",
              "    (15): ReLU(inplace=True)\n",
              "    (16): MaxPool2d(kernel_size=2, stride=2, padding=0, dilation=1, ceil_mode=False)\n",
              "    (17): Conv2d(256, 512, kernel_size=(3, 3), stride=(1, 1), padding=(1, 1))\n",
              "    (18): ReLU(inplace=True)\n",
              "    (19): Conv2d(512, 512, kernel_size=(3, 3), stride=(1, 1), padding=(1, 1))\n",
              "    (20): ReLU(inplace=True)\n",
              "    (21): Conv2d(512, 512, kernel_size=(3, 3), stride=(1, 1), padding=(1, 1))\n",
              "    (22): ReLU(inplace=True)\n",
              "    (23): MaxPool2d(kernel_size=2, stride=2, padding=0, dilation=1, ceil_mode=False)\n",
              "    (24): Conv2d(512, 512, kernel_size=(3, 3), stride=(1, 1), padding=(1, 1))\n",
              "    (25): ReLU(inplace=True)\n",
              "    (26): Conv2d(512, 512, kernel_size=(3, 3), stride=(1, 1), padding=(1, 1))\n",
              "    (27): ReLU(inplace=True)\n",
              "    (28): Conv2d(512, 512, kernel_size=(3, 3), stride=(1, 1), padding=(1, 1))\n",
              "    (29): ReLU(inplace=True)\n",
              "    (30): MaxPool2d(kernel_size=2, stride=2, padding=0, dilation=1, ceil_mode=False)\n",
              "  )\n",
              "  (avgpool): AdaptiveAvgPool2d(output_size=(7, 7))\n",
              "  (classifier): Sequential(\n",
              "    (0): Linear(in_features=25088, out_features=4096, bias=True)\n",
              "    (1): ReLU(inplace=True)\n",
              "    (2): Dropout(p=0.5, inplace=False)\n",
              "    (3): Linear(in_features=4096, out_features=4096, bias=True)\n",
              "    (4): ReLU(inplace=True)\n",
              "    (5): Dropout(p=0.5, inplace=False)\n",
              "    (6): Sequential(\n",
              "      (0): Linear(in_features=4096, out_features=10, bias=True)\n",
              "      (1): LogSoftmax(dim=1)\n",
              "    )\n",
              "  )\n",
              ")"
            ]
          },
          "metadata": {
            "tags": []
          },
          "execution_count": 22
        }
      ]
    },
    {
      "cell_type": "code",
      "metadata": {
        "colab": {
          "base_uri": "https://localhost:8080/"
        },
        "id": "VtqyQwyUARZJ",
        "outputId": "f408ef5b-c98f-47ab-cdb0-5fdc08746143"
      },
      "source": [
        "pred"
      ],
      "execution_count": 25,
      "outputs": [
        {
          "output_type": "execute_result",
          "data": {
            "text/plain": [
              "tensor([3, 1, 8, 0, 6, 6, 1, 6, 3, 1, 0, 9, 5, 7, 9, 8, 5, 7, 8, 6, 7, 0, 4, 1,\n",
              "        5, 2, 3, 2, 9, 6, 6, 5, 4, 5, 9, 5, 4, 1, 9, 5, 2, 6, 5, 6, 0, 9, 3, 9,\n",
              "        7, 6, 9, 8, 8, 3, 8, 8, 7, 3, 3, 3, 7, 3, 6, 3])"
            ]
          },
          "metadata": {
            "tags": []
          },
          "execution_count": 25
        }
      ]
    },
    {
      "cell_type": "code",
      "metadata": {
        "id": "xaef1eekLP9h",
        "colab": {
          "base_uri": "https://localhost:8080/",
          "height": 286
        },
        "outputId": "e309d946-257e-4e08-83bb-3de2d4924a19"
      },
      "source": [
        "test_image_id=2\n",
        "\n",
        "def denormalize(tensor):\n",
        "  tensor = tensor*std+ mean\n",
        "  return tensor\n",
        "\n",
        "def show_img(img):\n",
        "  img = img.numpy().transpose((1,2,0))\n",
        "  img = denormalize(img)\n",
        "  img = np.clip(img,0,1)\n",
        "  plt.imshow(img)\n",
        "  \n",
        "def get_CIFAR10_class(id):\n",
        "  CIFAR10_classes = ['plane', 'car', 'bird', 'cat',\n",
        "           'deer', 'dog', 'frog', 'horse', 'ship', 'truck']\n",
        "  return CIFAR10_classes[id]\n",
        "\n",
        "show_img(images[test_image_id])\n",
        "print(get_CIFAR10_class(pred[test_image_id]))"
      ],
      "execution_count": 32,
      "outputs": [
        {
          "output_type": "stream",
          "text": [
            "ship\n"
          ],
          "name": "stdout"
        },
        {
          "output_type": "display_data",
          "data": {
            "image/png": "[encoded data removed]",
            "text/plain": [
              "<Figure size 432x288 with 1 Axes>"
            ]
          },
          "metadata": {
            "tags": [],
            "needs_background": "light"
          }
        }
      ]
    },
    {
      "cell_type": "code",
      "metadata": {
        "colab": {
          "base_uri": "https://localhost:8080/"
        },
        "id": "TerRNZ8KBJkN",
        "outputId": "84dbcc17-1f1e-413e-8124-6d9fd67da730"
      },
      "source": [
        "images[0].numpy().shape"
      ],
      "execution_count": 38,
      "outputs": [
        {
          "output_type": "execute_result",
          "data": {
            "text/plain": [
              "(3, 224, 224)"
            ]
          },
          "metadata": {
            "tags": []
          },
          "execution_count": 38
        }
      ]
    },
    {
      "cell_type": "code",
      "metadata": {
        "id": "p9QQbjReyEHz"
      },
      "source": [
        ""
      ],
      "execution_count": null,
      "outputs": []
    },
    {
      "cell_type": "markdown",
      "metadata": {
        "id": "icQvTdftMkPq"
      },
      "source": [
        "## Viewing images & normalization - Under the hood"
      ]
    },
    {
      "cell_type": "code",
      "metadata": {
        "id": "Pr1K5dNN5pzP",
        "colab": {
          "base_uri": "https://localhost:8080/"
        },
        "outputId": "de79ff3d-9c7a-48c4-a34c-65e367ca7d57"
      },
      "source": [
        "pred"
      ],
      "execution_count": 39,
      "outputs": [
        {
          "output_type": "execute_result",
          "data": {
            "text/plain": [
              "tensor([3, 1, 8, 0, 6, 6, 1, 6, 3, 1, 0, 9, 5, 7, 9, 8, 5, 7, 8, 6, 7, 0, 4, 1,\n",
              "        5, 2, 3, 2, 9, 6, 6, 5, 4, 5, 9, 5, 4, 1, 9, 5, 2, 6, 5, 6, 0, 9, 3, 9,\n",
              "        7, 6, 9, 8, 8, 3, 8, 8, 7, 3, 3, 3, 7, 3, 6, 3])"
            ]
          },
          "metadata": {
            "tags": []
          },
          "execution_count": 39
        }
      ]
    },
    {
      "cell_type": "code",
      "metadata": {
        "id": "_hKzHym-5pxB",
        "colab": {
          "base_uri": "https://localhost:8080/"
        },
        "outputId": "c991c388-db64-4c6a-d243-37d66e63f85c"
      },
      "source": [
        "images.size()"
      ],
      "execution_count": 42,
      "outputs": [
        {
          "output_type": "execute_result",
          "data": {
            "text/plain": [
              "torch.Size([64, 3, 224, 224])"
            ]
          },
          "metadata": {
            "tags": []
          },
          "execution_count": 42
        }
      ]
    },
    {
      "cell_type": "code",
      "metadata": {
        "id": "k8W05wbQ5puy",
        "colab": {
          "base_uri": "https://localhost:8080/"
        },
        "outputId": "77ebe333-cd1d-4a17-f1a7-675b3e4376f8"
      },
      "source": [
        "images[0].size()"
      ],
      "execution_count": 44,
      "outputs": [
        {
          "output_type": "execute_result",
          "data": {
            "text/plain": [
              "torch.Size([3, 224, 224])"
            ]
          },
          "metadata": {
            "tags": []
          },
          "execution_count": 44
        }
      ]
    },
    {
      "cell_type": "code",
      "metadata": {
        "id": "LTTLlOcOB5Mi"
      },
      "source": [
        "plt.imshow()"
      ],
      "execution_count": null,
      "outputs": []
    },
    {
      "cell_type": "code",
      "metadata": {
        "colab": {
          "base_uri": "https://localhost:8080/",
          "height": 286
        },
        "id": "xQ9uP5VDBxCB",
        "outputId": "cad8805d-a8cc-4fee-d416-a03a92a26ae3"
      },
      "source": [
        "plt.imshow(np.clip(np.transpose(images[test_image_id],(1,2,0)),0,1))"
      ],
      "execution_count": 48,
      "outputs": [
        {
          "output_type": "execute_result",
          "data": {
            "text/plain": [
              "<matplotlib.image.AxesImage at 0x7fa185f97d50>"
            ]
          },
          "metadata": {
            "tags": []
          },
          "execution_count": 48
        },
        {
          "output_type": "display_data",
          "data": {
            "image/png": "[encoded data removed]",
            "text/plain": [
              "<Figure size 432x288 with 1 Axes>"
            ]
          },
          "metadata": {
            "tags": [],
            "needs_background": "light"
          }
        }
      ]
    },
    {
      "cell_type": "code",
      "metadata": {
        "id": "-VuaqkSl5psb"
      },
      "source": [
        "z = (x-m)/std"
      ],
      "execution_count": null,
      "outputs": []
    },
    {
      "cell_type": "code",
      "metadata": {
        "id": "tvDymgRD5pqC"
      },
      "source": [
        "def denormalize(tensor):\n",
        "  tensor = tensor*std + mean\n",
        "  return tensor"
      ],
      "execution_count": 51,
      "outputs": []
    },
    {
      "cell_type": "code",
      "metadata": {
        "id": "mTUg6-_m5pnq"
      },
      "source": [
        "def show_img(img):\n",
        "  img = img.numpy().transpose((1,2,0))\n",
        "  img = denormalize(img)\n",
        "  img = np.clip(img,0,1)\n",
        "  plt.imshow(img)"
      ],
      "execution_count": 54,
      "outputs": []
    },
    {
      "cell_type": "code",
      "metadata": {
        "id": "TVx5ts6i5plM",
        "colab": {
          "base_uri": "https://localhost:8080/",
          "height": 269
        },
        "outputId": "2b11da9d-6948-4ce5-e124-27903cb341f7"
      },
      "source": [
        "show_img(images[test_image_id])"
      ],
      "execution_count": 55,
      "outputs": [
        {
          "output_type": "display_data",
          "data": {
            "image/png": "[encoded data removed]",
            "text/plain": [
              "<Figure size 432x288 with 1 Axes>"
            ]
          },
          "metadata": {
            "tags": [],
            "needs_background": "light"
          }
        }
      ]
    },
    {
      "cell_type": "code",
      "metadata": {
        "id": "wPiNhV2D5pi6"
      },
      "source": [
        ""
      ],
      "execution_count": null,
      "outputs": []
    },
    {
      "cell_type": "code",
      "metadata": {
        "id": "NRvmkAmD5pgh"
      },
      "source": [
        ""
      ],
      "execution_count": null,
      "outputs": []
    },
    {
      "cell_type": "code",
      "metadata": {
        "id": "8OQPRoyO5pd7"
      },
      "source": [
        ""
      ],
      "execution_count": null,
      "outputs": []
    },
    {
      "cell_type": "code",
      "metadata": {
        "id": "9dVJq6i45pbg"
      },
      "source": [
        ""
      ],
      "execution_count": null,
      "outputs": []
    },
    {
      "cell_type": "code",
      "metadata": {
        "id": "-apBcI5Y5pZO"
      },
      "source": [
        ""
      ],
      "execution_count": null,
      "outputs": []
    },
    {
      "cell_type": "code",
      "metadata": {
        "id": "RD_NGXOp5pWz"
      },
      "source": [
        ""
      ],
      "execution_count": null,
      "outputs": []
    },
    {
      "cell_type": "code",
      "metadata": {
        "id": "8jWkwI6b5pUl"
      },
      "source": [
        ""
      ],
      "execution_count": null,
      "outputs": []
    },
    {
      "cell_type": "code",
      "metadata": {
        "id": "3tyxSgRl5pSS"
      },
      "source": [
        ""
      ],
      "execution_count": null,
      "outputs": []
    },
    {
      "cell_type": "code",
      "metadata": {
        "id": "ljkfNWq85pP6"
      },
      "source": [
        ""
      ],
      "execution_count": null,
      "outputs": []
    },
    {
      "cell_type": "code",
      "metadata": {
        "id": "nsrAfbj05pNp"
      },
      "source": [
        ""
      ],
      "execution_count": null,
      "outputs": []
    },
    {
      "cell_type": "code",
      "metadata": {
        "id": "OysKCt9j5pLR"
      },
      "source": [
        ""
      ],
      "execution_count": null,
      "outputs": []
    },
    {
      "cell_type": "code",
      "metadata": {
        "id": "ukrPQ7mqMxI6"
      },
      "source": [
        ""
      ],
      "execution_count": null,
      "outputs": []
    },
    {
      "cell_type": "markdown",
      "metadata": {
        "id": "lCoFRFofMx7p"
      },
      "source": [
        "## Accuracy of the model"
      ]
    },
    {
      "cell_type": "code",
      "metadata": {
        "id": "AxTiil7cXOAz",
        "colab": {
          "base_uri": "https://localhost:8080/"
        },
        "outputId": "a6f2168b-435f-4889-e71c-51b9d9115ca0"
      },
      "source": [
        "model.eval()\n",
        "with torch.no_grad():\n",
        "    num_correct = 0\n",
        "    total = 0\n",
        "\n",
        "    cnt = 0\n",
        "    #set_trace()\n",
        "    for images, labels in testloader:\n",
        "        \n",
        "        logps = model(images)\n",
        "        output = torch.exp(logps)\n",
        "        print(output)\n",
        "        cnt+=1\n",
        "        \n",
        "        if cnt > 0:\n",
        "          break"
      ],
      "execution_count": 56,
      "outputs": [
        {
          "output_type": "stream",
          "text": [
            "tensor([[1.0787e-03, 1.3690e-02, 8.0182e-03, 7.9596e-01, 1.4491e-04, 3.4324e-02,\n",
            "         1.3441e-01, 9.5093e-03, 1.8785e-03, 9.9225e-04],\n",
            "        [4.8904e-02, 5.6434e-01, 2.7638e-05, 2.5152e-05, 7.2671e-06, 5.8636e-06,\n",
            "         2.1539e-05, 4.9652e-06, 3.8297e-01, 3.6944e-03],\n",
            "        [7.7484e-04, 3.3058e-03, 4.0012e-07, 4.6047e-07, 4.4840e-07, 1.6164e-08,\n",
            "         2.1417e-08, 5.2920e-07, 9.9588e-01, 4.1588e-05],\n",
            "        [5.3985e-01, 2.1046e-03, 1.9356e-01, 6.2174e-02, 8.5054e-04, 8.8313e-04,\n",
            "         2.1353e-03, 2.1995e-03, 1.9408e-01, 2.1611e-03],\n",
            "        [8.4428e-08, 1.0254e-06, 4.0029e-03, 1.9224e-04, 7.0415e-05, 1.3584e-05,\n",
            "         9.9572e-01, 1.1330e-07, 7.1407e-08, 4.4102e-07],\n",
            "        [5.2007e-06, 1.0104e-05, 7.8435e-05, 2.9784e-02, 2.5976e-03, 5.1040e-02,\n",
            "         9.1627e-01, 1.9727e-04, 3.3711e-07, 1.7974e-05],\n",
            "        [9.6630e-06, 9.9195e-01, 2.8658e-07, 2.6926e-05, 4.6521e-08, 2.4538e-05,\n",
            "         2.1485e-06, 2.4377e-05, 1.3581e-05, 7.9434e-03],\n",
            "        [3.7353e-02, 1.1219e-02, 3.8175e-02, 1.2789e-01, 2.1312e-02, 5.5568e-03,\n",
            "         6.8042e-01, 1.9656e-02, 8.2687e-03, 5.0154e-02],\n",
            "        [1.2659e-04, 7.1436e-06, 4.3953e-02, 9.3398e-01, 3.7488e-03, 1.4743e-02,\n",
            "         2.1875e-03, 1.1902e-03, 4.4709e-05, 1.6758e-05],\n",
            "        [5.5556e-06, 9.9061e-01, 6.1755e-07, 4.4932e-05, 6.3713e-06, 3.5498e-05,\n",
            "         7.4685e-05, 1.4216e-05, 2.7879e-05, 9.1845e-03],\n",
            "        [9.2515e-01, 8.9209e-05, 1.5868e-02, 1.4784e-02, 9.6081e-03, 6.3670e-03,\n",
            "         9.8944e-04, 1.8625e-02, 7.3764e-03, 1.1378e-03],\n",
            "        [1.2587e-07, 8.9280e-03, 4.6204e-10, 4.3941e-08, 7.8347e-10, 6.6036e-09,\n",
            "         5.6688e-09, 2.8039e-09, 1.7632e-06, 9.9107e-01],\n",
            "        [1.6714e-05, 4.2450e-05, 5.8830e-04, 7.2809e-02, 1.5753e-03, 8.2460e-01,\n",
            "         2.3240e-03, 9.8022e-02, 9.1628e-06, 9.1426e-06],\n",
            "        [1.2906e-04, 5.8165e-04, 9.8501e-03, 6.1673e-02, 1.8105e-03, 5.8525e-02,\n",
            "         1.4508e-03, 8.6563e-01, 7.8300e-05, 2.7004e-04],\n",
            "        [1.2151e-05, 2.0997e-03, 1.9835e-08, 7.2648e-07, 1.2280e-07, 9.1849e-08,\n",
            "         2.6490e-09, 8.2011e-07, 1.0077e-05, 9.9788e-01],\n",
            "        [2.6639e-02, 2.5784e-02, 6.7419e-02, 1.0591e-03, 2.6469e-04, 6.4439e-03,\n",
            "         2.2655e-01, 6.9109e-04, 6.4449e-01, 6.6084e-04],\n",
            "        [7.9389e-06, 1.0458e-05, 3.6743e-04, 8.6071e-02, 1.6488e-05, 9.1084e-01,\n",
            "         7.9819e-05, 2.5927e-03, 9.0418e-06, 3.9012e-06],\n",
            "        [2.1546e-04, 2.1273e-02, 3.4438e-04, 5.1076e-03, 4.5336e-04, 2.0226e-02,\n",
            "         4.8745e-03, 9.3884e-01, 2.8290e-05, 8.6354e-03],\n",
            "        [2.8265e-04, 4.0926e-04, 7.7724e-07, 1.3633e-06, 6.4230e-05, 1.4070e-07,\n",
            "         7.1354e-08, 3.6227e-06, 9.9838e-01, 8.5774e-04],\n",
            "        [3.0388e-05, 1.5574e-05, 5.4481e-03, 8.6000e-04, 7.5292e-04, 4.3164e-05,\n",
            "         9.9281e-01, 2.0279e-06, 3.2149e-05, 5.5815e-06],\n",
            "        [1.2843e-01, 6.9243e-03, 3.8785e-02, 1.1893e-01, 1.0302e-01, 4.3118e-02,\n",
            "         6.0173e-04, 5.4878e-01, 3.8342e-03, 7.5822e-03],\n",
            "        [9.8637e-01, 6.9300e-04, 4.8353e-03, 4.8168e-03, 3.9405e-04, 3.0171e-04,\n",
            "         1.3616e-03, 3.2782e-04, 8.0775e-04, 8.8409e-05],\n",
            "        [8.1628e-02, 3.0465e-04, 1.2635e-01, 1.9541e-02, 7.1164e-01, 3.2949e-03,\n",
            "         2.8692e-02, 7.4956e-03, 2.0944e-02, 1.1155e-04],\n",
            "        [2.5889e-04, 6.6252e-01, 2.4525e-07, 2.7147e-05, 3.4503e-07, 7.1052e-05,\n",
            "         1.1157e-07, 6.8417e-06, 7.0212e-05, 3.3704e-01],\n",
            "        [1.3092e-05, 5.2681e-05, 1.5087e-03, 6.6550e-02, 6.9330e-02, 8.6068e-01,\n",
            "         7.1526e-04, 1.0668e-03, 7.9620e-05, 5.9600e-06],\n",
            "        [1.4535e-03, 1.2275e-04, 7.4401e-01, 6.5734e-02, 3.7914e-02, 3.2264e-02,\n",
            "         1.7320e-04, 1.1818e-01, 4.4544e-05, 9.7118e-05],\n",
            "        [4.2897e-03, 8.2414e-04, 3.4106e-02, 4.5396e-01, 3.4240e-01, 6.6498e-02,\n",
            "         7.8019e-02, 1.3894e-02, 1.9783e-03, 4.0264e-03],\n",
            "        [3.9534e-01, 9.4938e-05, 5.1607e-01, 1.3428e-02, 2.8119e-02, 1.1721e-03,\n",
            "         1.7257e-02, 2.3916e-02, 1.2095e-03, 3.3953e-03],\n",
            "        [6.2674e-06, 5.1769e-04, 5.3596e-08, 3.6003e-06, 4.7085e-07, 1.5560e-07,\n",
            "         4.7638e-08, 4.2633e-06, 3.0484e-06, 9.9946e-01],\n",
            "        [2.1227e-06, 5.2932e-07, 1.9381e-03, 1.8348e-03, 1.1272e-03, 1.9283e-04,\n",
            "         9.9486e-01, 4.1934e-05, 9.0494e-07, 1.1910e-06],\n",
            "        [1.9102e-04, 4.4850e-04, 1.6073e-02, 9.6989e-02, 2.1752e-03, 1.2446e-03,\n",
            "         8.8097e-01, 3.8844e-04, 2.4522e-05, 1.4926e-03],\n",
            "        [4.4962e-06, 5.4436e-05, 9.4304e-03, 3.7486e-02, 4.1693e-03, 9.3716e-01,\n",
            "         4.0825e-04, 1.1264e-02, 1.4603e-05, 3.3430e-06],\n",
            "        [4.9584e-04, 2.9372e-03, 1.1544e-01, 1.1872e-02, 8.1985e-01, 1.7681e-02,\n",
            "         1.9882e-02, 1.0862e-02, 3.0085e-04, 6.7309e-04],\n",
            "        [2.4261e-05, 2.6080e-03, 8.0387e-03, 3.0194e-01, 6.1425e-02, 5.1087e-01,\n",
            "         1.1401e-01, 9.0635e-04, 2.9347e-05, 1.4401e-04],\n",
            "        [1.3130e-03, 2.5165e-04, 7.1149e-07, 9.7636e-07, 2.3380e-06, 1.9362e-07,\n",
            "         3.1132e-08, 2.1226e-06, 6.0488e-04, 9.9782e-01],\n",
            "        [1.6936e-03, 4.1613e-02, 7.3416e-02, 1.8353e-01, 4.8074e-04, 6.2005e-01,\n",
            "         9.0102e-03, 4.3492e-02, 2.1359e-02, 5.3472e-03],\n",
            "        [7.2582e-06, 2.6082e-08, 9.1664e-04, 9.1129e-04, 9.0963e-01, 2.1908e-02,\n",
            "         4.3500e-05, 6.6581e-02, 1.6450e-07, 3.6074e-08],\n",
            "        [1.0121e-04, 8.7583e-01, 2.2986e-07, 2.4573e-05, 1.2852e-06, 9.7382e-07,\n",
            "         6.3830e-07, 4.1689e-06, 2.7523e-05, 1.2401e-01],\n",
            "        [6.4430e-05, 1.4164e-03, 3.4738e-06, 5.2538e-04, 2.6710e-06, 1.3823e-03,\n",
            "         3.0080e-06, 3.0159e-04, 8.4850e-04, 9.9545e-01],\n",
            "        [2.4842e-08, 2.0327e-06, 3.3586e-06, 1.0046e-03, 5.7816e-07, 9.9897e-01,\n",
            "         9.0694e-06, 8.0948e-06, 1.4694e-06, 2.3781e-07],\n",
            "        [1.5315e-01, 3.4353e-03, 6.8421e-01, 6.5453e-03, 3.8682e-02, 1.2113e-03,\n",
            "         3.0734e-02, 7.9146e-02, 5.7723e-04, 2.3109e-03],\n",
            "        [4.0458e-05, 1.6500e-04, 6.9084e-03, 7.0289e-04, 3.3495e-03, 2.3287e-04,\n",
            "         9.8818e-01, 1.8151e-04, 6.1355e-06, 2.3799e-04],\n",
            "        [6.0047e-05, 1.9645e-04, 2.7370e-03, 1.2780e-01, 2.3038e-04, 8.0674e-01,\n",
            "         1.8773e-04, 6.1920e-02, 3.0908e-05, 9.7660e-05],\n",
            "        [4.6686e-05, 3.4815e-04, 3.1298e-03, 1.6534e-02, 4.4935e-04, 1.0302e-02,\n",
            "         9.6883e-01, 7.4201e-05, 1.4932e-04, 1.3580e-04],\n",
            "        [5.3445e-01, 2.5225e-01, 3.7863e-03, 7.6994e-05, 1.3361e-03, 2.3267e-04,\n",
            "         3.5184e-04, 7.2378e-04, 2.7250e-02, 1.7955e-01],\n",
            "        [1.3513e-04, 5.8918e-04, 2.8371e-08, 6.0238e-07, 1.3204e-07, 5.8817e-08,\n",
            "         5.2981e-09, 1.0799e-05, 1.3733e-03, 9.9789e-01],\n",
            "        [7.6090e-06, 5.7821e-04, 5.5770e-03, 8.4202e-01, 2.5674e-02, 1.1919e-01,\n",
            "         3.3362e-03, 3.4606e-03, 5.1659e-05, 9.7943e-05],\n",
            "        [1.3053e-02, 9.7494e-02, 2.4229e-05, 3.4890e-04, 1.0000e-05, 7.1113e-06,\n",
            "         1.5125e-04, 1.0660e-04, 4.2437e-02, 8.4637e-01],\n",
            "        [1.5905e-06, 2.8791e-07, 1.8303e-03, 6.5629e-05, 1.8965e-01, 1.3055e-03,\n",
            "         1.1553e-05, 8.0713e-01, 1.8926e-07, 1.6271e-07],\n",
            "        [7.3684e-05, 1.0951e-04, 3.8791e-02, 1.3538e-03, 6.8699e-03, 3.8533e-03,\n",
            "         9.4890e-01, 1.9170e-05, 2.8169e-05, 1.6869e-06],\n",
            "        [2.1241e-02, 7.5534e-05, 1.4360e-05, 1.0581e-05, 4.1714e-05, 1.5997e-07,\n",
            "         4.3800e-07, 9.8617e-06, 2.1327e-03, 9.7647e-01],\n",
            "        [5.8780e-03, 8.8451e-06, 4.5971e-04, 1.9479e-05, 1.6144e-04, 1.3116e-05,\n",
            "         2.3528e-05, 1.2910e-04, 9.9222e-01, 1.0820e-03],\n",
            "        [3.8223e-01, 1.6420e-03, 6.2055e-03, 7.3890e-03, 1.8616e-03, 1.3987e-02,\n",
            "         2.9648e-02, 6.1600e-04, 4.7896e-01, 7.7467e-02],\n",
            "        [1.6380e-05, 2.3482e-04, 3.3598e-02, 8.6139e-01, 3.8271e-03, 1.3625e-02,\n",
            "         8.4405e-02, 7.5324e-04, 2.1652e-04, 1.9316e-03],\n",
            "        [2.8323e-03, 7.9628e-07, 1.5319e-06, 1.6749e-08, 1.5531e-07, 7.2235e-09,\n",
            "         3.4296e-09, 3.4913e-08, 9.9717e-01, 8.6851e-08],\n",
            "        [1.9106e-03, 6.3527e-06, 1.4980e-03, 6.4667e-05, 6.1001e-04, 3.8733e-05,\n",
            "         5.5844e-08, 7.0438e-05, 9.9580e-01, 2.1830e-06],\n",
            "        [5.8910e-04, 6.2179e-04, 9.7715e-04, 1.9168e-01, 1.5561e-03, 1.2600e-01,\n",
            "         1.6302e-05, 6.7420e-01, 7.8906e-05, 4.2787e-03],\n",
            "        [6.7524e-02, 2.5725e-02, 7.3683e-02, 5.4024e-01, 4.5380e-02, 5.1094e-02,\n",
            "         1.0256e-01, 5.7531e-02, 2.9210e-02, 7.0621e-03],\n",
            "        [4.0187e-03, 4.1036e-04, 6.7255e-03, 6.2898e-01, 4.7565e-02, 2.5711e-01,\n",
            "         1.6424e-02, 3.3548e-02, 4.1600e-03, 1.0492e-03],\n",
            "        [1.4213e-02, 9.7291e-03, 8.3075e-03, 6.1736e-01, 1.3432e-02, 1.5289e-01,\n",
            "         1.4005e-01, 2.6137e-02, 7.6292e-03, 1.0258e-02],\n",
            "        [3.0140e-06, 5.7400e-07, 5.9421e-04, 1.6124e-05, 2.8948e-01, 2.2719e-04,\n",
            "         5.2948e-06, 7.0967e-01, 4.1661e-08, 9.8781e-08],\n",
            "        [4.8725e-05, 6.8724e-05, 1.1524e-01, 4.9274e-01, 3.3533e-03, 3.3595e-01,\n",
            "         2.2993e-02, 2.9401e-02, 4.7935e-05, 1.5983e-04],\n",
            "        [1.2888e-02, 2.8479e-02, 1.2756e-01, 1.4816e-02, 1.1719e-02, 5.3626e-03,\n",
            "         7.8461e-01, 7.0013e-03, 2.0386e-03, 5.5344e-03],\n",
            "        [1.1535e-03, 1.1432e-01, 9.5128e-03, 8.3365e-01, 1.6881e-04, 8.3606e-03,\n",
            "         8.8597e-04, 1.3781e-04, 4.0467e-03, 2.7757e-02]])\n"
          ],
          "name": "stdout"
        }
      ]
    },
    {
      "cell_type": "code",
      "metadata": {
        "colab": {
          "base_uri": "https://localhost:8080/"
        },
        "id": "WiWb2spiFV5F",
        "outputId": "e2e45e54-064e-4355-ca64-fa90a729dfda"
      },
      "source": [
        "pred == labels"
      ],
      "execution_count": 58,
      "outputs": [
        {
          "output_type": "execute_result",
          "data": {
            "text/plain": [
              "tensor([ True, False,  True,  True,  True,  True,  True,  True,  True,  True,\n",
              "         True,  True,  True,  True,  True,  True,  True,  True,  True,  True,\n",
              "         True,  True,  True, False,  True,  True, False, False,  True,  True,\n",
              "         True,  True,  True,  True,  True, False,  True,  True,  True,  True,\n",
              "        False,  True,  True,  True,  True,  True,  True,  True,  True,  True,\n",
              "         True,  True, False,  True,  True,  True,  True, False, False, False,\n",
              "         True,  True,  True,  True])"
            ]
          },
          "metadata": {
            "tags": []
          },
          "execution_count": 58
        }
      ]
    },
    {
      "cell_type": "code",
      "metadata": {
        "id": "_x2rAAjzc100"
      },
      "source": [
        "model.eval()\n",
        "with torch.no_grad():\n",
        "    num_correct = 0\n",
        "    total = 0\n",
        "\n",
        "    cnt = 0\n",
        "\n",
        "    for images, labels in testloader:\n",
        "        \n",
        "        logps = model(images)\n",
        "        output = torch.exp(logps)\n",
        "\n",
        "        pred = torch.argmax(output, 1)\n",
        "        total += labels.size(0)        \n",
        "\n",
        "        cnt+=1\n",
        "        \n",
        "        if cnt > 0:\n",
        "          break"
      ],
      "execution_count": 59,
      "outputs": []
    },
    {
      "cell_type": "code",
      "metadata": {
        "id": "ee-QW6qm51Fx"
      },
      "source": [
        ""
      ],
      "execution_count": null,
      "outputs": []
    },
    {
      "cell_type": "code",
      "metadata": {
        "id": "VXY13lXc51Dc"
      },
      "source": [
        ""
      ],
      "execution_count": null,
      "outputs": []
    },
    {
      "cell_type": "code",
      "metadata": {
        "id": "SdAbUOiy51BJ"
      },
      "source": [
        ""
      ],
      "execution_count": null,
      "outputs": []
    },
    {
      "cell_type": "code",
      "metadata": {
        "id": "TPZyUGGM50-Z"
      },
      "source": [
        ""
      ],
      "execution_count": null,
      "outputs": []
    },
    {
      "cell_type": "code",
      "metadata": {
        "id": "dqjOGQZP--H4",
        "colab": {
          "base_uri": "https://localhost:8080/"
        },
        "outputId": "9c3723c7-db47-4c71-ea75-63d4f9de07da"
      },
      "source": [
        "model.eval()\n",
        "with torch.no_grad():\n",
        "    num_correct = 0\n",
        "    total = 0\n",
        "\n",
        "\n",
        "    for batch, (images, labels) in enumerate(testloader,1):\n",
        "        \n",
        "        logps = model(images)\n",
        "        output = torch.exp(logps)\n",
        "        \n",
        "        pred = torch.argmax(output, 1)\n",
        "        total += labels.size(0)\n",
        "        num_correct += (pred == labels).sum().item()\n",
        "        print(f'Batch ({batch}/{len(testloader)})')\n",
        "        \n",
        "        if batch == 5:\n",
        "          break\n",
        "\n",
        "    print(f'Accuracy of the model on {total} test images: {num_correct * 100 / total}% ')"
      ],
      "execution_count": 60,
      "outputs": [
        {
          "output_type": "stream",
          "text": [
            "Batch (1/157)\n",
            "Batch (2/157)\n",
            "Batch (3/157)\n",
            "Batch (4/157)\n",
            "Batch (5/157)\n",
            "Accuracy of the model on 320 test images: 80.9375% \n"
          ],
          "name": "stdout"
        }
      ]
    },
    {
      "cell_type": "code",
      "metadata": {
        "id": "WM9bDDWZ59EJ"
      },
      "source": [
        ""
      ],
      "execution_count": null,
      "outputs": []
    },
    {
      "cell_type": "code",
      "metadata": {
        "id": "ebWkjRO9XyCi"
      },
      "source": [
        ""
      ],
      "execution_count": null,
      "outputs": []
    }
  ]
}
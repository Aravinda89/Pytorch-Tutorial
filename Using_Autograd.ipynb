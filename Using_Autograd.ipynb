{
  "nbformat": 4,
  "nbformat_minor": 0,
  "metadata": {
    "colab": {
      "name": "Using Autograd.ipynb",
      "provenance": [],
      "collapsed_sections": [],
      "include_colab_link": true
    },
    "kernelspec": {
      "name": "python3",
      "display_name": "Python 3"
    }
  },
  "cells": [
    {
      "cell_type": "markdown",
      "metadata": {
        "id": "view-in-github",
        "colab_type": "text"
      },
      "source": [
        "<a href=\"https://colab.research.google.com/github/Aravinda89/Pytorch-Tutorial/blob/main/Using_Autograd.ipynb\" target=\"_parent\"><img src=\"https://colab.research.google.com/assets/colab-badge.svg\" alt=\"Open In Colab\"/></a>"
      ]
    },
    {
      "cell_type": "markdown",
      "metadata": {
        "id": "K-BUF2iqY_0n"
      },
      "source": [
        "# Autograd with tensors"
      ]
    },
    {
      "cell_type": "code",
      "metadata": {
        "id": "nbCTeu9AZDak"
      },
      "source": [
        "import torch"
      ],
      "execution_count": 1,
      "outputs": []
    },
    {
      "cell_type": "code",
      "metadata": {
        "id": "AIpMXYEQZDYG"
      },
      "source": [
        "w = torch.randn(4,3,requires_grad=True)"
      ],
      "execution_count": 2,
      "outputs": []
    },
    {
      "cell_type": "code",
      "metadata": {
        "id": "tPCDpREGZDV_",
        "colab": {
          "base_uri": "https://localhost:8080/"
        },
        "outputId": "257e0fb6-e4ee-462f-c894-4f1ad75e4ab0"
      },
      "source": [
        "w"
      ],
      "execution_count": 3,
      "outputs": [
        {
          "output_type": "execute_result",
          "data": {
            "text/plain": [
              "tensor([[-0.1357,  0.0642, -0.1551],\n",
              "        [-1.6032, -0.4025,  0.1917],\n",
              "        [ 1.1057, -0.4362,  0.6599],\n",
              "        [ 2.3116,  1.5459, -1.0386]], requires_grad=True)"
            ]
          },
          "metadata": {
            "tags": []
          },
          "execution_count": 3
        }
      ]
    },
    {
      "cell_type": "code",
      "metadata": {
        "id": "tc6j07MfZDTW",
        "colab": {
          "base_uri": "https://localhost:8080/"
        },
        "outputId": "d22d9b6f-9f9c-45df-a64b-bcb056138c99"
      },
      "source": [
        "w.requires_grad_(False)"
      ],
      "execution_count": 4,
      "outputs": [
        {
          "output_type": "execute_result",
          "data": {
            "text/plain": [
              "tensor([[-0.1357,  0.0642, -0.1551],\n",
              "        [-1.6032, -0.4025,  0.1917],\n",
              "        [ 1.1057, -0.4362,  0.6599],\n",
              "        [ 2.3116,  1.5459, -1.0386]])"
            ]
          },
          "metadata": {
            "tags": []
          },
          "execution_count": 4
        }
      ]
    },
    {
      "cell_type": "code",
      "metadata": {
        "id": "FYs5XvOlZDOH",
        "colab": {
          "base_uri": "https://localhost:8080/"
        },
        "outputId": "cda8ee3f-9c53-4004-94e0-59f7a8722e4d"
      },
      "source": [
        "w.requires_grad_(True)"
      ],
      "execution_count": 5,
      "outputs": [
        {
          "output_type": "execute_result",
          "data": {
            "text/plain": [
              "tensor([[-0.1357,  0.0642, -0.1551],\n",
              "        [-1.6032, -0.4025,  0.1917],\n",
              "        [ 1.1057, -0.4362,  0.6599],\n",
              "        [ 2.3116,  1.5459, -1.0386]], requires_grad=True)"
            ]
          },
          "metadata": {
            "tags": []
          },
          "execution_count": 5
        }
      ]
    },
    {
      "cell_type": "code",
      "metadata": {
        "id": "sH5UvYQRZDLx",
        "colab": {
          "base_uri": "https://localhost:8080/"
        },
        "outputId": "03dfd4de-741f-4268-f55b-d74f4e6e2d1e"
      },
      "source": [
        "y =  torch.exp(w)\n",
        "y"
      ],
      "execution_count": 7,
      "outputs": [
        {
          "output_type": "execute_result",
          "data": {
            "text/plain": [
              "tensor([[ 0.8731,  1.0663,  0.8563],\n",
              "        [ 0.2012,  0.6686,  1.2112],\n",
              "        [ 3.0214,  0.6465,  1.9345],\n",
              "        [10.0909,  4.6920,  0.3540]], grad_fn=<ExpBackward>)"
            ]
          },
          "metadata": {
            "tags": []
          },
          "execution_count": 7
        }
      ]
    },
    {
      "cell_type": "code",
      "metadata": {
        "id": "5ZLCejs4ZDJY",
        "colab": {
          "base_uri": "https://localhost:8080/"
        },
        "outputId": "0cab043b-c14d-41fb-8132-a9565b7cb79e"
      },
      "source": [
        "y.grad_fn"
      ],
      "execution_count": 8,
      "outputs": [
        {
          "output_type": "execute_result",
          "data": {
            "text/plain": [
              "<ExpBackward at 0x7f0c62fdaed0>"
            ]
          },
          "metadata": {
            "tags": []
          },
          "execution_count": 8
        }
      ]
    },
    {
      "cell_type": "code",
      "metadata": {
        "id": "ZadWbpkSZDHG",
        "colab": {
          "base_uri": "https://localhost:8080/"
        },
        "outputId": "022e70aa-d637-4100-c9ef-32c15de181a8"
      },
      "source": [
        "output = y.mean()\n",
        "output"
      ],
      "execution_count": 9,
      "outputs": [
        {
          "output_type": "execute_result",
          "data": {
            "text/plain": [
              "tensor(2.1347, grad_fn=<MeanBackward0>)"
            ]
          },
          "metadata": {
            "tags": []
          },
          "execution_count": 9
        }
      ]
    },
    {
      "cell_type": "code",
      "metadata": {
        "id": "AHJk7sFyZDEy",
        "colab": {
          "base_uri": "https://localhost:8080/"
        },
        "outputId": "f255f5bc-0a70-4fcb-cfea-3cc34cd583c3"
      },
      "source": [
        "print(w.grad)"
      ],
      "execution_count": 10,
      "outputs": [
        {
          "output_type": "stream",
          "text": [
            "None\n"
          ],
          "name": "stdout"
        }
      ]
    },
    {
      "cell_type": "code",
      "metadata": {
        "id": "YVpjuVGsZDCa"
      },
      "source": [
        "output.backward()"
      ],
      "execution_count": 11,
      "outputs": []
    },
    {
      "cell_type": "code",
      "metadata": {
        "id": "WDcj6yzYZC_w",
        "colab": {
          "base_uri": "https://localhost:8080/"
        },
        "outputId": "441f6eb7-22d8-4112-a0b1-d2abf740413a"
      },
      "source": [
        "print(w.grad)"
      ],
      "execution_count": 12,
      "outputs": [
        {
          "output_type": "stream",
          "text": [
            "tensor([[0.0728, 0.0889, 0.0714],\n",
            "        [0.0168, 0.0557, 0.1009],\n",
            "        [0.2518, 0.0539, 0.1612],\n",
            "        [0.8409, 0.3910, 0.0295]])\n"
          ],
          "name": "stdout"
        }
      ]
    },
    {
      "cell_type": "code",
      "metadata": {
        "id": "rgQ6iBEfZC9H",
        "colab": {
          "base_uri": "https://localhost:8080/"
        },
        "outputId": "a25dceb1-f318-48eb-d3cb-27c12c70fe7c"
      },
      "source": [
        "print(output.requires_grad)"
      ],
      "execution_count": 13,
      "outputs": [
        {
          "output_type": "stream",
          "text": [
            "True\n"
          ],
          "name": "stdout"
        }
      ]
    },
    {
      "cell_type": "code",
      "metadata": {
        "id": "pWxFJywCZC6_",
        "colab": {
          "base_uri": "https://localhost:8080/"
        },
        "outputId": "9c593a8b-b1d1-45a9-e136-6d83938e30be"
      },
      "source": [
        "with torch.no_grad():\n",
        "  output = (w+y).mean()\n",
        "\n",
        "print(output.requires_grad)"
      ],
      "execution_count": 14,
      "outputs": [
        {
          "output_type": "stream",
          "text": [
            "False\n"
          ],
          "name": "stdout"
        }
      ]
    },
    {
      "cell_type": "code",
      "metadata": {
        "id": "_SjdcUpHZC4y"
      },
      "source": [
        ""
      ],
      "execution_count": null,
      "outputs": []
    },
    {
      "cell_type": "code",
      "metadata": {
        "id": "ph9sMtadZC2f"
      },
      "source": [
        ""
      ],
      "execution_count": null,
      "outputs": []
    },
    {
      "cell_type": "code",
      "metadata": {
        "id": "QHFUh0XKZC0K"
      },
      "source": [
        ""
      ],
      "execution_count": null,
      "outputs": []
    },
    {
      "cell_type": "code",
      "metadata": {
        "id": "AYvKPqwDZCxz"
      },
      "source": [
        ""
      ],
      "execution_count": null,
      "outputs": []
    },
    {
      "cell_type": "code",
      "metadata": {
        "id": "8jOCzyjoZCvq"
      },
      "source": [
        ""
      ],
      "execution_count": null,
      "outputs": []
    },
    {
      "cell_type": "code",
      "metadata": {
        "id": "3Of_3Y1sZCtv"
      },
      "source": [
        ""
      ],
      "execution_count": null,
      "outputs": []
    },
    {
      "cell_type": "code",
      "metadata": {
        "id": "mAWF-KHrY5Ww"
      },
      "source": [
        ""
      ],
      "execution_count": null,
      "outputs": []
    }
  ]
}
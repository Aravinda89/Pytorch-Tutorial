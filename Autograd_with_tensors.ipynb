{
  "nbformat": 4,
  "nbformat_minor": 0,
  "metadata": {
    "colab": {
      "name": "Autograd with tensors.ipynb",
      "provenance": [],
      "collapsed_sections": [],
      "include_colab_link": true
    },
    "kernelspec": {
      "name": "python3",
      "display_name": "Python 3"
    }
  },
  "cells": [
    {
      "cell_type": "markdown",
      "metadata": {
        "id": "view-in-github",
        "colab_type": "text"
      },
      "source": [
        "<a href=\"https://colab.research.google.com/github/Aravinda89/Pytorch-Tutorial/blob/main/Autograd_with_tensors.ipynb\" target=\"_parent\"><img src=\"https://colab.research.google.com/assets/colab-badge.svg\" alt=\"Open In Colab\"/></a>"
      ]
    },
    {
      "cell_type": "markdown",
      "metadata": {
        "id": "KPXHZpput5Xf"
      },
      "source": [
        "# Autograd with tensors"
      ]
    },
    {
      "cell_type": "code",
      "metadata": {
        "id": "p-C6nLqAt98a"
      },
      "source": [
        "import torch"
      ],
      "execution_count": 1,
      "outputs": []
    },
    {
      "cell_type": "code",
      "metadata": {
        "id": "WRSfe0Lut952"
      },
      "source": [
        "w = torch.randn(4, 3, requires_grad=True)"
      ],
      "execution_count": 2,
      "outputs": []
    },
    {
      "cell_type": "code",
      "metadata": {
        "id": "O-QcOYO1tkOn",
        "colab": {
          "base_uri": "https://localhost:8080/"
        },
        "outputId": "7e95eb2b-0dfe-41ec-9983-478048ea72c2"
      },
      "source": [
        "w"
      ],
      "execution_count": 3,
      "outputs": [
        {
          "output_type": "execute_result",
          "data": {
            "text/plain": [
              "tensor([[ 0.4569, -0.3766, -0.5346],\n",
              "        [ 0.5358, -0.5115,  0.0576],\n",
              "        [-1.5081, -0.6145, -0.6205],\n",
              "        [-0.3985,  0.3321,  1.0358]], requires_grad=True)"
            ]
          },
          "metadata": {
            "tags": []
          },
          "execution_count": 3
        }
      ]
    },
    {
      "cell_type": "code",
      "metadata": {
        "id": "FuWckF34t8X1",
        "colab": {
          "base_uri": "https://localhost:8080/"
        },
        "outputId": "223dcf27-dba1-42f6-82b4-88943176de5e"
      },
      "source": [
        "w.requires_grad_(False)"
      ],
      "execution_count": 4,
      "outputs": [
        {
          "output_type": "execute_result",
          "data": {
            "text/plain": [
              "tensor([[ 0.4569, -0.3766, -0.5346],\n",
              "        [ 0.5358, -0.5115,  0.0576],\n",
              "        [-1.5081, -0.6145, -0.6205],\n",
              "        [-0.3985,  0.3321,  1.0358]])"
            ]
          },
          "metadata": {
            "tags": []
          },
          "execution_count": 4
        }
      ]
    },
    {
      "cell_type": "code",
      "metadata": {
        "id": "SkQCjuabt8Vh",
        "colab": {
          "base_uri": "https://localhost:8080/"
        },
        "outputId": "7ca2d91e-986b-4e00-a27a-f9dcb956c56e"
      },
      "source": [
        "w.requires_grad_(True)"
      ],
      "execution_count": 5,
      "outputs": [
        {
          "output_type": "execute_result",
          "data": {
            "text/plain": [
              "tensor([[ 0.4569, -0.3766, -0.5346],\n",
              "        [ 0.5358, -0.5115,  0.0576],\n",
              "        [-1.5081, -0.6145, -0.6205],\n",
              "        [-0.3985,  0.3321,  1.0358]], requires_grad=True)"
            ]
          },
          "metadata": {
            "tags": []
          },
          "execution_count": 5
        }
      ]
    },
    {
      "cell_type": "code",
      "metadata": {
        "id": "rvggJC5wt8Ti",
        "colab": {
          "base_uri": "https://localhost:8080/"
        },
        "outputId": "2bb19e8a-bfc3-46b8-a0e6-4374dec7885f"
      },
      "source": [
        "y = torch.exp(w)\n",
        "y"
      ],
      "execution_count": 7,
      "outputs": [
        {
          "output_type": "execute_result",
          "data": {
            "text/plain": [
              "tensor([[1.5792, 0.6862, 0.5859],\n",
              "        [1.7089, 0.5996, 1.0593],\n",
              "        [0.2213, 0.5409, 0.5377],\n",
              "        [0.6713, 1.3939, 2.8173]], grad_fn=<ExpBackward>)"
            ]
          },
          "metadata": {
            "tags": []
          },
          "execution_count": 7
        }
      ]
    },
    {
      "cell_type": "code",
      "metadata": {
        "id": "PEg2PQiXt8RR",
        "colab": {
          "base_uri": "https://localhost:8080/"
        },
        "outputId": "8cbdf853-c40c-4f44-aa1d-67a55ad0b6df"
      },
      "source": [
        "y.grad_fn"
      ],
      "execution_count": 10,
      "outputs": [
        {
          "output_type": "execute_result",
          "data": {
            "text/plain": [
              "<ExpBackward at 0x7fb6cf05e490>"
            ]
          },
          "metadata": {
            "tags": []
          },
          "execution_count": 10
        }
      ]
    },
    {
      "cell_type": "code",
      "metadata": {
        "id": "QZopoC8It8O7",
        "colab": {
          "base_uri": "https://localhost:8080/"
        },
        "outputId": "4bd26792-79e7-4d98-bed4-489fdd07d0dd"
      },
      "source": [
        "outp = y.mean()\n",
        "outp"
      ],
      "execution_count": 11,
      "outputs": [
        {
          "output_type": "execute_result",
          "data": {
            "text/plain": [
              "tensor(1.0335, grad_fn=<MeanBackward0>)"
            ]
          },
          "metadata": {
            "tags": []
          },
          "execution_count": 11
        }
      ]
    },
    {
      "cell_type": "code",
      "metadata": {
        "id": "ManI6K2rt8HD",
        "colab": {
          "base_uri": "https://localhost:8080/"
        },
        "outputId": "71bfe89f-1ae2-425c-b3e7-73106854223f"
      },
      "source": [
        "print(w.grad)"
      ],
      "execution_count": 14,
      "outputs": [
        {
          "output_type": "stream",
          "text": [
            "None\n"
          ],
          "name": "stdout"
        }
      ]
    },
    {
      "cell_type": "code",
      "metadata": {
        "id": "ZUeoBOwf8_k4"
      },
      "source": [
        ""
      ],
      "execution_count": null,
      "outputs": []
    },
    {
      "cell_type": "code",
      "metadata": {
        "id": "tbQpKI4it8EJ"
      },
      "source": [
        "outp.backward()"
      ],
      "execution_count": 15,
      "outputs": []
    },
    {
      "cell_type": "code",
      "metadata": {
        "id": "Qq3KkSGvt8B_",
        "colab": {
          "base_uri": "https://localhost:8080/"
        },
        "outputId": "13e7a0cf-bdf0-4361-bf68-1483fc974b82"
      },
      "source": [
        "print(w.grad)"
      ],
      "execution_count": 16,
      "outputs": [
        {
          "output_type": "stream",
          "text": [
            "tensor([[0.1316, 0.0572, 0.0488],\n",
            "        [0.1424, 0.0500, 0.0883],\n",
            "        [0.0184, 0.0451, 0.0448],\n",
            "        [0.0559, 0.1162, 0.2348]])\n"
          ],
          "name": "stdout"
        }
      ]
    },
    {
      "cell_type": "code",
      "metadata": {
        "id": "SgOzb_QMt7_-",
        "colab": {
          "base_uri": "https://localhost:8080/"
        },
        "outputId": "f6dc85a3-c3c2-40e0-841e-f6e65a1b151d"
      },
      "source": [
        "print(w.detach())"
      ],
      "execution_count": 17,
      "outputs": [
        {
          "output_type": "stream",
          "text": [
            "tensor([[ 0.4569, -0.3766, -0.5346],\n",
            "        [ 0.5358, -0.5115,  0.0576],\n",
            "        [-1.5081, -0.6145, -0.6205],\n",
            "        [-0.3985,  0.3321,  1.0358]])\n"
          ],
          "name": "stdout"
        }
      ]
    },
    {
      "cell_type": "code",
      "metadata": {
        "id": "zVpIjfJ9t79q",
        "colab": {
          "base_uri": "https://localhost:8080/"
        },
        "outputId": "950033b4-e358-4d2e-f839-f6fdffbe0b4a"
      },
      "source": [
        "print(outp.requires_grad)"
      ],
      "execution_count": 18,
      "outputs": [
        {
          "output_type": "stream",
          "text": [
            "True\n"
          ],
          "name": "stdout"
        }
      ]
    },
    {
      "cell_type": "code",
      "metadata": {
        "id": "_zJ-R2vvt77R",
        "colab": {
          "base_uri": "https://localhost:8080/"
        },
        "outputId": "7479a901-86c2-451c-dd05-9a0139e893af"
      },
      "source": [
        "with torch.no_grad():\n",
        "  outp = (w+y).mean()\n",
        "\n",
        "print(outp.requires_grad)"
      ],
      "execution_count": 19,
      "outputs": [
        {
          "output_type": "stream",
          "text": [
            "False\n"
          ],
          "name": "stdout"
        }
      ]
    },
    {
      "cell_type": "code",
      "metadata": {
        "id": "uXriXeRvt75Z"
      },
      "source": [
        ""
      ],
      "execution_count": null,
      "outputs": []
    },
    {
      "cell_type": "code",
      "metadata": {
        "id": "J89G4qJjt73R"
      },
      "source": [
        ""
      ],
      "execution_count": null,
      "outputs": []
    },
    {
      "cell_type": "code",
      "metadata": {
        "id": "j6LeAdwRt71B"
      },
      "source": [
        ""
      ],
      "execution_count": null,
      "outputs": []
    },
    {
      "cell_type": "code",
      "metadata": {
        "id": "cg0PVIylt7y1"
      },
      "source": [
        ""
      ],
      "execution_count": null,
      "outputs": []
    },
    {
      "cell_type": "code",
      "metadata": {
        "id": "ZO2B3MaSt7we"
      },
      "source": [
        ""
      ],
      "execution_count": null,
      "outputs": []
    },
    {
      "cell_type": "code",
      "metadata": {
        "id": "oOG09FTEt7uO"
      },
      "source": [
        ""
      ],
      "execution_count": null,
      "outputs": []
    },
    {
      "cell_type": "code",
      "metadata": {
        "id": "EIOQXJu-t7sK"
      },
      "source": [
        ""
      ],
      "execution_count": null,
      "outputs": []
    },
    {
      "cell_type": "code",
      "metadata": {
        "id": "bkjm3Hp3t7p-"
      },
      "source": [
        ""
      ],
      "execution_count": null,
      "outputs": []
    }
  ]
}
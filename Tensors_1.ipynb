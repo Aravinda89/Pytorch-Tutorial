{
  "nbformat": 4,
  "nbformat_minor": 0,
  "metadata": {
    "colab": {
      "name": "Tensors_1.ipynb",
      "provenance": [],
      "collapsed_sections": [],
      "include_colab_link": true
    },
    "kernelspec": {
      "display_name": "Python 3",
      "language": "python",
      "name": "python3"
    },
    "language_info": {
      "codemirror_mode": {
        "name": "ipython",
        "version": 3
      },
      "file_extension": ".py",
      "mimetype": "text/x-python",
      "name": "python",
      "nbconvert_exporter": "python",
      "pygments_lexer": "ipython3",
      "version": "3.6.8"
    }
  },
  "cells": [
    {
      "cell_type": "markdown",
      "metadata": {
        "id": "view-in-github",
        "colab_type": "text"
      },
      "source": [
        "<a href=\"https://colab.research.google.com/github/Aravinda89/Pytorch-Tutorial/blob/main/Tensors_1.ipynb\" target=\"_parent\"><img src=\"https://colab.research.google.com/assets/colab-badge.svg\" alt=\"Open In Colab\"/></a>"
      ]
    },
    {
      "cell_type": "markdown",
      "metadata": {
        "id": "LFNM3-HxkJtN"
      },
      "source": [
        "# Tensors "
      ]
    },
    {
      "cell_type": "code",
      "metadata": {
        "id": "IkXveXITKBst"
      },
      "source": [
        "import torch"
      ],
      "execution_count": 3,
      "outputs": []
    },
    {
      "cell_type": "markdown",
      "metadata": {
        "id": "0ipN4cH3zsO8"
      },
      "source": [
        "## zeros()"
      ]
    },
    {
      "cell_type": "code",
      "metadata": {
        "id": "z_fJogRyKDr0",
        "colab": {
          "base_uri": "https://localhost:8080/"
        },
        "outputId": "861e4f87-45a9-42b0-e5b9-3b687a547715"
      },
      "source": [
        "w = torch.zeros(4,3)\n",
        "w"
      ],
      "execution_count": 6,
      "outputs": [
        {
          "output_type": "execute_result",
          "data": {
            "text/plain": [
              "tensor([[0., 0., 0.],\n",
              "        [0., 0., 0.],\n",
              "        [0., 0., 0.],\n",
              "        [0., 0., 0.]])"
            ]
          },
          "metadata": {
            "tags": []
          },
          "execution_count": 6
        }
      ]
    },
    {
      "cell_type": "code",
      "metadata": {
        "id": "gVdaTJb-KDkE"
      },
      "source": [
        ""
      ],
      "execution_count": null,
      "outputs": []
    },
    {
      "cell_type": "markdown",
      "metadata": {
        "id": "Jl7s1b1pz4Vb"
      },
      "source": [
        "## size() and shape"
      ]
    },
    {
      "cell_type": "code",
      "metadata": {
        "id": "1_Q-KIOPKK78",
        "colab": {
          "base_uri": "https://localhost:8080/"
        },
        "outputId": "0ac7e829-0135-413b-b6b4-51c6e49ddab0"
      },
      "source": [
        "w.size()"
      ],
      "execution_count": 7,
      "outputs": [
        {
          "output_type": "execute_result",
          "data": {
            "text/plain": [
              "torch.Size([4, 3])"
            ]
          },
          "metadata": {
            "tags": []
          },
          "execution_count": 7
        }
      ]
    },
    {
      "cell_type": "code",
      "metadata": {
        "id": "z1_a3ed1KK49",
        "colab": {
          "base_uri": "https://localhost:8080/"
        },
        "outputId": "14d4858a-707a-41f5-99c8-c94a63c85696"
      },
      "source": [
        "w.shape"
      ],
      "execution_count": 9,
      "outputs": [
        {
          "output_type": "execute_result",
          "data": {
            "text/plain": [
              "torch.Size([4, 3])"
            ]
          },
          "metadata": {
            "tags": []
          },
          "execution_count": 9
        }
      ]
    },
    {
      "cell_type": "code",
      "metadata": {
        "id": "K_yYV8EtKKzU"
      },
      "source": [
        ""
      ],
      "execution_count": null,
      "outputs": []
    },
    {
      "cell_type": "markdown",
      "metadata": {
        "id": "6OZJGG9w0DL6"
      },
      "source": [
        "## randn() and randn_like()"
      ]
    },
    {
      "cell_type": "code",
      "metadata": {
        "id": "pElZxDIKKPoc",
        "colab": {
          "base_uri": "https://localhost:8080/"
        },
        "outputId": "ba9c7302-4d44-4625-decd-9eec38a31aa0"
      },
      "source": [
        "w = torch.randn(4,3)\n",
        "w"
      ],
      "execution_count": 10,
      "outputs": [
        {
          "output_type": "execute_result",
          "data": {
            "text/plain": [
              "tensor([[ 0.8116, -0.0175,  1.2624],\n",
              "        [-0.4721,  0.1315,  1.0744],\n",
              "        [-0.0382, -0.9796, -0.8987],\n",
              "        [ 0.3137, -0.2732, -1.7904]])"
            ]
          },
          "metadata": {
            "tags": []
          },
          "execution_count": 10
        }
      ]
    },
    {
      "cell_type": "code",
      "metadata": {
        "id": "LDzpInhlKPl0",
        "colab": {
          "base_uri": "https://localhost:8080/"
        },
        "outputId": "6cd614e5-3aef-4dfa-ef71-e0bfa682a6a1"
      },
      "source": [
        "t = torch.rand_like(w)\n",
        "t"
      ],
      "execution_count": 11,
      "outputs": [
        {
          "output_type": "execute_result",
          "data": {
            "text/plain": [
              "tensor([[0.6517, 0.9168, 0.1794],\n",
              "        [0.3799, 0.6326, 0.2029],\n",
              "        [0.7190, 0.9403, 0.3736],\n",
              "        [0.4728, 0.6704, 0.4142]])"
            ]
          },
          "metadata": {
            "tags": []
          },
          "execution_count": 11
        }
      ]
    },
    {
      "cell_type": "code",
      "metadata": {
        "id": "Vx_9rDU4KPiE"
      },
      "source": [
        ""
      ],
      "execution_count": null,
      "outputs": []
    },
    {
      "cell_type": "markdown",
      "metadata": {
        "id": "3rshy4Vq0Jft"
      },
      "source": [
        "## fill_()"
      ]
    },
    {
      "cell_type": "code",
      "metadata": {
        "id": "YH1cBgIoKXGr",
        "colab": {
          "base_uri": "https://localhost:8080/"
        },
        "outputId": "28eea7be-3c1f-4a65-a3d9-277c684f4b5e"
      },
      "source": [
        "w.fill_(1)"
      ],
      "execution_count": 12,
      "outputs": [
        {
          "output_type": "execute_result",
          "data": {
            "text/plain": [
              "tensor([[1., 1., 1.],\n",
              "        [1., 1., 1.],\n",
              "        [1., 1., 1.],\n",
              "        [1., 1., 1.]])"
            ]
          },
          "metadata": {
            "tags": []
          },
          "execution_count": 12
        }
      ]
    },
    {
      "cell_type": "code",
      "metadata": {
        "id": "e8B5NyXJKXAS"
      },
      "source": [
        ""
      ],
      "execution_count": null,
      "outputs": []
    },
    {
      "cell_type": "code",
      "metadata": {
        "id": "f1bdHKbDKW5S"
      },
      "source": [
        ""
      ],
      "execution_count": null,
      "outputs": []
    },
    {
      "cell_type": "markdown",
      "metadata": {
        "id": "_eLyYpfw0ot_"
      },
      "source": [
        "## view()"
      ]
    },
    {
      "cell_type": "code",
      "metadata": {
        "id": "8SVsRZWjV6YX",
        "colab": {
          "base_uri": "https://localhost:8080/"
        },
        "outputId": "5a7d70f8-b149-4294-eba0-7908da016be9"
      },
      "source": [
        "t = w.view(3,4)\n",
        "t"
      ],
      "execution_count": 13,
      "outputs": [
        {
          "output_type": "execute_result",
          "data": {
            "text/plain": [
              "tensor([[1., 1., 1., 1.],\n",
              "        [1., 1., 1., 1.],\n",
              "        [1., 1., 1., 1.]])"
            ]
          },
          "metadata": {
            "tags": []
          },
          "execution_count": 13
        }
      ]
    },
    {
      "cell_type": "code",
      "metadata": {
        "id": "rRjvqiWBVhKH",
        "colab": {
          "base_uri": "https://localhost:8080/"
        },
        "outputId": "a75c149f-2b2a-4eb3-ee94-accc0174d115"
      },
      "source": [
        "w.view(3,-1)"
      ],
      "execution_count": 14,
      "outputs": [
        {
          "output_type": "execute_result",
          "data": {
            "text/plain": [
              "tensor([[1., 1., 1., 1.],\n",
              "        [1., 1., 1., 1.],\n",
              "        [1., 1., 1., 1.]])"
            ]
          },
          "metadata": {
            "tags": []
          },
          "execution_count": 14
        }
      ]
    },
    {
      "cell_type": "code",
      "metadata": {
        "id": "4Le5ZoASVgsw"
      },
      "source": [
        ""
      ],
      "execution_count": null,
      "outputs": []
    },
    {
      "cell_type": "markdown",
      "metadata": {
        "id": "O7OnDkxj329A"
      },
      "source": [
        "## numpy()"
      ]
    },
    {
      "cell_type": "code",
      "metadata": {
        "id": "VbXZYL6uWCD4",
        "colab": {
          "base_uri": "https://localhost:8080/"
        },
        "outputId": "6069e39a-2369-4126-e555-c7c7364ec8ee"
      },
      "source": [
        "w"
      ],
      "execution_count": 15,
      "outputs": [
        {
          "output_type": "execute_result",
          "data": {
            "text/plain": [
              "tensor([[1., 1., 1.],\n",
              "        [1., 1., 1.],\n",
              "        [1., 1., 1.],\n",
              "        [1., 1., 1.]])"
            ]
          },
          "metadata": {
            "tags": []
          },
          "execution_count": 15
        }
      ]
    },
    {
      "cell_type": "code",
      "metadata": {
        "id": "YL0za74iWBsn"
      },
      "source": [
        ""
      ],
      "execution_count": null,
      "outputs": []
    },
    {
      "cell_type": "code",
      "metadata": {
        "id": "vHPIyb8EWBkP",
        "colab": {
          "base_uri": "https://localhost:8080/"
        },
        "outputId": "f072064d-1952-44a3-bf6f-73e809e831ab"
      },
      "source": [
        "w.numpy()"
      ],
      "execution_count": 17,
      "outputs": [
        {
          "output_type": "execute_result",
          "data": {
            "text/plain": [
              "array([[1., 1., 1.],\n",
              "       [1., 1., 1.],\n",
              "       [1., 1., 1.],\n",
              "       [1., 1., 1.]], dtype=float32)"
            ]
          },
          "metadata": {
            "tags": []
          },
          "execution_count": 17
        }
      ]
    },
    {
      "cell_type": "code",
      "metadata": {
        "colab": {
          "base_uri": "https://localhost:8080/"
        },
        "id": "eVcKq4nEaH5I",
        "outputId": "9ef26f94-6052-4850-c8db-1dea6fbeb437"
      },
      "source": [
        "type(w.numpy())"
      ],
      "execution_count": 19,
      "outputs": [
        {
          "output_type": "execute_result",
          "data": {
            "text/plain": [
              "numpy.ndarray"
            ]
          },
          "metadata": {
            "tags": []
          },
          "execution_count": 19
        }
      ]
    },
    {
      "cell_type": "code",
      "metadata": {
        "id": "ALAMx2yWaMtw"
      },
      "source": [
        ""
      ],
      "execution_count": null,
      "outputs": []
    }
  ]
}